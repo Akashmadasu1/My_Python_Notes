{
  "nbformat": 4,
  "nbformat_minor": 0,
  "metadata": {
    "colab": {
      "provenance": [],
      "authorship_tag": "ABX9TyO6pfpaIwqnzAtvdY56aOMJ",
      "include_colab_link": true
    },
    "kernelspec": {
      "name": "python3",
      "display_name": "Python 3"
    },
    "language_info": {
      "name": "python"
    }
  },
  "cells": [
    {
      "cell_type": "markdown",
      "metadata": {
        "id": "view-in-github",
        "colab_type": "text"
      },
      "source": [
        "<a href=\"https://colab.research.google.com/github/Akashmadasu1/My_Python_Notes/blob/main/Akash_Pandas_NB.ipynb\" target=\"_parent\"><img src=\"https://colab.research.google.com/assets/colab-badge.svg\" alt=\"Open In Colab\"/></a>"
      ]
    },
    {
      "cell_type": "markdown",
      "source": [
        "# Intro to Pandas (2-06-2025)"
      ],
      "metadata": {
        "id": "H_ubkbVXtGke"
      }
    },
    {
      "cell_type": "code",
      "source": [
        "#what is pandas?\n",
        "#it is a open sources library, That works mainly with the labaelled data\n",
        "#why we are using pandas?\n",
        "#fast, high pedormance, and productive, and easy to load and read the data\n",
        "#flexible reshaping of the data and pivoting the data, we use in data visualisation and group by functionality\n",
        "#time series analysis"
      ],
      "metadata": {
        "id": "QKR6h4gLtFqm"
      },
      "execution_count": null,
      "outputs": []
    },
    {
      "cell_type": "code",
      "source": [
        "#what is the function of pandas?\n",
        "#Analysis the data, cleaning, exploring and manipulating the data."
      ],
      "metadata": {
        "id": "3PwSfyrkuky4"
      },
      "execution_count": null,
      "outputs": []
    },
    {
      "cell_type": "code",
      "source": [
        "#what is data cleaning?\n",
        "#delete irrelevent data, empty or null values, correction of data types , fill null values"
      ],
      "metadata": {
        "id": "BfHoA4GAu1b6"
      },
      "execution_count": null,
      "outputs": []
    },
    {
      "cell_type": "markdown",
      "source": [
        "**Installation of pandas**"
      ],
      "metadata": {
        "id": "wA0GGPypvIur"
      }
    },
    {
      "cell_type": "code",
      "source": [
        "!pip install pandas"
      ],
      "metadata": {
        "id": "aYIfN1GuvRgy"
      },
      "execution_count": null,
      "outputs": []
    },
    {
      "cell_type": "code",
      "source": [
        "#import the module\n",
        "import pandas as pd"
      ],
      "metadata": {
        "id": "6oXawEjkvXWD"
      },
      "execution_count": null,
      "outputs": []
    },
    {
      "cell_type": "code",
      "source": [
        "#How many data structures do we have in pandas?\n",
        "#There are 3 types:-\n",
        "#1.SERIES:- series are nothing but 1D labelled Arrays's\n",
        "#How can we build a series?\n",
        "sr = pd.Series([1,2,3,4,5])\n",
        "print(sr)"
      ],
      "metadata": {
        "colab": {
          "base_uri": "https://localhost:8080/"
        },
        "id": "YH-StsCvvk1j",
        "outputId": "a92c876a-fc26-48d1-ae4b-256bed97f161"
      },
      "execution_count": null,
      "outputs": [
        {
          "output_type": "stream",
          "name": "stdout",
          "text": [
            "0    1\n",
            "1    2\n",
            "2    3\n",
            "3    4\n",
            "4    5\n",
            "dtype: int64\n"
          ]
        }
      ]
    },
    {
      "cell_type": "code",
      "source": [
        "import numpy as np\n",
        "a = np.array([1,2,3,4,5])\n",
        "print(a)"
      ],
      "metadata": {
        "colab": {
          "base_uri": "https://localhost:8080/"
        },
        "id": "00XRch14we4H",
        "outputId": "7deadb50-880e-4aaf-f8a2-2b58ac38226a"
      },
      "execution_count": null,
      "outputs": [
        {
          "output_type": "stream",
          "name": "stdout",
          "text": [
            "[1 2 3 4 5]\n"
          ]
        }
      ]
    },
    {
      "cell_type": "code",
      "source": [
        "#How can we change the labelles?\n",
        "sr = pd.Series(a, index=['a','b','c','d','e'])\n",
        "print(sr)"
      ],
      "metadata": {
        "colab": {
          "base_uri": "https://localhost:8080/"
        },
        "id": "h-YzrYVNwoqD",
        "outputId": "493f14e0-811a-435f-b02f-28ea81251e96"
      },
      "execution_count": null,
      "outputs": [
        {
          "output_type": "stream",
          "name": "stdout",
          "text": [
            "a    1\n",
            "b    2\n",
            "c    3\n",
            "d    4\n",
            "e    5\n",
            "dtype: int64\n"
          ]
        }
      ]
    },
    {
      "cell_type": "code",
      "source": [
        "#create a series from the dictionary?\n",
        "d = {\n",
        "    \"name\" : \"medha\",\n",
        "    \"course\" : \"DS\",\n",
        "    \"duration\" : \"4 months\"\n",
        "}\n",
        "sr = pd.Series(d)\n",
        "print(sr)\n",
        "#How can we represent a series in pandas\n",
        "print(type(sr))\n",
        "#ans) <class 'pandas.core.series.Series'>"
      ],
      "metadata": {
        "colab": {
          "base_uri": "https://localhost:8080/"
        },
        "id": "Aditnw96w5CG",
        "outputId": "b5ad63e0-57a5-4264-db0c-30e60ccaafce"
      },
      "execution_count": null,
      "outputs": [
        {
          "output_type": "stream",
          "name": "stdout",
          "text": [
            "name           medha\n",
            "course            DS\n",
            "duration    4 months\n",
            "dtype: object\n",
            "<class 'pandas.core.series.Series'>\n"
          ]
        }
      ]
    },
    {
      "cell_type": "code",
      "source": [
        "#create a series from tuple of fruits and give the lables as 'a','b','c','d'\n",
        "#create a series from list of fruits and give the lables as 'a','b','c','d'"
      ],
      "metadata": {
        "id": "3GoAaZdJyUxK"
      },
      "execution_count": null,
      "outputs": []
    },
    {
      "cell_type": "code",
      "source": [
        "#can we create a series from the set--> No\n",
        "a = {1,2,3,4}\n",
        "sr = pd.Series(a)\n",
        "print(sr)"
      ],
      "metadata": {
        "id": "RQmhDF_-yomo"
      },
      "execution_count": null,
      "outputs": []
    },
    {
      "cell_type": "code",
      "source": [
        "#2.2D-Data-Frame:-\n",
        "#Data Frame is a 2D size heterogenous data with labelled axis(rows and columns), mutable\n",
        "#columns also known as features, variables, fields, dimensions, attributes\n",
        "#rows lso known as records, vlaues, index"
      ],
      "metadata": {
        "id": "D7lsEZKoy91y"
      },
      "execution_count": null,
      "outputs": []
    },
    {
      "cell_type": "code",
      "source": [
        "#what is the application fo dataframe?\n",
        "'''\n",
        "work on data sets\n",
        "analysis\n",
        "dropping\n",
        "processing\n",
        "cleaning\n",
        "join the multiple data\n",
        "create excel, json, and binary files...etc\n",
        "compute mathematical and statistical operations\n",
        "use group by function\n",
        "'''"
      ],
      "metadata": {
        "id": "Mm7TTV7Vz2gY"
      },
      "execution_count": null,
      "outputs": []
    },
    {
      "cell_type": "code",
      "source": [
        "#create a dataframe from list\n",
        "l = [1,2,3,4,5,6,7]\n",
        "df = pd.DataFrame(l)\n",
        "print(df)"
      ],
      "metadata": {
        "colab": {
          "base_uri": "https://localhost:8080/"
        },
        "id": "4jUzde9j0q5y",
        "outputId": "0cb3a425-19d8-4705-f89a-bcc57764d1f0"
      },
      "execution_count": null,
      "outputs": [
        {
          "output_type": "stream",
          "name": "stdout",
          "text": [
            "   0\n",
            "0  1\n",
            "1  2\n",
            "2  3\n",
            "3  4\n",
            "4  5\n",
            "5  6\n",
            "6  7\n"
          ]
        }
      ]
    },
    {
      "cell_type": "code",
      "source": [
        "#create a dataframe from the set of fruits or number\n",
        "s1 = {'apple','banana','cherry','grapes','orange'}\n",
        "df = pd.DataFrame(s1,index=['a','b','c','d','e'])\n",
        "print(df)\n",
        "#"
      ],
      "metadata": {
        "colab": {
          "base_uri": "https://localhost:8080/"
        },
        "id": "gwJH3BRh03g7",
        "outputId": "23ebf4ad-c37f-4fb6-ce88-c338842d4706"
      },
      "execution_count": null,
      "outputs": [
        {
          "output_type": "stream",
          "name": "stdout",
          "text": [
            "        0\n",
            "a   apple\n",
            "b  cherry\n",
            "c  grapes\n",
            "d  orange\n",
            "e  banana\n"
          ]
        }
      ]
    },
    {
      "cell_type": "markdown",
      "source": [
        "**Importing and exporting the data**"
      ],
      "metadata": {
        "id": "XoSmGEWO1j6v"
      }
    },
    {
      "cell_type": "code",
      "source": [
        "#1.csv-->comma, seprate, values\n",
        "#Read the csv files by using the pandas\n",
        "import pandas as pd"
      ],
      "metadata": {
        "id": "ppZVwSen109B"
      },
      "execution_count": 3,
      "outputs": []
    },
    {
      "cell_type": "code",
      "source": [
        "#package-->modules<--code libraries\n",
        "df = pd.read_csv('/content/sample_data/california_housing_test.csv')\n",
        "#covert the above data in to excel foramt\n",
        "df.to_excel('california_housing_test.xlsx')"
      ],
      "metadata": {
        "id": "fOKryNLO2l3b"
      },
      "execution_count": 4,
      "outputs": []
    },
    {
      "cell_type": "code",
      "source": [
        "#read the df\n",
        "df.head(10)"
      ],
      "metadata": {
        "id": "JA0TOitL3JZF"
      },
      "execution_count": null,
      "outputs": []
    },
    {
      "cell_type": "code",
      "source": [
        "#read the excel file\n",
        "df2 = pd.read_excel('/content/california_housing_test.xlsx')\n",
        "df2.head()"
      ],
      "metadata": {
        "id": "BbQuftTH3PHm"
      },
      "execution_count": null,
      "outputs": []
    },
    {
      "cell_type": "code",
      "source": [
        "#convert the excel file into json format\n",
        "df2.to_json('california_housing_test.json')"
      ],
      "metadata": {
        "id": "edLMnMV7342f"
      },
      "execution_count": null,
      "outputs": []
    },
    {
      "cell_type": "code",
      "source": [
        "#read the json file\n",
        "df3 = pd.read_json('/content/california_housing_test.json')\n",
        "df3.head()"
      ],
      "metadata": {
        "id": "259NVdeT4TOC"
      },
      "execution_count": null,
      "outputs": []
    },
    {
      "cell_type": "markdown",
      "source": [
        "**Data Frame functions**"
      ],
      "metadata": {
        "id": "Ah_r5OpD5F8A"
      }
    },
    {
      "cell_type": "code",
      "source": [
        "#step1:- read the data\n",
        "df = pd.read_csv('/content/sample_data/california_housing_train.csv')"
      ],
      "metadata": {
        "id": "e1v6JzTW5MCv"
      },
      "execution_count": 5,
      "outputs": []
    },
    {
      "cell_type": "code",
      "source": [
        "#step2:- check the size and index of the df\n",
        "df.size #size->no of rows * no of columns\n",
        "#index gives the range of index from start to end along with the step\n",
        "df.index"
      ],
      "metadata": {
        "colab": {
          "base_uri": "https://localhost:8080/"
        },
        "id": "oYBDERTr5X0j",
        "outputId": "5aa8243a-6106-4702-9bf8-255943f31567"
      },
      "execution_count": null,
      "outputs": [
        {
          "output_type": "execute_result",
          "data": {
            "text/plain": [
              "RangeIndex(start=0, stop=17000, step=1)"
            ]
          },
          "metadata": {},
          "execution_count": 28
        }
      ]
    },
    {
      "cell_type": "code",
      "source": [
        "#read the columns of your data\n",
        "df.columns"
      ],
      "metadata": {
        "id": "kIQvCdYL53oC"
      },
      "execution_count": null,
      "outputs": []
    },
    {
      "cell_type": "code",
      "source": [
        "#check the no of rows and columns\n",
        "df.shape\n"
      ],
      "metadata": {
        "id": "gta3PJjX6A0y"
      },
      "execution_count": null,
      "outputs": []
    },
    {
      "cell_type": "code",
      "source": [
        "#get the overall infromation of the dataframe?\n",
        "df.info()"
      ],
      "metadata": {
        "id": "Ne93Vu8y6RrF"
      },
      "execution_count": null,
      "outputs": []
    },
    {
      "cell_type": "markdown",
      "source": [
        "This data is having 17000 rows and 9 columns\n",
        "\n",
        "There no null values\n",
        "\n",
        "For all the columns the data type is float"
      ],
      "metadata": {
        "id": "7IZZ5asF6zUk"
      }
    },
    {
      "cell_type": "code",
      "source": [
        "#print the data types for above dataframe\n",
        "df.dtypes"
      ],
      "metadata": {
        "id": "D4QrADOu7DK_"
      },
      "execution_count": null,
      "outputs": []
    },
    {
      "cell_type": "code",
      "source": [
        "#How to describe the overall data according to staistics?\n",
        "df.describe()"
      ],
      "metadata": {
        "id": "UtWaWtn87tGy",
        "colab": {
          "base_uri": "https://localhost:8080/",
          "height": 300
        },
        "outputId": "0dfd2f32-a75e-4849-fc8f-fd70598439d2"
      },
      "execution_count": 6,
      "outputs": [
        {
          "output_type": "execute_result",
          "data": {
            "text/plain": [
              "          longitude      latitude  housing_median_age   total_rooms  \\\n",
              "count  17000.000000  17000.000000        17000.000000  17000.000000   \n",
              "mean    -119.562108     35.625225           28.589353   2643.664412   \n",
              "std        2.005166      2.137340           12.586937   2179.947071   \n",
              "min     -124.350000     32.540000            1.000000      2.000000   \n",
              "25%     -121.790000     33.930000           18.000000   1462.000000   \n",
              "50%     -118.490000     34.250000           29.000000   2127.000000   \n",
              "75%     -118.000000     37.720000           37.000000   3151.250000   \n",
              "max     -114.310000     41.950000           52.000000  37937.000000   \n",
              "\n",
              "       total_bedrooms    population    households  median_income  \\\n",
              "count    17000.000000  17000.000000  17000.000000   17000.000000   \n",
              "mean       539.410824   1429.573941    501.221941       3.883578   \n",
              "std        421.499452   1147.852959    384.520841       1.908157   \n",
              "min          1.000000      3.000000      1.000000       0.499900   \n",
              "25%        297.000000    790.000000    282.000000       2.566375   \n",
              "50%        434.000000   1167.000000    409.000000       3.544600   \n",
              "75%        648.250000   1721.000000    605.250000       4.767000   \n",
              "max       6445.000000  35682.000000   6082.000000      15.000100   \n",
              "\n",
              "       median_house_value  \n",
              "count        17000.000000  \n",
              "mean        207300.912353  \n",
              "std         115983.764387  \n",
              "min          14999.000000  \n",
              "25%         119400.000000  \n",
              "50%         180400.000000  \n",
              "75%         265000.000000  \n",
              "max         500001.000000  "
            ],
            "text/html": [
              "\n",
              "  <div id=\"df-022b573b-96c8-410a-9b03-65e034a759a7\" class=\"colab-df-container\">\n",
              "    <div>\n",
              "<style scoped>\n",
              "    .dataframe tbody tr th:only-of-type {\n",
              "        vertical-align: middle;\n",
              "    }\n",
              "\n",
              "    .dataframe tbody tr th {\n",
              "        vertical-align: top;\n",
              "    }\n",
              "\n",
              "    .dataframe thead th {\n",
              "        text-align: right;\n",
              "    }\n",
              "</style>\n",
              "<table border=\"1\" class=\"dataframe\">\n",
              "  <thead>\n",
              "    <tr style=\"text-align: right;\">\n",
              "      <th></th>\n",
              "      <th>longitude</th>\n",
              "      <th>latitude</th>\n",
              "      <th>housing_median_age</th>\n",
              "      <th>total_rooms</th>\n",
              "      <th>total_bedrooms</th>\n",
              "      <th>population</th>\n",
              "      <th>households</th>\n",
              "      <th>median_income</th>\n",
              "      <th>median_house_value</th>\n",
              "    </tr>\n",
              "  </thead>\n",
              "  <tbody>\n",
              "    <tr>\n",
              "      <th>count</th>\n",
              "      <td>17000.000000</td>\n",
              "      <td>17000.000000</td>\n",
              "      <td>17000.000000</td>\n",
              "      <td>17000.000000</td>\n",
              "      <td>17000.000000</td>\n",
              "      <td>17000.000000</td>\n",
              "      <td>17000.000000</td>\n",
              "      <td>17000.000000</td>\n",
              "      <td>17000.000000</td>\n",
              "    </tr>\n",
              "    <tr>\n",
              "      <th>mean</th>\n",
              "      <td>-119.562108</td>\n",
              "      <td>35.625225</td>\n",
              "      <td>28.589353</td>\n",
              "      <td>2643.664412</td>\n",
              "      <td>539.410824</td>\n",
              "      <td>1429.573941</td>\n",
              "      <td>501.221941</td>\n",
              "      <td>3.883578</td>\n",
              "      <td>207300.912353</td>\n",
              "    </tr>\n",
              "    <tr>\n",
              "      <th>std</th>\n",
              "      <td>2.005166</td>\n",
              "      <td>2.137340</td>\n",
              "      <td>12.586937</td>\n",
              "      <td>2179.947071</td>\n",
              "      <td>421.499452</td>\n",
              "      <td>1147.852959</td>\n",
              "      <td>384.520841</td>\n",
              "      <td>1.908157</td>\n",
              "      <td>115983.764387</td>\n",
              "    </tr>\n",
              "    <tr>\n",
              "      <th>min</th>\n",
              "      <td>-124.350000</td>\n",
              "      <td>32.540000</td>\n",
              "      <td>1.000000</td>\n",
              "      <td>2.000000</td>\n",
              "      <td>1.000000</td>\n",
              "      <td>3.000000</td>\n",
              "      <td>1.000000</td>\n",
              "      <td>0.499900</td>\n",
              "      <td>14999.000000</td>\n",
              "    </tr>\n",
              "    <tr>\n",
              "      <th>25%</th>\n",
              "      <td>-121.790000</td>\n",
              "      <td>33.930000</td>\n",
              "      <td>18.000000</td>\n",
              "      <td>1462.000000</td>\n",
              "      <td>297.000000</td>\n",
              "      <td>790.000000</td>\n",
              "      <td>282.000000</td>\n",
              "      <td>2.566375</td>\n",
              "      <td>119400.000000</td>\n",
              "    </tr>\n",
              "    <tr>\n",
              "      <th>50%</th>\n",
              "      <td>-118.490000</td>\n",
              "      <td>34.250000</td>\n",
              "      <td>29.000000</td>\n",
              "      <td>2127.000000</td>\n",
              "      <td>434.000000</td>\n",
              "      <td>1167.000000</td>\n",
              "      <td>409.000000</td>\n",
              "      <td>3.544600</td>\n",
              "      <td>180400.000000</td>\n",
              "    </tr>\n",
              "    <tr>\n",
              "      <th>75%</th>\n",
              "      <td>-118.000000</td>\n",
              "      <td>37.720000</td>\n",
              "      <td>37.000000</td>\n",
              "      <td>3151.250000</td>\n",
              "      <td>648.250000</td>\n",
              "      <td>1721.000000</td>\n",
              "      <td>605.250000</td>\n",
              "      <td>4.767000</td>\n",
              "      <td>265000.000000</td>\n",
              "    </tr>\n",
              "    <tr>\n",
              "      <th>max</th>\n",
              "      <td>-114.310000</td>\n",
              "      <td>41.950000</td>\n",
              "      <td>52.000000</td>\n",
              "      <td>37937.000000</td>\n",
              "      <td>6445.000000</td>\n",
              "      <td>35682.000000</td>\n",
              "      <td>6082.000000</td>\n",
              "      <td>15.000100</td>\n",
              "      <td>500001.000000</td>\n",
              "    </tr>\n",
              "  </tbody>\n",
              "</table>\n",
              "</div>\n",
              "    <div class=\"colab-df-buttons\">\n",
              "\n",
              "  <div class=\"colab-df-container\">\n",
              "    <button class=\"colab-df-convert\" onclick=\"convertToInteractive('df-022b573b-96c8-410a-9b03-65e034a759a7')\"\n",
              "            title=\"Convert this dataframe to an interactive table.\"\n",
              "            style=\"display:none;\">\n",
              "\n",
              "  <svg xmlns=\"http://www.w3.org/2000/svg\" height=\"24px\" viewBox=\"0 -960 960 960\">\n",
              "    <path d=\"M120-120v-720h720v720H120Zm60-500h600v-160H180v160Zm220 220h160v-160H400v160Zm0 220h160v-160H400v160ZM180-400h160v-160H180v160Zm440 0h160v-160H620v160ZM180-180h160v-160H180v160Zm440 0h160v-160H620v160Z\"/>\n",
              "  </svg>\n",
              "    </button>\n",
              "\n",
              "  <style>\n",
              "    .colab-df-container {\n",
              "      display:flex;\n",
              "      gap: 12px;\n",
              "    }\n",
              "\n",
              "    .colab-df-convert {\n",
              "      background-color: #E8F0FE;\n",
              "      border: none;\n",
              "      border-radius: 50%;\n",
              "      cursor: pointer;\n",
              "      display: none;\n",
              "      fill: #1967D2;\n",
              "      height: 32px;\n",
              "      padding: 0 0 0 0;\n",
              "      width: 32px;\n",
              "    }\n",
              "\n",
              "    .colab-df-convert:hover {\n",
              "      background-color: #E2EBFA;\n",
              "      box-shadow: 0px 1px 2px rgba(60, 64, 67, 0.3), 0px 1px 3px 1px rgba(60, 64, 67, 0.15);\n",
              "      fill: #174EA6;\n",
              "    }\n",
              "\n",
              "    .colab-df-buttons div {\n",
              "      margin-bottom: 4px;\n",
              "    }\n",
              "\n",
              "    [theme=dark] .colab-df-convert {\n",
              "      background-color: #3B4455;\n",
              "      fill: #D2E3FC;\n",
              "    }\n",
              "\n",
              "    [theme=dark] .colab-df-convert:hover {\n",
              "      background-color: #434B5C;\n",
              "      box-shadow: 0px 1px 3px 1px rgba(0, 0, 0, 0.15);\n",
              "      filter: drop-shadow(0px 1px 2px rgba(0, 0, 0, 0.3));\n",
              "      fill: #FFFFFF;\n",
              "    }\n",
              "  </style>\n",
              "\n",
              "    <script>\n",
              "      const buttonEl =\n",
              "        document.querySelector('#df-022b573b-96c8-410a-9b03-65e034a759a7 button.colab-df-convert');\n",
              "      buttonEl.style.display =\n",
              "        google.colab.kernel.accessAllowed ? 'block' : 'none';\n",
              "\n",
              "      async function convertToInteractive(key) {\n",
              "        const element = document.querySelector('#df-022b573b-96c8-410a-9b03-65e034a759a7');\n",
              "        const dataTable =\n",
              "          await google.colab.kernel.invokeFunction('convertToInteractive',\n",
              "                                                    [key], {});\n",
              "        if (!dataTable) return;\n",
              "\n",
              "        const docLinkHtml = 'Like what you see? Visit the ' +\n",
              "          '<a target=\"_blank\" href=https://colab.research.google.com/notebooks/data_table.ipynb>data table notebook</a>'\n",
              "          + ' to learn more about interactive tables.';\n",
              "        element.innerHTML = '';\n",
              "        dataTable['output_type'] = 'display_data';\n",
              "        await google.colab.output.renderOutput(dataTable, element);\n",
              "        const docLink = document.createElement('div');\n",
              "        docLink.innerHTML = docLinkHtml;\n",
              "        element.appendChild(docLink);\n",
              "      }\n",
              "    </script>\n",
              "  </div>\n",
              "\n",
              "\n",
              "    <div id=\"df-2acb0db6-21fb-4203-b1cf-2dac8bf2dd82\">\n",
              "      <button class=\"colab-df-quickchart\" onclick=\"quickchart('df-2acb0db6-21fb-4203-b1cf-2dac8bf2dd82')\"\n",
              "                title=\"Suggest charts\"\n",
              "                style=\"display:none;\">\n",
              "\n",
              "<svg xmlns=\"http://www.w3.org/2000/svg\" height=\"24px\"viewBox=\"0 0 24 24\"\n",
              "     width=\"24px\">\n",
              "    <g>\n",
              "        <path d=\"M19 3H5c-1.1 0-2 .9-2 2v14c0 1.1.9 2 2 2h14c1.1 0 2-.9 2-2V5c0-1.1-.9-2-2-2zM9 17H7v-7h2v7zm4 0h-2V7h2v10zm4 0h-2v-4h2v4z\"/>\n",
              "    </g>\n",
              "</svg>\n",
              "      </button>\n",
              "\n",
              "<style>\n",
              "  .colab-df-quickchart {\n",
              "      --bg-color: #E8F0FE;\n",
              "      --fill-color: #1967D2;\n",
              "      --hover-bg-color: #E2EBFA;\n",
              "      --hover-fill-color: #174EA6;\n",
              "      --disabled-fill-color: #AAA;\n",
              "      --disabled-bg-color: #DDD;\n",
              "  }\n",
              "\n",
              "  [theme=dark] .colab-df-quickchart {\n",
              "      --bg-color: #3B4455;\n",
              "      --fill-color: #D2E3FC;\n",
              "      --hover-bg-color: #434B5C;\n",
              "      --hover-fill-color: #FFFFFF;\n",
              "      --disabled-bg-color: #3B4455;\n",
              "      --disabled-fill-color: #666;\n",
              "  }\n",
              "\n",
              "  .colab-df-quickchart {\n",
              "    background-color: var(--bg-color);\n",
              "    border: none;\n",
              "    border-radius: 50%;\n",
              "    cursor: pointer;\n",
              "    display: none;\n",
              "    fill: var(--fill-color);\n",
              "    height: 32px;\n",
              "    padding: 0;\n",
              "    width: 32px;\n",
              "  }\n",
              "\n",
              "  .colab-df-quickchart:hover {\n",
              "    background-color: var(--hover-bg-color);\n",
              "    box-shadow: 0 1px 2px rgba(60, 64, 67, 0.3), 0 1px 3px 1px rgba(60, 64, 67, 0.15);\n",
              "    fill: var(--button-hover-fill-color);\n",
              "  }\n",
              "\n",
              "  .colab-df-quickchart-complete:disabled,\n",
              "  .colab-df-quickchart-complete:disabled:hover {\n",
              "    background-color: var(--disabled-bg-color);\n",
              "    fill: var(--disabled-fill-color);\n",
              "    box-shadow: none;\n",
              "  }\n",
              "\n",
              "  .colab-df-spinner {\n",
              "    border: 2px solid var(--fill-color);\n",
              "    border-color: transparent;\n",
              "    border-bottom-color: var(--fill-color);\n",
              "    animation:\n",
              "      spin 1s steps(1) infinite;\n",
              "  }\n",
              "\n",
              "  @keyframes spin {\n",
              "    0% {\n",
              "      border-color: transparent;\n",
              "      border-bottom-color: var(--fill-color);\n",
              "      border-left-color: var(--fill-color);\n",
              "    }\n",
              "    20% {\n",
              "      border-color: transparent;\n",
              "      border-left-color: var(--fill-color);\n",
              "      border-top-color: var(--fill-color);\n",
              "    }\n",
              "    30% {\n",
              "      border-color: transparent;\n",
              "      border-left-color: var(--fill-color);\n",
              "      border-top-color: var(--fill-color);\n",
              "      border-right-color: var(--fill-color);\n",
              "    }\n",
              "    40% {\n",
              "      border-color: transparent;\n",
              "      border-right-color: var(--fill-color);\n",
              "      border-top-color: var(--fill-color);\n",
              "    }\n",
              "    60% {\n",
              "      border-color: transparent;\n",
              "      border-right-color: var(--fill-color);\n",
              "    }\n",
              "    80% {\n",
              "      border-color: transparent;\n",
              "      border-right-color: var(--fill-color);\n",
              "      border-bottom-color: var(--fill-color);\n",
              "    }\n",
              "    90% {\n",
              "      border-color: transparent;\n",
              "      border-bottom-color: var(--fill-color);\n",
              "    }\n",
              "  }\n",
              "</style>\n",
              "\n",
              "      <script>\n",
              "        async function quickchart(key) {\n",
              "          const quickchartButtonEl =\n",
              "            document.querySelector('#' + key + ' button');\n",
              "          quickchartButtonEl.disabled = true;  // To prevent multiple clicks.\n",
              "          quickchartButtonEl.classList.add('colab-df-spinner');\n",
              "          try {\n",
              "            const charts = await google.colab.kernel.invokeFunction(\n",
              "                'suggestCharts', [key], {});\n",
              "          } catch (error) {\n",
              "            console.error('Error during call to suggestCharts:', error);\n",
              "          }\n",
              "          quickchartButtonEl.classList.remove('colab-df-spinner');\n",
              "          quickchartButtonEl.classList.add('colab-df-quickchart-complete');\n",
              "        }\n",
              "        (() => {\n",
              "          let quickchartButtonEl =\n",
              "            document.querySelector('#df-2acb0db6-21fb-4203-b1cf-2dac8bf2dd82 button');\n",
              "          quickchartButtonEl.style.display =\n",
              "            google.colab.kernel.accessAllowed ? 'block' : 'none';\n",
              "        })();\n",
              "      </script>\n",
              "    </div>\n",
              "\n",
              "    </div>\n",
              "  </div>\n"
            ],
            "application/vnd.google.colaboratory.intrinsic+json": {
              "type": "dataframe",
              "summary": "{\n  \"name\": \"df\",\n  \"rows\": 8,\n  \"fields\": [\n    {\n      \"column\": \"longitude\",\n      \"properties\": {\n        \"dtype\": \"number\",\n        \"std\": 6046.6451651071675,\n        \"min\": -124.35,\n        \"max\": 17000.0,\n        \"num_unique_values\": 8,\n        \"samples\": [\n          -119.5621082352941,\n          -118.49,\n          17000.0\n        ],\n        \"semantic_type\": \"\",\n        \"description\": \"\"\n      }\n    },\n    {\n      \"column\": \"latitude\",\n      \"properties\": {\n        \"dtype\": \"number\",\n        \"std\": 5999.40166383228,\n        \"min\": 2.1373397946570734,\n        \"max\": 17000.0,\n        \"num_unique_values\": 8,\n        \"samples\": [\n          35.62522470588235,\n          34.25,\n          17000.0\n        ],\n        \"semantic_type\": \"\",\n        \"description\": \"\"\n      }\n    },\n    {\n      \"column\": \"housing_median_age\",\n      \"properties\": {\n        \"dtype\": \"number\",\n        \"std\": 6001.428368089024,\n        \"min\": 1.0,\n        \"max\": 17000.0,\n        \"num_unique_values\": 8,\n        \"samples\": [\n          28.58935294117647,\n          29.0,\n          17000.0\n        ],\n        \"semantic_type\": \"\",\n        \"description\": \"\"\n      }\n    },\n    {\n      \"column\": \"total_rooms\",\n      \"properties\": {\n        \"dtype\": \"number\",\n        \"std\": 13113.353227786365,\n        \"min\": 2.0,\n        \"max\": 37937.0,\n        \"num_unique_values\": 8,\n        \"samples\": [\n          2643.664411764706,\n          2127.0,\n          17000.0\n        ],\n        \"semantic_type\": \"\",\n        \"description\": \"\"\n      }\n    },\n    {\n      \"column\": \"total_bedrooms\",\n      \"properties\": {\n        \"dtype\": \"number\",\n        \"std\": 5959.238771737063,\n        \"min\": 1.0,\n        \"max\": 17000.0,\n        \"num_unique_values\": 8,\n        \"samples\": [\n          539.4108235294118,\n          434.0,\n          17000.0\n        ],\n        \"semantic_type\": \"\",\n        \"description\": \"\"\n      }\n    },\n    {\n      \"column\": \"population\",\n      \"properties\": {\n        \"dtype\": \"number\",\n        \"std\": 12740.640658201448,\n        \"min\": 3.0,\n        \"max\": 35682.0,\n        \"num_unique_values\": 8,\n        \"samples\": [\n          1429.5739411764705,\n          1167.0,\n          17000.0\n        ],\n        \"semantic_type\": \"\",\n        \"description\": \"\"\n      }\n    },\n    {\n      \"column\": \"households\",\n      \"properties\": {\n        \"dtype\": \"number\",\n        \"std\": 5942.738122392389,\n        \"min\": 1.0,\n        \"max\": 17000.0,\n        \"num_unique_values\": 8,\n        \"samples\": [\n          501.2219411764706,\n          409.0,\n          17000.0\n        ],\n        \"semantic_type\": \"\",\n        \"description\": \"\"\n      }\n    },\n    {\n      \"column\": \"median_income\",\n      \"properties\": {\n        \"dtype\": \"number\",\n        \"std\": 6008.784464952051,\n        \"min\": 0.4999,\n        \"max\": 17000.0,\n        \"num_unique_values\": 8,\n        \"samples\": [\n          3.8835781000000007,\n          3.5446,\n          17000.0\n        ],\n        \"semantic_type\": \"\",\n        \"description\": \"\"\n      }\n    },\n    {\n      \"column\": \"median_house_value\",\n      \"properties\": {\n        \"dtype\": \"number\",\n        \"std\": 156700.95757149634,\n        \"min\": 14999.0,\n        \"max\": 500001.0,\n        \"num_unique_values\": 8,\n        \"samples\": [\n          207300.91235294117,\n          180400.0,\n          17000.0\n        ],\n        \"semantic_type\": \"\",\n        \"description\": \"\"\n      }\n    }\n  ]\n}"
            }
          },
          "metadata": {},
          "execution_count": 6
        }
      ]
    },
    {
      "cell_type": "code",
      "source": [
        "#print the last 5 rows fo above df\n",
        "df.tail()"
      ],
      "metadata": {
        "id": "q7P7eJ2x8MVl"
      },
      "execution_count": null,
      "outputs": []
    },
    {
      "cell_type": "code",
      "source": [
        "#check th null values\n",
        "df.isnull() #returns the boolean expression of null values present or not"
      ],
      "metadata": {
        "id": "bnI7z9iL8XUP"
      },
      "execution_count": null,
      "outputs": []
    },
    {
      "cell_type": "code",
      "source": [
        "df.isnull().sum()"
      ],
      "metadata": {
        "id": "5KD6DivK83wE"
      },
      "execution_count": null,
      "outputs": []
    },
    {
      "cell_type": "code",
      "source": [
        "#1. pd.Series(name,index=[a,b,c])\n",
        "#2. pd.DataFrame(name,index)\n",
        "#3. pd.read_csv(\"file path\") ->read the csv\n",
        "#4. df.head() - >by default it read the 1st 5 rows\n",
        "#5. df.shape -> read the rows and columns\n",
        "#6. df.index ->returns the range of indexes from start to end along with step\n",
        "#7. df.columns ->read th columns of the dats\n",
        "#8. df.info() -> overall information of df\n",
        "#9. df.describe() ->description stats of dataframe\n",
        "#10. df.tail --> by default it reads last 5 rows of the df\n",
        "#11. df.isnull().sum() ->gives the total null values in the dataframe"
      ],
      "metadata": {
        "id": "l_Q2G-4285DE"
      },
      "execution_count": null,
      "outputs": []
    },
    {
      "cell_type": "markdown",
      "source": [
        "# (3-05-2025)"
      ],
      "metadata": {
        "id": "8BpB7I76Gdzi"
      }
    },
    {
      "cell_type": "markdown",
      "source": [
        "**Access the DataFrame**"
      ],
      "metadata": {
        "id": "FIUSorf1GqHK"
      }
    },
    {
      "cell_type": "code",
      "source": [
        "import pandas as pd"
      ],
      "metadata": {
        "id": "Yg-ga4RlGhWO"
      },
      "execution_count": 1,
      "outputs": []
    },
    {
      "cell_type": "code",
      "source": [
        "df = pd.read_csv('/content/sample_data/california_housing_train.csv')\n",
        "#read 1st 5 rows of the df\n",
        "df.head()"
      ],
      "metadata": {
        "id": "Sk_kO8OZGzLM"
      },
      "execution_count": null,
      "outputs": []
    },
    {
      "cell_type": "code",
      "source": [
        "#print the column names\n",
        "df.columns"
      ],
      "metadata": {
        "colab": {
          "base_uri": "https://localhost:8080/"
        },
        "id": "ZJ82RU_JHAHD",
        "outputId": "3f315de5-b35b-4125-e9a0-f3d2859146c8"
      },
      "execution_count": 3,
      "outputs": [
        {
          "output_type": "execute_result",
          "data": {
            "text/plain": [
              "Index(['longitude', 'latitude', 'housing_median_age', 'total_rooms',\n",
              "       'total_bedrooms', 'population', 'households', 'median_income',\n",
              "       'median_house_value'],\n",
              "      dtype='object')"
            ]
          },
          "metadata": {},
          "execution_count": 3
        }
      ]
    },
    {
      "cell_type": "code",
      "source": [
        "#read and access the column 'total_bedrooms'\n",
        "df['total_bedrooms']"
      ],
      "metadata": {
        "id": "gfBIbhTyHHE0"
      },
      "execution_count": null,
      "outputs": []
    },
    {
      "cell_type": "code",
      "source": [
        "#read the first 5 rows\n",
        "df['total_bedrooms'].head()\n",
        "df['total_bedrooms'].tail()"
      ],
      "metadata": {
        "id": "X7dbt_-YHV1t"
      },
      "execution_count": null,
      "outputs": []
    },
    {
      "cell_type": "code",
      "source": [
        "df['total_bedrooms'].head()\n",
        "#print th e1st row value of column 'total_bedrooms'\n",
        "df['total_bedrooms'][0]"
      ],
      "metadata": {
        "colab": {
          "base_uri": "https://localhost:8080/"
        },
        "id": "mgR_KyjTHiK7",
        "outputId": "237744be-d935-4ba9-ac1c-f831503b02ea"
      },
      "execution_count": 5,
      "outputs": [
        {
          "output_type": "execute_result",
          "data": {
            "text/plain": [
              "np.float64(1283.0)"
            ]
          },
          "metadata": {},
          "execution_count": 5
        }
      ]
    },
    {
      "cell_type": "code",
      "source": [
        "#print the indexes-->1545,12455,6500\n",
        "df['total_bedrooms'][100:200]"
      ],
      "metadata": {
        "id": "gMf5cpgoHwM_"
      },
      "execution_count": null,
      "outputs": []
    },
    {
      "cell_type": "code",
      "source": [
        "df['total_bedrooms'][1545]\n",
        "df['total_bedrooms'][12455]\n",
        "df['total_bedrooms'][6500]"
      ],
      "metadata": {
        "colab": {
          "base_uri": "https://localhost:8080/"
        },
        "id": "u0Mb5OiTH_WW",
        "outputId": "ad4d8675-edc6-47f2-fbec-7dcc1a42bad0"
      },
      "execution_count": 8,
      "outputs": [
        {
          "output_type": "execute_result",
          "data": {
            "text/plain": [
              "np.float64(534.0)"
            ]
          },
          "metadata": {},
          "execution_count": 8
        }
      ]
    },
    {
      "cell_type": "code",
      "source": [
        "#How can we acess the multiple columns? 'total_rooms','total_bedrooms','population',\n",
        "df[['total_rooms','total_bedrooms','population']].head()"
      ],
      "metadata": {
        "id": "EhBbuLdSIMOx"
      },
      "execution_count": null,
      "outputs": []
    },
    {
      "cell_type": "markdown",
      "source": [
        "**loc()** is used to locate rows"
      ],
      "metadata": {
        "id": "qfbj_1zQIr8v"
      }
    },
    {
      "cell_type": "code",
      "source": [
        "#df.loc[start:end:step]\n",
        "#print the entire forst row of my dataframe\n",
        "df.loc[0]\n",
        "#print the values if index rows from 100 to 105\n",
        "df.loc[100:106]\n",
        "#read the rows with even and odd indexes up to the 100th row\n",
        "df.loc[0:100:2] #even index rows\n",
        "df.loc[1:100:2] #odd index rows"
      ],
      "metadata": {
        "id": "wiIo_a-6IyH-"
      },
      "execution_count": null,
      "outputs": []
    },
    {
      "cell_type": "code",
      "source": [
        "#display even index position values of a particular column---> 'total_bedrooms'\n",
        "df.loc[0:100:2,'total_bedrooms']\n",
        "df['total_bedrooms'].loc[0:20:2]"
      ],
      "metadata": {
        "id": "BUBmLP6QJj6K"
      },
      "execution_count": null,
      "outputs": []
    },
    {
      "cell_type": "code",
      "source": [
        "#display even index position values of a specific  columns---> 'total_bedrooms','total_bedrooms', 'population'\n",
        "df[['total_rooms','total_bedrooms', 'population']].loc[0:20:2]\n",
        "df.loc[0:20:2,['total_rooms','total_bedrooms', 'population']]"
      ],
      "metadata": {
        "id": "952FQ6D-KP4w"
      },
      "execution_count": null,
      "outputs": []
    },
    {
      "cell_type": "code",
      "source": [
        "#Applying the conditions  for the columns\n",
        "#print the even values of the column tota_bedrooms\n",
        "df[['total_bedrooms']] % 2==0"
      ],
      "metadata": {
        "id": "FdSqiySHSyI1"
      },
      "execution_count": null,
      "outputs": []
    },
    {
      "cell_type": "code",
      "source": [
        "df.loc[df['total_bedrooms']%2==0]['total_bedrooms']"
      ],
      "metadata": {
        "id": "NW1jvT-qS4z_"
      },
      "execution_count": null,
      "outputs": []
    },
    {
      "cell_type": "code",
      "source": [
        "df_even = df[df['total_bedrooms']%2==0]['total_bedrooms']\n",
        "df_even.head()"
      ],
      "metadata": {
        "id": "ZssJbMxoS6lu"
      },
      "execution_count": null,
      "outputs": []
    },
    {
      "cell_type": "code",
      "source": [
        "#locate the rows in between\n",
        "df.loc[[6500,2500,7000]]"
      ],
      "metadata": {
        "id": "OBgFCq9hS8S7"
      },
      "execution_count": null,
      "outputs": []
    },
    {
      "cell_type": "code",
      "source": [
        "import numpy as np\n",
        "a = np.array([10,12,13,15,16,18,17,21,22,26])\n",
        "# print(a%2==0)\n",
        "a_even = a[a%2==0]\n",
        "print(a_even)"
      ],
      "metadata": {
        "id": "vPcf4nzzS-CG"
      },
      "execution_count": null,
      "outputs": []
    },
    {
      "cell_type": "markdown",
      "source": [
        "**Iloc**--> passes axis number of rows and columns"
      ],
      "metadata": {
        "id": "e7tpqySMTA0z"
      }
    },
    {
      "cell_type": "code",
      "source": [
        "df.columns"
      ],
      "metadata": {
        "colab": {
          "base_uri": "https://localhost:8080/"
        },
        "id": "HEIaUTNfTCol",
        "outputId": "795e6869-56e4-4d53-cd5a-b967d71afb68"
      },
      "execution_count": 15,
      "outputs": [
        {
          "output_type": "execute_result",
          "data": {
            "text/plain": [
              "Index(['longitude', 'latitude', 'housing_median_age', 'total_rooms',\n",
              "       'total_bedrooms', 'population', 'households', 'median_income',\n",
              "       'median_house_value'],\n",
              "      dtype='object')"
            ]
          },
          "metadata": {},
          "execution_count": 15
        }
      ]
    },
    {
      "cell_type": "code",
      "source": [
        "df.head()"
      ],
      "metadata": {
        "id": "OglewqCzTGch"
      },
      "execution_count": null,
      "outputs": []
    },
    {
      "cell_type": "code",
      "source": [
        "#syntax-->df.iloc[row_index[start:end:step],column_index[start:end:step]]\n",
        "#print the 1st 3 rows of following columns 'latitude', 'housing_median_age', 'total_rooms','total_bedrooms'\n",
        "df.iloc[0:3,1:5]\n",
        "df.iloc[1,3]\n",
        "df.iloc[3,6]"
      ],
      "metadata": {
        "id": "VI6ty71aTIDN"
      },
      "execution_count": null,
      "outputs": []
    },
    {
      "cell_type": "code",
      "source": [
        "df.iloc[0:100:2,1:5]"
      ],
      "metadata": {
        "id": "CM9d0AkXTJ0n"
      },
      "execution_count": null,
      "outputs": []
    },
    {
      "cell_type": "code",
      "source": [
        "#what is the difference between the loc and iloc?\n",
        "#loc supports the filtering where as i loc doesnot support filtering\n",
        "#we can apply condition in loc and we cannot apply condition in i loc.\n",
        "df.iloc[df['total_bedrooms']%2==0]['total_bedrooms']"
      ],
      "metadata": {
        "id": "xLBn3Q0bTLfW"
      },
      "execution_count": null,
      "outputs": []
    },
    {
      "cell_type": "code",
      "source": [
        "#locate the rows of specific columns, 'population', 'households','housing_median_age' [for ex:- locate first 10 rows].\n",
        "df.loc[0:10,['population', 'households','housing_median_age']]"
      ],
      "metadata": {
        "id": "xtminKZYTNIB"
      },
      "execution_count": null,
      "outputs": []
    },
    {
      "cell_type": "code",
      "source": [
        "#locate the rows of of indexes 545,789,543\n",
        "df.loc[[676,789,543]]"
      ],
      "metadata": {
        "id": "o00Hm3woTO6Z"
      },
      "execution_count": null,
      "outputs": []
    },
    {
      "cell_type": "code",
      "source": [
        "df.iloc[[545,789,543]]"
      ],
      "metadata": {
        "id": "a5xmPf42TQnN"
      },
      "execution_count": null,
      "outputs": []
    },
    {
      "cell_type": "code",
      "source": [
        "#i want see the value at 676 index of total bedrooms\n",
        "df.iloc[676,4]"
      ],
      "metadata": {
        "id": "hJ3rz85CTR1a"
      },
      "execution_count": null,
      "outputs": []
    },
    {
      "cell_type": "code",
      "source": [
        "#find the unique values in the specific columns--> total_rooms\n",
        "df['total_rooms'].unique()"
      ],
      "metadata": {
        "id": "PfWCkmCYTTPB"
      },
      "execution_count": null,
      "outputs": []
    },
    {
      "cell_type": "code",
      "source": [
        "#find the frequency of each value in the specific column\n",
        "df['housing_median_age'].value_counts()"
      ],
      "metadata": {
        "id": "zWBC9LOWTUeE"
      },
      "execution_count": null,
      "outputs": []
    },
    {
      "cell_type": "code",
      "source": [
        "#find the duplicate data is present or not\n",
        "df.duplicated().sum()"
      ],
      "metadata": {
        "id": "DuaLqZDdTWHd"
      },
      "execution_count": null,
      "outputs": []
    },
    {
      "cell_type": "code",
      "source": [
        "#drop the duplicates\n",
        "df.drop_duplicates(inplace=True)"
      ],
      "metadata": {
        "id": "MYMMLUvETX0R"
      },
      "execution_count": null,
      "outputs": []
    },
    {
      "cell_type": "code",
      "source": [
        "#access the single column--> df['column_name']\n",
        "#access the multiple columns--> df[[col1,col2,col3...etc]]\n",
        "#locate particular row of data---> df.loc[start:end:step]\n",
        "#locate particular values from particular column---> df.iloc[row_index,col_index]\n",
        "#find the unique values--->df['col_name'].unique()\n",
        "#get the frequency of data points in specific column. df['col_name'].value_counts()\n",
        "#find the duplicate in df---> df.duplicated().sum()\n",
        "#drop the duplicate data-->df.drop_duplicates(inplace=True)"
      ],
      "metadata": {
        "id": "lmBhVJRlTZOT"
      },
      "execution_count": null,
      "outputs": []
    }
  ]
}