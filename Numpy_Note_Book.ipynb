{
  "nbformat": 4,
  "nbformat_minor": 0,
  "metadata": {
    "colab": {
      "provenance": [],
      "authorship_tag": "ABX9TyPdPH2yXpK+bvyYg3/lCCxs",
      "include_colab_link": true
    },
    "kernelspec": {
      "name": "python3",
      "display_name": "Python 3"
    },
    "language_info": {
      "name": "python"
    }
  },
  "cells": [
    {
      "cell_type": "markdown",
      "metadata": {
        "id": "view-in-github",
        "colab_type": "text"
      },
      "source": [
        "<a href=\"https://colab.research.google.com/github/Akashmadasu1/My_Python_Notes/blob/main/Numpy_Note_Book.ipynb\" target=\"_parent\"><img src=\"https://colab.research.google.com/assets/colab-badge.svg\" alt=\"Open In Colab\"/></a>"
      ]
    },
    {
      "cell_type": "markdown",
      "source": [
        "# Numpy Introduction (27-05-2025)"
      ],
      "metadata": {
        "id": "slJoK1MOwz4q"
      }
    },
    {
      "cell_type": "code",
      "source": [
        "#what is numpy?\n",
        "#Numpy is core library for scetififc computing in puthon\n",
        "#what is the central object in numpy?\n",
        "#Numpy - Array's\n",
        "#What is Numpy?\n",
        "#Arrays are High performance, multidimensional objects which is designed specially for mathmetical operations.\n",
        "#Array's are ordered, immutable and allows duplicate data"
      ],
      "metadata": {
        "id": "1gowzN60w2E8"
      },
      "execution_count": null,
      "outputs": []
    },
    {
      "cell_type": "code",
      "source": [
        "#what are all different use case of numpy?\n",
        "\"\"\"\n",
        "1.Dot Product / Inner product\n",
        "2.Matrix multipication\n",
        "3.element wise matrix multiplication\n",
        "4.solving the linear systems\n",
        "5.inverse\n",
        "6.determinent\n",
        "7.choose the random numbers\n",
        "8.statistics\n",
        "9.Broadcasting method\n",
        "\"\"\""
      ],
      "metadata": {
        "id": "a3NxnYSIzHYa"
      },
      "execution_count": null,
      "outputs": []
    },
    {
      "cell_type": "markdown",
      "source": [
        "**Installation of Numpy**\n",
        "\n",
        "what is pip?\n",
        "\n",
        "python package manager\n",
        "\n",
        "package->modules->libraries->inbuilt codes"
      ],
      "metadata": {
        "id": "htMKZj9Ez5-1"
      }
    },
    {
      "cell_type": "code",
      "source": [
        "!pip install numpy"
      ],
      "metadata": {
        "colab": {
          "base_uri": "https://localhost:8080/"
        },
        "id": "ZLLy61lv0LcD",
        "outputId": "9124afeb-e991-4c64-a4e8-d95bd32fc662"
      },
      "execution_count": null,
      "outputs": [
        {
          "output_type": "stream",
          "name": "stdout",
          "text": [
            "Requirement already satisfied: numpy in /usr/local/lib/python3.11/dist-packages (2.0.2)\n"
          ]
        }
      ]
    },
    {
      "cell_type": "code",
      "source": [
        "import numpy as np"
      ],
      "metadata": {
        "id": "Hbc1io6c0T6L"
      },
      "execution_count": null,
      "outputs": []
    },
    {
      "cell_type": "code",
      "source": [
        "#check the version of numpy?\n",
        "np.__version__"
      ],
      "metadata": {
        "colab": {
          "base_uri": "https://localhost:8080/",
          "height": 35
        },
        "id": "it-GYbsp0XWC",
        "outputId": "9ac827ce-2e7a-4bfd-81e0-98ba616d0aec"
      },
      "execution_count": null,
      "outputs": [
        {
          "output_type": "execute_result",
          "data": {
            "text/plain": [
              "'2.0.2'"
            ],
            "application/vnd.google.colaboratory.intrinsic+json": {
              "type": "string"
            }
          },
          "metadata": {},
          "execution_count": 5
        }
      ]
    },
    {
      "cell_type": "code",
      "source": [
        "#how many types of data structures do we have in numpy?\n",
        "#There 3 types\n",
        "#1D -- Array's-->Array's with zero columns and specific rows(axis 0)\n",
        "#2D -- Array's-->Array's with both rows(axis 0) and columns(axis 1)\n",
        "#3D --> also known as Multidimensional arrays"
      ],
      "metadata": {
        "id": "_vJLpBV70g6g"
      },
      "execution_count": null,
      "outputs": []
    },
    {
      "cell_type": "markdown",
      "source": [
        "**Central Object in Numpy is Array**"
      ],
      "metadata": {
        "id": "0eSk_DP21ydx"
      }
    },
    {
      "cell_type": "code",
      "source": [
        "#How can we create an array?\n",
        "#Array's can be created from existing data\n",
        "#1D- Array\n",
        "l = [1,2,3,4,5]\n",
        "a = np.array(l)\n",
        "print(a)"
      ],
      "metadata": {
        "colab": {
          "base_uri": "https://localhost:8080/"
        },
        "id": "go1bF7tx1-pS",
        "outputId": "c08d6303-571e-444d-9a36-3ed5963defb2"
      },
      "execution_count": null,
      "outputs": [
        {
          "output_type": "stream",
          "name": "stdout",
          "text": [
            "[1 2 3 4 5]\n"
          ]
        }
      ]
    },
    {
      "cell_type": "code",
      "source": [
        "a = np.array([1,2,3,4,5])\n",
        "print(a)\n",
        "print(type(a))"
      ],
      "metadata": {
        "colab": {
          "base_uri": "https://localhost:8080/"
        },
        "id": "OXW6wWdw2eIu",
        "outputId": "0a3e1f82-a719-4662-a017-0c7e55295765"
      },
      "execution_count": null,
      "outputs": [
        {
          "output_type": "stream",
          "name": "stdout",
          "text": [
            "[1 2 3 4 5]\n",
            "<class 'numpy.ndarray'>\n"
          ]
        }
      ]
    },
    {
      "cell_type": "code",
      "source": [
        "print(a.size)"
      ],
      "metadata": {
        "colab": {
          "base_uri": "https://localhost:8080/"
        },
        "id": "cqNXnGbQyx6D",
        "outputId": "801a7bba-61b7-4d6b-fc5d-70ffc0c55c92"
      },
      "execution_count": null,
      "outputs": [
        {
          "output_type": "stream",
          "name": "stdout",
          "text": [
            "5\n"
          ]
        }
      ]
    },
    {
      "cell_type": "code",
      "source": [
        "#I want to see the shape of the array\n",
        "a.shape\n",
        "#find the dtype of elements in the numpy array\n",
        "a.dtype\n",
        "#find the dimensionality of an array.\n",
        "a.ndim\n",
        "#find the total number of elements present in the array\n",
        "a.size\n",
        "#len(a)\n",
        "#find the memory size in bytes occupied by each element in array\n",
        "a.itemsize"
      ],
      "metadata": {
        "id": "6-ROFXAa2vCy"
      },
      "execution_count": null,
      "outputs": []
    },
    {
      "cell_type": "markdown",
      "source": [
        "**Essential method to create an array**"
      ],
      "metadata": {
        "id": "AwI9NpVx3haY"
      }
    },
    {
      "cell_type": "code",
      "source": [
        "#create an array from tuple of numbers\n",
        "t = (1,2,3,4,5)\n",
        "b = np.array(t)\n",
        "print(b)\n",
        "print(type(b))"
      ],
      "metadata": {
        "colab": {
          "base_uri": "https://localhost:8080/"
        },
        "id": "7yJ4RyK43okm",
        "outputId": "a897d766-049e-46f4-a0ef-3c9f3f0fda40"
      },
      "execution_count": null,
      "outputs": [
        {
          "output_type": "stream",
          "name": "stdout",
          "text": [
            "[1 2 3 4 5]\n",
            "<class 'numpy.ndarray'>\n"
          ]
        }
      ]
    },
    {
      "cell_type": "code",
      "source": [
        "#create an array from dicitonary?\n",
        "d1 = {\n",
        "    'name':'akash'\n",
        "}\n",
        "c = np.array(d1)\n",
        "print(c)"
      ],
      "metadata": {
        "colab": {
          "base_uri": "https://localhost:8080/"
        },
        "id": "VTBTx5Bx38Ai",
        "outputId": "34ef988b-a86c-42e1-9106-f39c168c257b"
      },
      "execution_count": null,
      "outputs": [
        {
          "output_type": "stream",
          "name": "stdout",
          "text": [
            "{'name': 'akash'}\n"
          ]
        }
      ]
    },
    {
      "cell_type": "code",
      "source": [
        "#create an array from the set?\n",
        "s = {1,2,3,4,5,6}\n",
        "d = np.array(s)\n",
        "print(d)"
      ],
      "metadata": {
        "colab": {
          "base_uri": "https://localhost:8080/"
        },
        "id": "MTABeyA74U2S",
        "outputId": "4bc75f94-7946-4fb6-cfa7-eaf7a2c6edb0"
      },
      "execution_count": null,
      "outputs": [
        {
          "output_type": "stream",
          "name": "stdout",
          "text": [
            "{1, 2, 3, 4, 5, 6}\n"
          ]
        }
      ]
    },
    {
      "cell_type": "markdown",
      "source": [
        "**essentional method to acess an array**"
      ],
      "metadata": {
        "id": "-koNkJVe4ikO"
      }
    },
    {
      "cell_type": "code",
      "source": [
        "a = np.array([1,2,3,4,5])\n",
        "#print the 1st value\n",
        "print(a[0])\n",
        "#print 2,3 from above array\n",
        "print(a[1:3])\n",
        "#reverse the above array\n",
        "print(a[::-1])"
      ],
      "metadata": {
        "colab": {
          "base_uri": "https://localhost:8080/"
        },
        "id": "1inoZGF34pXP",
        "outputId": "5d55e8b6-5fde-4945-9b36-f9d1a2a393be"
      },
      "execution_count": null,
      "outputs": [
        {
          "output_type": "stream",
          "name": "stdout",
          "text": [
            "1\n",
            "[2 3]\n",
            "[5 4 3 2 1]\n"
          ]
        }
      ]
    },
    {
      "cell_type": "code",
      "source": [
        "#Array's are immutable we can replace the data but we cannot add new elements and we cannont remove elements from arrays\n",
        "a[2] = 5\n",
        "print(a)"
      ],
      "metadata": {
        "colab": {
          "base_uri": "https://localhost:8080/"
        },
        "id": "fpPpK7-65HaO",
        "outputId": "a51cb1b1-4376-49ae-ac18-fd9162c4b66b"
      },
      "execution_count": null,
      "outputs": [
        {
          "output_type": "stream",
          "name": "stdout",
          "text": [
            "[1 2 5 4 5]\n"
          ]
        }
      ]
    },
    {
      "cell_type": "code",
      "source": [
        "#How can we add the new items to the arrays?-->we can add by creating a new variable"
      ],
      "metadata": {
        "id": "ZMgjd0fi5pL9"
      },
      "execution_count": null,
      "outputs": []
    },
    {
      "cell_type": "markdown",
      "source": [
        "**Element wise maths operation**"
      ],
      "metadata": {
        "id": "8TmiTMgA54wJ"
      }
    },
    {
      "cell_type": "code",
      "source": [
        "b = np.array([6,7,8,9,10])\n",
        "print(a+b)\n",
        "#what is vector addition?\n",
        "#when we apply addition on array of same length and dimensions --> is known as vector addition\n",
        "#Note:-"
      ],
      "metadata": {
        "colab": {
          "base_uri": "https://localhost:8080/"
        },
        "id": "m2eRdV0p6DbH",
        "outputId": "07e4f83c-6102-487f-a758-54c30ab8bba5"
      },
      "execution_count": null,
      "outputs": [
        {
          "output_type": "stream",
          "name": "stdout",
          "text": [
            "[ 7  9 11 13 15]\n"
          ]
        }
      ]
    },
    {
      "cell_type": "code",
      "source": [
        "c = np.array([9])\n",
        "print(b+c)\n",
        "#what is broadcasting method?\n",
        "#Adding a single element of an array with mutiply elements in another array of same dimension is known as Broad casting method"
      ],
      "metadata": {
        "colab": {
          "base_uri": "https://localhost:8080/"
        },
        "id": "-Ij4B9A26fPF",
        "outputId": "89f2404a-201b-4045-a384-e911ec0fe19e"
      },
      "execution_count": null,
      "outputs": [
        {
          "output_type": "stream",
          "name": "stdout",
          "text": [
            "[15 16 17 18 19]\n"
          ]
        }
      ]
    },
    {
      "cell_type": "markdown",
      "source": [
        "**Difference between Array vs List**"
      ],
      "metadata": {
        "id": "L4x36Uy47oN0"
      }
    },
    {
      "cell_type": "code",
      "source": [
        "l = [1,2,3]\n",
        "a = np.array(1)\n",
        "print(dir(a))"
      ],
      "metadata": {
        "id": "IxYiDK_27xEs"
      },
      "execution_count": null,
      "outputs": []
    },
    {
      "cell_type": "code",
      "source": [
        "#how can we adding the elements in the list\n",
        "l.append(4)\n",
        "print(l)"
      ],
      "metadata": {
        "colab": {
          "base_uri": "https://localhost:8080/"
        },
        "id": "2jAA8WDj75AJ",
        "outputId": "c5bfc4d0-d416-470a-9d32-54354d7df77e"
      },
      "execution_count": null,
      "outputs": [
        {
          "output_type": "stream",
          "name": "stdout",
          "text": [
            "[1, 2, 3, 4]\n"
          ]
        }
      ]
    },
    {
      "cell_type": "code",
      "source": [
        "#add the element in an array\n",
        "a = np.array([1,2,3,4])\n",
        "b = np.array([5,6,7,8])\n",
        "c = np.append(a,b)\n",
        "print(c)"
      ],
      "metadata": {
        "colab": {
          "base_uri": "https://localhost:8080/"
        },
        "id": "4mWNai_I8D4-",
        "outputId": "ce1cb868-212a-4033-d9f1-8ef31f246b2f"
      },
      "execution_count": null,
      "outputs": [
        {
          "output_type": "stream",
          "name": "stdout",
          "text": [
            "[1 2 3 4 5 6 7 8]\n"
          ]
        }
      ]
    },
    {
      "cell_type": "code",
      "source": [
        "\"MISD---->Multiple input and single destination\""
      ],
      "metadata": {
        "id": "ic5QEG0k9Wyp"
      },
      "execution_count": null,
      "outputs": []
    },
    {
      "cell_type": "code",
      "source": [
        "#find the sqrt of below array's?\n",
        "a = np.array([10,20,30,40,50,60,70])\n",
        "print(np.sqrt(a))"
      ],
      "metadata": {
        "colab": {
          "base_uri": "https://localhost:8080/"
        },
        "id": "KykAUUoL9pkP",
        "outputId": "29042992-98c0-442d-fa6f-346b1fd90ad6"
      },
      "execution_count": null,
      "outputs": [
        {
          "output_type": "stream",
          "name": "stdout",
          "text": [
            "[3.16227766 4.47213595 5.47722558 6.32455532 7.07106781 7.74596669\n",
            " 8.36660027]\n"
          ]
        }
      ]
    },
    {
      "cell_type": "markdown",
      "source": [
        "**Dot Prduct**"
      ],
      "metadata": {
        "id": "UrdFDwfw-O7D"
      }
    },
    {
      "cell_type": "code",
      "source": [
        "a = np.array([1,2])\n",
        "b = np.array([3,4])\n",
        "dot=0\n",
        "for i in range(len(a)):\n",
        "  dot = dot + a[i]*b[i]\n",
        "print(dot)"
      ],
      "metadata": {
        "colab": {
          "base_uri": "https://localhost:8080/"
        },
        "id": "vq9rGJtM-VNo",
        "outputId": "47534216-1a58-4519-819e-1e50cf59a8a5"
      },
      "execution_count": null,
      "outputs": [
        {
          "output_type": "stream",
          "name": "stdout",
          "text": [
            "11\n"
          ]
        }
      ]
    },
    {
      "cell_type": "code",
      "source": [
        "#dot product is vector multiplication of elements and sum of the result\n",
        "dot = np.dot(a,b)\n",
        "print(dot)"
      ],
      "metadata": {
        "colab": {
          "base_uri": "https://localhost:8080/"
        },
        "id": "f1hQ5vke-0s1",
        "outputId": "988173da-cd8d-4f1e-a2d9-4eb480dfb6fd"
      },
      "execution_count": null,
      "outputs": [
        {
          "output_type": "stream",
          "name": "stdout",
          "text": [
            "11\n"
          ]
        }
      ]
    },
    {
      "cell_type": "code",
      "source": [
        "#Manual method\n",
        "c = a*b\n",
        "d = np.sum(c)\n",
        "print(d)"
      ],
      "metadata": {
        "id": "VdzTj38Y_GHI",
        "colab": {
          "base_uri": "https://localhost:8080/"
        },
        "outputId": "18c3e7c6-e975-45de-b339-40d873243494"
      },
      "execution_count": null,
      "outputs": [
        {
          "output_type": "stream",
          "name": "stdout",
          "text": [
            "11\n"
          ]
        }
      ]
    },
    {
      "cell_type": "code",
      "source": [
        "#another method\n",
        "e = np.dot(a,b)\n",
        "print(e)"
      ],
      "metadata": {
        "id": "yUei5s4x_P45"
      },
      "execution_count": null,
      "outputs": []
    },
    {
      "cell_type": "code",
      "source": [
        "#latest method\n",
        "f = a@b\n",
        "print(f)"
      ],
      "metadata": {
        "colab": {
          "base_uri": "https://localhost:8080/"
        },
        "id": "_lixyP1n_T6r",
        "outputId": "de34a6e2-d2be-4d97-cce1-6c74efd9b551"
      },
      "execution_count": null,
      "outputs": [
        {
          "output_type": "stream",
          "name": "stdout",
          "text": [
            "11\n"
          ]
        }
      ]
    },
    {
      "cell_type": "markdown",
      "source": [
        "**Speed test b/w Array vs List**"
      ],
      "metadata": {
        "id": "N6k3Wp2vAFed"
      }
    },
    {
      "cell_type": "code",
      "source": [
        "#import a time calculator to see difference\n",
        "from timeit import default_timer as timer\n",
        "#create an random array\n",
        "a = np.random.randn(1000)\n",
        "b = np.random.randn(1000)\n",
        "#convert the above array's\n",
        "c = list(a)\n",
        "d = list(b)\n",
        "T=1000\n",
        "def dot1():\n",
        "  dot = 0\n",
        "  for i in range(len(c)):\n",
        "    dot += c[i]*d[i]\n",
        "  return dot\n",
        "def dot2():\n",
        "  return np.dot(a,b)\n",
        "\n",
        "#take the timer\n",
        "start = timer()\n",
        "for i in range(T):\n",
        "  dot1()\n",
        "end = timer()\n",
        "t1 = end-start\n",
        "\n",
        "#create a timer for numpy array\n",
        "start = timer()\n",
        "for t in range(T):\n",
        "  dot2()\n",
        "end = timer()\n",
        "t2 = end-start\n",
        "\n",
        "print('time with list',t1)\n",
        "print('time with array',t2)\n",
        "print(t1/t2)"
      ],
      "metadata": {
        "colab": {
          "base_uri": "https://localhost:8080/"
        },
        "id": "67sixtQ8AOPp",
        "outputId": "86f5d242-c968-4c70-e0a9-f27b86d5d5b2"
      },
      "execution_count": null,
      "outputs": [
        {
          "output_type": "stream",
          "name": "stdout",
          "text": [
            "time with list 0.1529678030001378\n",
            "time with array 0.0024385510000684008\n",
            "62.7289742949182\n"
          ]
        }
      ]
    },
    {
      "cell_type": "markdown",
      "source": [
        "# (28-05-2025)"
      ],
      "metadata": {
        "id": "Ie62NmiP5Vru"
      }
    },
    {
      "cell_type": "markdown",
      "source": [
        "**Multidimensional Array's**"
      ],
      "metadata": {
        "id": "5mf2v96X5dZZ"
      }
    },
    {
      "cell_type": "code",
      "source": [
        "import numpy as np"
      ],
      "metadata": {
        "id": "RjC4stf35miP"
      },
      "execution_count": null,
      "outputs": []
    },
    {
      "cell_type": "code",
      "source": [
        "#create a 2D array\n",
        "a = np.array([[1,2,3,4],[5,6,7,8]])\n",
        "print(a)\n",
        "print(a.shape)"
      ],
      "metadata": {
        "id": "DuQI5lUg5tu7",
        "colab": {
          "base_uri": "https://localhost:8080/"
        },
        "outputId": "9de9712d-4024-4716-aa9b-43767af62090"
      },
      "execution_count": null,
      "outputs": [
        {
          "output_type": "stream",
          "name": "stdout",
          "text": [
            "[[1 2 3 4]\n",
            " [5 6 7 8]]\n",
            "(2, 4)\n",
            "2\n"
          ]
        }
      ]
    },
    {
      "cell_type": "code",
      "source": [
        "#How can we access the elements from the 2D arrays?\n",
        "#[row_index,column_index]\n",
        "#print 1,2,3,4 from above array\n",
        "print(a[0])\n",
        "#how can we access the values from particular column and particular row\n",
        "print(a[1,1])\n",
        "print(a[0,2])"
      ],
      "metadata": {
        "id": "Trt9UT8Q6JZN"
      },
      "execution_count": null,
      "outputs": []
    },
    {
      "cell_type": "code",
      "source": [
        "#How can we i print the entire 1st column value from below array\n",
        "b = np.array([[1,2,3,4],[5,6,7,8],[9,10,11,12]])\n",
        "#print(b)\n",
        "#print(b[2,:])\n",
        "#print all the values from second row.\n",
        "print(b[1])\n",
        "#print(b[2])"
      ],
      "metadata": {
        "id": "VpympHgN7AwI",
        "colab": {
          "base_uri": "https://localhost:8080/"
        },
        "outputId": "8819e5ba-8d92-49c8-bdb4-a67814060765"
      },
      "execution_count": null,
      "outputs": [
        {
          "output_type": "stream",
          "name": "stdout",
          "text": [
            "[5 6 7 8]\n"
          ]
        }
      ]
    },
    {
      "cell_type": "code",
      "source": [
        "b = np.array([[[1,2,3,4],[5,6,7,8],[9,10,11,12]]])\n",
        "print(b)\n",
        "print(b.shape)\n",
        "print(b[0,2,1])"
      ],
      "metadata": {
        "id": "5e2_FcIA8PYZ",
        "colab": {
          "base_uri": "https://localhost:8080/"
        },
        "outputId": "d1c9a557-55bc-4480-b023-4f3612057115"
      },
      "execution_count": null,
      "outputs": [
        {
          "output_type": "stream",
          "name": "stdout",
          "text": [
            "[[[ 1  2  3  4]\n",
            "  [ 5  6  7  8]\n",
            "  [ 9 10 11 12]]]\n",
            "(1, 3, 4)\n",
            "10\n"
          ]
        }
      ]
    },
    {
      "cell_type": "markdown",
      "source": [
        "**Transpose**"
      ],
      "metadata": {
        "id": "AyvLdGIV9X_i"
      }
    },
    {
      "cell_type": "code",
      "source": [
        "#transpose converts rows into columns and columns into rows\n",
        "b = np.array([[1,2,3,4],[5,6,7,8],[9,10,11,12]])\n",
        "print(b)\n",
        "print(b.T)"
      ],
      "metadata": {
        "id": "8DfLyJnX9fHj",
        "colab": {
          "base_uri": "https://localhost:8080/"
        },
        "outputId": "a5ec8919-3bde-4d90-db46-61c9e9b942af"
      },
      "execution_count": null,
      "outputs": [
        {
          "output_type": "stream",
          "name": "stdout",
          "text": [
            "[[ 1  2  3  4]\n",
            " [ 5  6  7  8]\n",
            " [ 9 10 11 12]]\n",
            "[[ 1  5  9]\n",
            " [ 2  6 10]\n",
            " [ 3  7 11]\n",
            " [ 4  8 12]]\n"
          ]
        }
      ]
    },
    {
      "cell_type": "markdown",
      "source": [
        "**Matrix multiplication**"
      ],
      "metadata": {
        "id": "1gifzQoJ-DM4"
      }
    },
    {
      "cell_type": "code",
      "source": [
        "a = np.array([[1,2],[3,4]])\n",
        "b = np.array([[3,4],[5,6]])\n",
        "#apply the dot product\n",
        "c = np.dot(a,b)\n",
        "print(c)\n",
        "print(a@b)"
      ],
      "metadata": {
        "colab": {
          "base_uri": "https://localhost:8080/"
        },
        "id": "M0X5NDW2920c",
        "outputId": "0e64d4df-9eeb-4f8c-ffcb-25a273d756fa"
      },
      "execution_count": null,
      "outputs": [
        {
          "output_type": "stream",
          "name": "stdout",
          "text": [
            "[[13 16]\n",
            " [29 36]]\n",
            "[[13 16]\n",
            " [29 36]]\n"
          ]
        }
      ]
    },
    {
      "cell_type": "code",
      "source": [
        "#find the inverse of an array a?\n",
        "d = np.linalg.inv(a)\n",
        "print(d)"
      ],
      "metadata": {
        "colab": {
          "base_uri": "https://localhost:8080/"
        },
        "id": "EUykdkU9_DXa",
        "outputId": "2007c458-9de8-4212-b82c-8d339539d9ab"
      },
      "execution_count": null,
      "outputs": [
        {
          "output_type": "stream",
          "name": "stdout",
          "text": [
            "[[-2.   1. ]\n",
            " [ 1.5 -0.5]]\n"
          ]
        }
      ]
    },
    {
      "cell_type": "code",
      "source": [
        "#how can i find the diagonal of array a?\n",
        "a = np.array([[1,2],[3,4]])\n",
        "e = np.diag(a)\n",
        "print(e)"
      ],
      "metadata": {
        "colab": {
          "base_uri": "https://localhost:8080/"
        },
        "id": "Ju2jPGFR_lwN",
        "outputId": "85b217d5-64a3-4088-83a5-202cf8b952f4"
      },
      "execution_count": null,
      "outputs": [
        {
          "output_type": "stream",
          "name": "stdout",
          "text": [
            "[1 4]\n"
          ]
        }
      ]
    },
    {
      "cell_type": "code",
      "source": [
        "#diagonal on vector returns the matrix\n",
        "f = np.diag([1,4,5])\n",
        "print(f)"
      ],
      "metadata": {
        "colab": {
          "base_uri": "https://localhost:8080/"
        },
        "id": "T-MerVIj_4ml",
        "outputId": "9921f9b7-1900-446b-8586-74563b3fba84"
      },
      "execution_count": null,
      "outputs": [
        {
          "output_type": "stream",
          "name": "stdout",
          "text": [
            "[[1 0 0]\n",
            " [0 4 0]\n",
            " [0 0 5]]\n"
          ]
        }
      ]
    },
    {
      "cell_type": "code",
      "source": [
        "b = np.array([[1,2,3,4],[5,6,7,8],[9,10,11,12]])\n",
        "print(b)"
      ],
      "metadata": {
        "colab": {
          "base_uri": "https://localhost:8080/"
        },
        "id": "B1VPmZMpAXUU",
        "outputId": "4c7f318d-f2fe-49fd-f723-81fd3acbee56"
      },
      "execution_count": null,
      "outputs": [
        {
          "output_type": "stream",
          "name": "stdout",
          "text": [
            "[[ 1  2  3  4]\n",
            " [ 5  6  7  8]\n",
            " [ 9 10 11 12]]\n"
          ]
        }
      ]
    },
    {
      "cell_type": "code",
      "source": [
        "#print the values from the column 2 and 3\n",
        "print(b[:,1:3])\n",
        "print(b[0:3,1:3])\n",
        "print(b[:,-1:]) #print last column all the values in 2D form"
      ],
      "metadata": {
        "colab": {
          "base_uri": "https://localhost:8080/"
        },
        "id": "gn6MySIjAcAK",
        "outputId": "dd0c5350-5b6d-487d-ed6e-3bfe6c8ca36d"
      },
      "execution_count": null,
      "outputs": [
        {
          "output_type": "stream",
          "name": "stdout",
          "text": [
            "[[ 2  3]\n",
            " [ 6  7]\n",
            " [10 11]]\n",
            "[[ 2  3]\n",
            " [ 6  7]\n",
            " [10 11]]\n",
            "[[ 4]\n",
            " [ 8]\n",
            " [12]]\n"
          ]
        }
      ]
    },
    {
      "cell_type": "markdown",
      "source": [
        "**Boolean indexing**"
      ],
      "metadata": {
        "id": "XVALNZYwCSjr"
      }
    },
    {
      "cell_type": "code",
      "source": [
        "a = np.array([[1,2],[3,4],[5,6]])\n",
        "#print(a)\n",
        "#print the numbers which is more than 2\n",
        "print(a[a>2])"
      ],
      "metadata": {
        "colab": {
          "base_uri": "https://localhost:8080/"
        },
        "id": "49dlPeHYA0od",
        "outputId": "25b083f9-c1af-4824-e249-68fc0616d531"
      },
      "execution_count": null,
      "outputs": [
        {
          "output_type": "stream",
          "name": "stdout",
          "text": [
            "[3 4 5 6]\n"
          ]
        }
      ]
    },
    {
      "cell_type": "code",
      "source": [
        "l = [1,2,3,4,5]\n",
        "print(l>2)\n",
        "\n",
        "print(l*2)\n",
        "print(a*2)"
      ],
      "metadata": {
        "id": "AQnaz2dIDElU"
      },
      "execution_count": null,
      "outputs": []
    },
    {
      "cell_type": "code",
      "source": [
        "#How can we apply a condition in array\n",
        "#np.where(condition,True,False)\n",
        "c = np.where(a>2,a,-1)\n",
        "print(c)"
      ],
      "metadata": {
        "colab": {
          "base_uri": "https://localhost:8080/"
        },
        "id": "tYTqdN3HDRhX",
        "outputId": "2fc093d5-435c-4e9e-f461-69612c6fb2b7"
      },
      "execution_count": null,
      "outputs": [
        {
          "output_type": "stream",
          "name": "stdout",
          "text": [
            "[[-1 -1]\n",
            " [ 3  4]\n",
            " [ 5  6]]\n"
          ]
        }
      ]
    },
    {
      "cell_type": "code",
      "source": [
        "#compute the indexes where the condition is true?\n",
        "#np.argwhere()\n",
        "i = np.argwhere(a>2)\n",
        "print(i)"
      ],
      "metadata": {
        "colab": {
          "base_uri": "https://localhost:8080/"
        },
        "id": "5Q3QaEowD8kS",
        "outputId": "9a09c890-334e-4bd4-93c4-fc3d99dcb4c6"
      },
      "execution_count": null,
      "outputs": [
        {
          "output_type": "stream",
          "name": "stdout",
          "text": [
            "[[1 0]\n",
            " [1 1]\n",
            " [2 0]\n",
            " [2 1]]\n"
          ]
        }
      ]
    },
    {
      "cell_type": "code",
      "source": [
        "#[10,19,20,30,41,50,61] from above compute the index of even numbers\n",
        "a = np.array([10,19,20,30,41,50,61])\n",
        "even = np.argwhere(a%2==0).flatten() #flatten prints the o/p in single line\n",
        "print(even)"
      ],
      "metadata": {
        "colab": {
          "base_uri": "https://localhost:8080/"
        },
        "id": "-lulnuKfEQnV",
        "outputId": "f768a4f2-1422-41d7-cd9d-6208680a664d"
      },
      "execution_count": null,
      "outputs": [
        {
          "output_type": "stream",
          "name": "stdout",
          "text": [
            "[0 2 3 5]\n"
          ]
        }
      ]
    },
    {
      "cell_type": "code",
      "source": [
        "a_even = a[even]\n",
        "print(a_even)"
      ],
      "metadata": {
        "colab": {
          "base_uri": "https://localhost:8080/"
        },
        "id": "lJL3kKd-Fcdz",
        "outputId": "33a98b46-de69-4cc8-8d91-266a8b9e3942"
      },
      "execution_count": null,
      "outputs": [
        {
          "output_type": "stream",
          "name": "stdout",
          "text": [
            "[10 20 30 50]\n"
          ]
        }
      ]
    },
    {
      "cell_type": "markdown",
      "source": [
        "**reshaping of an array**"
      ],
      "metadata": {
        "id": "Kv1-gtQPFuMS"
      }
    },
    {
      "cell_type": "code",
      "source": [
        "#create a range of array upto 9\n",
        "a = np.arange(1,10)\n",
        "print(a)"
      ],
      "metadata": {
        "colab": {
          "base_uri": "https://localhost:8080/"
        },
        "id": "tz3aFQ5cFytP",
        "outputId": "cbd8d456-66ce-4dd9-9f93-771f93848a67"
      },
      "execution_count": null,
      "outputs": [
        {
          "output_type": "stream",
          "name": "stdout",
          "text": [
            "[1 2 3 4 5 6 7 8 9]\n"
          ]
        }
      ]
    },
    {
      "cell_type": "code",
      "source": [
        "b = a.reshape(3,3)\n",
        "print(b)"
      ],
      "metadata": {
        "colab": {
          "base_uri": "https://localhost:8080/"
        },
        "id": "pGSBn4z5GEcv",
        "outputId": "b510ebca-93fc-4cd1-d3d5-3ba2cfa0245a"
      },
      "execution_count": null,
      "outputs": [
        {
          "output_type": "stream",
          "name": "stdout",
          "text": [
            "[[1 2 3]\n",
            " [4 5 6]\n",
            " [7 8 9]]\n"
          ]
        }
      ]
    },
    {
      "cell_type": "code",
      "source": [
        "#print a range of numbers from 1 to 10 and reshape into 5 rows and 2 columns\n",
        "c = np.arange(1,11).reshape(5,2)\n",
        "print(c)\n",
        "#print a range of numbers from 1 to 6 and reshape into 2 rows and 3 columns\n",
        "d = np.arange(1,7).reshape(2,3)\n",
        "print(d)\n"
      ],
      "metadata": {
        "colab": {
          "base_uri": "https://localhost:8080/"
        },
        "id": "uIzwvPzxGcCd",
        "outputId": "e0c84ef4-1f55-4ef9-b4ef-c2fb4deb24bd"
      },
      "execution_count": null,
      "outputs": [
        {
          "output_type": "stream",
          "name": "stdout",
          "text": [
            "[[ 1  2]\n",
            " [ 3  4]\n",
            " [ 5  6]\n",
            " [ 7  8]\n",
            " [ 9 10]]\n",
            "[[1 2 3]\n",
            " [4 5 6]]\n"
          ]
        }
      ]
    },
    {
      "cell_type": "markdown",
      "source": [
        "**np.newaxis**"
      ],
      "metadata": {
        "id": "1wOcEzIbHEmA"
      }
    },
    {
      "cell_type": "code",
      "source": [
        "#np.newaxis:- is used to create a axis in the data\n",
        "a = np.arange(1,7)\n",
        "print(a)\n",
        "print(a.shape)"
      ],
      "metadata": {
        "colab": {
          "base_uri": "https://localhost:8080/"
        },
        "id": "ToKMX54cHH2p",
        "outputId": "1c2c6c33-de4a-4d30-c875-ff53f3705f90"
      },
      "execution_count": null,
      "outputs": [
        {
          "output_type": "stream",
          "name": "stdout",
          "text": [
            "[1 2 3 4 5 6]\n",
            "(6,)\n"
          ]
        }
      ]
    },
    {
      "cell_type": "code",
      "source": [
        "#np.newaxis\n",
        "d = a[np.newaxis,:]\n",
        "print(d)\n",
        "print(d.shape)"
      ],
      "metadata": {
        "colab": {
          "base_uri": "https://localhost:8080/"
        },
        "id": "puCSGmgNHy22",
        "outputId": "421bdbf4-1561-454e-df63-7d345e38ab9a"
      },
      "execution_count": null,
      "outputs": [
        {
          "output_type": "stream",
          "name": "stdout",
          "text": [
            "[[1 2 3 4 5 6]]\n",
            "(1, 6)\n"
          ]
        }
      ]
    },
    {
      "cell_type": "code",
      "source": [
        "e = a[:,np.newaxis]\n",
        "print(e)\n",
        "print(e.shape)"
      ],
      "metadata": {
        "colab": {
          "base_uri": "https://localhost:8080/"
        },
        "id": "yz2D90MdILo1",
        "outputId": "273e7366-07c8-4c6d-a09e-76308e25eb3e"
      },
      "execution_count": null,
      "outputs": [
        {
          "output_type": "stream",
          "name": "stdout",
          "text": [
            "[[1]\n",
            " [2]\n",
            " [3]\n",
            " [4]\n",
            " [5]\n",
            " [6]]\n",
            "(6, 1)\n"
          ]
        }
      ]
    },
    {
      "cell_type": "code",
      "source": [
        "#np.array([])\n",
        "#np.array([[]])\n",
        "#np.shape\n",
        "#np.dim\n",
        "#np.size\n",
        "#np.dtype\n",
        "#np.itemsize\n",
        "#np.dot(arr1,arr2)\n",
        "#np.sqrt()\n",
        "#np.min()\n",
        "#np.linalg.inv(array1)\n",
        "  #np.where(condition,true,false)\n",
        "  #np.argwhere(condition) (.flatten())\n",
        "  #np.arange(start,end)\n",
        "  #np.reshape(no.row,no.col)\n",
        "#np.diag(array1 or [vector])\n",
        "#np.newaxis\n",
        "#Transpose(T)\n"
      ],
      "metadata": {
        "id": "uM6kIr_SIl2Q"
      },
      "execution_count": null,
      "outputs": []
    },
    {
      "cell_type": "markdown",
      "source": [
        "# (29-05-2025)\n"
      ],
      "metadata": {
        "id": "YLHlQWeyCtAx"
      }
    },
    {
      "cell_type": "markdown",
      "source": [
        "**Concatenation**"
      ],
      "metadata": {
        "id": "PMSg_bf4DlTJ"
      }
    },
    {
      "cell_type": "code",
      "source": [
        "import numpy as np"
      ],
      "metadata": {
        "id": "aZ2DvAiUDi0p"
      },
      "execution_count": null,
      "outputs": []
    },
    {
      "cell_type": "code",
      "source": [
        "a = np.array([[1,2],[3,4]])\n",
        "b = np.array([[5,6]])\n",
        "#combine or concatenate the above 2 arrays\n",
        "#b.shape\n",
        "c = np.concatenate((a,b),axis=None)\n",
        "print(c)"
      ],
      "metadata": {
        "colab": {
          "base_uri": "https://localhost:8080/"
        },
        "id": "7qHOWTDYDv66",
        "outputId": "314423a4-c179-4e4d-8a69-70d5970ec5c8"
      },
      "execution_count": null,
      "outputs": [
        {
          "output_type": "stream",
          "name": "stdout",
          "text": [
            "[1 2 3 4 5 6]\n"
          ]
        }
      ]
    },
    {
      "cell_type": "code",
      "source": [
        "c = np.concatenate((a,b),axis=0)\n",
        "print(c)"
      ],
      "metadata": {
        "colab": {
          "base_uri": "https://localhost:8080/"
        },
        "id": "EpJSBfu7EVBi",
        "outputId": "e6906042-6fca-47f9-c3f3-3e88e677d597"
      },
      "execution_count": null,
      "outputs": [
        {
          "output_type": "stream",
          "name": "stdout",
          "text": [
            "[[1 2]\n",
            " [3 4]\n",
            " [5 6]]\n"
          ]
        }
      ]
    },
    {
      "cell_type": "code",
      "source": [
        "d = np.concatenate((a,b.T),axis=1)\n",
        "print(d)\n",
        "#Note:- when we concatenate two array's along with the rows we need to check both array have same number of columns\n",
        "#2.when we concatenate two array's along with the columns we need to check both array have same number of rows"
      ],
      "metadata": {
        "colab": {
          "base_uri": "https://localhost:8080/"
        },
        "id": "erSYH0q4Edgf",
        "outputId": "b5332a50-7fe2-4477-929e-a80bcddeecc1"
      },
      "execution_count": null,
      "outputs": [
        {
          "output_type": "stream",
          "name": "stdout",
          "text": [
            "[[1 2 5]\n",
            " [3 4 6]]\n"
          ]
        }
      ]
    },
    {
      "cell_type": "code",
      "source": [
        "a = np.array([[1,2],[3,4]])\n",
        "b = np.array([[5,6],[7,8]])\n",
        "c = np.concatenate((a,b),axis=1)\n",
        "print(c)\n",
        "#print the 1st row value\n",
        "print(c[0,:])\n",
        "print(c[0])"
      ],
      "metadata": {
        "colab": {
          "base_uri": "https://localhost:8080/"
        },
        "id": "RYQ4SzrqFZRc",
        "outputId": "ebbd97ad-8b32-40c6-ad96-0c944eb5ff99"
      },
      "execution_count": null,
      "outputs": [
        {
          "output_type": "stream",
          "name": "stdout",
          "text": [
            "[[1 2 5 6]\n",
            " [3 4 7 8]]\n",
            "[1 2 5 6]\n",
            "[1 2 5 6]\n"
          ]
        }
      ]
    },
    {
      "cell_type": "code",
      "source": [
        "a = np.array([[1,2],[3,4]])\n",
        "b = np.array([[5,6],[7,8]])\n",
        "c = np.concatenate((a,b),axis=0)\n",
        "print(c)\n",
        "#print the 1st row value\n",
        "print(c[0,:])\n",
        "print(c[0])"
      ],
      "metadata": {
        "colab": {
          "base_uri": "https://localhost:8080/"
        },
        "id": "oXgnlS_9F7bL",
        "outputId": "0346e63e-df88-441c-eb6d-05443bdb98a6"
      },
      "execution_count": null,
      "outputs": [
        {
          "output_type": "stream",
          "name": "stdout",
          "text": [
            "[[1 2]\n",
            " [3 4]\n",
            " [5 6]\n",
            " [7 8]]\n",
            "[1 2]\n",
            "[1 2]\n"
          ]
        }
      ]
    },
    {
      "cell_type": "markdown",
      "source": [
        "**HSTACK**-->Stack arrays in sequence horizentally"
      ],
      "metadata": {
        "id": "BTWENaxwG4a3"
      }
    },
    {
      "cell_type": "code",
      "source": [
        "d = np.hstack((a,b))\n",
        "print(d)"
      ],
      "metadata": {
        "colab": {
          "base_uri": "https://localhost:8080/"
        },
        "id": "f9C9bJE7Gcjh",
        "outputId": "8c6076aa-e481-463f-85ed-e0651966c5d9"
      },
      "execution_count": null,
      "outputs": [
        {
          "output_type": "stream",
          "name": "stdout",
          "text": [
            "[[1 2 5 6]\n",
            " [3 4 7 8]]\n"
          ]
        }
      ]
    },
    {
      "cell_type": "code",
      "source": [
        "arr1 = np.array([1,2,3,4])\n",
        "arr2 = np.array([5,6,7,8])\n",
        "arr = np.hstack((arr1,arr2))\n",
        "print(arr)"
      ],
      "metadata": {
        "colab": {
          "base_uri": "https://localhost:8080/"
        },
        "id": "nU4J63mZHhOb",
        "outputId": "6fb83270-3dab-4439-e176-b45db1a5aac8"
      },
      "execution_count": null,
      "outputs": [
        {
          "output_type": "stream",
          "name": "stdout",
          "text": [
            "[1 2 3 4 5 6 7 8]\n"
          ]
        }
      ]
    },
    {
      "cell_type": "markdown",
      "source": [
        "**VSTACK**-->stack arrays in sequence vertically"
      ],
      "metadata": {
        "id": "N82snTSRHKHd"
      }
    },
    {
      "cell_type": "code",
      "source": [
        "#apply vstack on 1D array\n",
        "v = np.vstack((arr1,arr2))\n",
        "print(v)"
      ],
      "metadata": {
        "colab": {
          "base_uri": "https://localhost:8080/"
        },
        "id": "m78ov6rZHN7U",
        "outputId": "e9a780e5-f097-4541-aa56-40b2d1233efd"
      },
      "execution_count": null,
      "outputs": [
        {
          "output_type": "stream",
          "name": "stdout",
          "text": [
            "[[1 2 3 4]\n",
            " [5 6 7 8]]\n"
          ]
        }
      ]
    },
    {
      "cell_type": "code",
      "source": [
        "a = np.array([[1,2],[3,4]])\n",
        "b = np.array([[5,6],[7,8]])\n",
        "v = np.vstack((a,b))\n",
        "print(v)"
      ],
      "metadata": {
        "id": "tZ3gg2L_ISnY"
      },
      "execution_count": null,
      "outputs": []
    },
    {
      "cell_type": "code",
      "source": [
        "print(a)\n",
        "print(b)"
      ],
      "metadata": {
        "id": "ftrs9RWkI3oO"
      },
      "execution_count": null,
      "outputs": []
    },
    {
      "cell_type": "markdown",
      "source": [
        "**copying of an array**"
      ],
      "metadata": {
        "id": "OdN6LaclJAQK"
      }
    },
    {
      "cell_type": "code",
      "source": [
        "a = np.array([1,2,3])\n",
        "b = a\n",
        "b[0]=42\n",
        "print(a)\n",
        "print(b)\n",
        "#np.copy():- if you make any changes in the new array it won't impact on the old array"
      ],
      "metadata": {
        "id": "ffRVkJH7I_Np"
      },
      "execution_count": null,
      "outputs": []
    },
    {
      "cell_type": "code",
      "source": [
        "a = np.array([1,2,3])\n",
        "b = a.copy()\n",
        "b[0]=42\n",
        "print(a)\n",
        "print(b)"
      ],
      "metadata": {
        "id": "PUg4Q6RGJXVR"
      },
      "execution_count": null,
      "outputs": []
    },
    {
      "cell_type": "markdown",
      "source": [
        "**Data Types**"
      ],
      "metadata": {
        "id": "Xxx8vEVeKPui"
      }
    },
    {
      "cell_type": "code",
      "source": [
        "#convert an array of int64 to int32\n",
        "a = np.array([1,2,3,4],dtype='int32') #or dtype = np.int32\n",
        "print(a)\n",
        "print(a.dtype)"
      ],
      "metadata": {
        "id": "FDmSf92RJyp7"
      },
      "execution_count": null,
      "outputs": []
    },
    {
      "cell_type": "code",
      "source": [
        "b = np.array([1.5,2.5,3.5],dtype=np.float32)\n",
        "print(b.dtype)"
      ],
      "metadata": {
        "id": "RQguascsK1Wc"
      },
      "execution_count": null,
      "outputs": []
    },
    {
      "cell_type": "markdown",
      "source": [
        "**Generating Array's**"
      ],
      "metadata": {
        "id": "Xt46dcv1LS7q"
      }
    },
    {
      "cell_type": "code",
      "source": [
        "#generate an array's of zero with 2 rows and 3 columns\n",
        "a = np.zeros((2,3))\n",
        "print(a)"
      ],
      "metadata": {
        "id": "i8Lx3I5TLR-n"
      },
      "execution_count": null,
      "outputs": []
    },
    {
      "cell_type": "code",
      "source": [
        "b = np.zeros(3)\n",
        "print(b)"
      ],
      "metadata": {
        "id": "4LSmWmDZLmjG"
      },
      "execution_count": null,
      "outputs": []
    },
    {
      "cell_type": "code",
      "source": [
        "#generate an array's of ones with 2 rows and 3cols\n",
        "c = np.ones((2,3))\n",
        "print(c)"
      ],
      "metadata": {
        "id": "WRvontSUL0vi"
      },
      "execution_count": null,
      "outputs": []
    },
    {
      "cell_type": "code",
      "source": [
        "#generate an array of specific number with particular rows and columns\n",
        "d = np.full((3,3),5)\n",
        "print(d)\n",
        "#np.full((rows,col),number)"
      ],
      "metadata": {
        "id": "rqH03Cd0MFLf"
      },
      "execution_count": null,
      "outputs": []
    },
    {
      "cell_type": "code",
      "source": [
        "#generate an identity matrix\n",
        "e = np.eye(3)\n",
        "print(e)\n",
        "f = np.identity(3)\n",
        "print(f)"
      ],
      "metadata": {
        "id": "nmxN_Ja2Mtvb"
      },
      "execution_count": null,
      "outputs": []
    },
    {
      "cell_type": "code",
      "source": [
        "#generate a range of numbers upto 9\n",
        "i = np.arange(10)\n",
        "print(i)"
      ],
      "metadata": {
        "id": "feC3fW5VM6kw"
      },
      "execution_count": null,
      "outputs": []
    },
    {
      "cell_type": "code",
      "source": [
        "#linspace:- splits the data into n equal parts\n",
        "j = np.linspace(0,10,5)\n",
        "print(j)\n",
        "#np.linspace(start,end,no of partitions)"
      ],
      "metadata": {
        "colab": {
          "base_uri": "https://localhost:8080/"
        },
        "id": "wGz1stq9NGQQ",
        "outputId": "25dfb6a1-a52b-4426-e9ce-f9e321aace26"
      },
      "execution_count": null,
      "outputs": [
        {
          "output_type": "stream",
          "name": "stdout",
          "text": [
            "[ 0.   2.5  5.   7.5 10. ]\n"
          ]
        }
      ]
    },
    {
      "cell_type": "markdown",
      "source": [
        "**Random Numbers**"
      ],
      "metadata": {
        "id": "yUoIzp9IN6-4"
      }
    },
    {
      "cell_type": "code",
      "source": [
        "#generate random numbers those are uniformly distributed from 0-1\n",
        "a = np.random.random((3,2))\n",
        "print(a)"
      ],
      "metadata": {
        "colab": {
          "base_uri": "https://localhost:8080/"
        },
        "id": "sBAYYjiiN4dy",
        "outputId": "324fb860-3da2-4590-8276-0d556fdd3acc"
      },
      "execution_count": null,
      "outputs": [
        {
          "output_type": "stream",
          "name": "stdout",
          "text": [
            "[[0.11703184 0.3047789 ]\n",
            " [0.64281055 0.44674468]\n",
            " [0.91584923 0.21346254]]\n"
          ]
        }
      ]
    },
    {
      "cell_type": "code",
      "source": [
        "#generate an array which is normally distributes or gussian distribution\n",
        "b = np.random.randn(3,2)\n",
        "print(b)\n",
        "print(b.mean(),b.std(),b.var())"
      ],
      "metadata": {
        "colab": {
          "base_uri": "https://localhost:8080/"
        },
        "id": "IQBqIdXCPFvy",
        "outputId": "0075381f-db0b-40a7-8ef1-afd8ee96086f"
      },
      "execution_count": null,
      "outputs": [
        {
          "output_type": "stream",
          "name": "stdout",
          "text": [
            "[[ 0.13362844 -1.15262288]\n",
            " [-0.08221819  0.1805594 ]\n",
            " [-0.64039427  0.624096  ]]\n",
            "-0.15615858278014186 0.5829587171485358 0.3398408658994665\n"
          ]
        }
      ]
    },
    {
      "cell_type": "code",
      "source": [
        "#generate an array of random numbers with 1000 and find the mean varience and std\n",
        "c = np.random.randn(1000)\n",
        "print(np.mean(c))\n",
        "print(np.var(c))\n",
        "print(np.std(c))"
      ],
      "metadata": {
        "colab": {
          "base_uri": "https://localhost:8080/"
        },
        "id": "PrLw-aQSPfdp",
        "outputId": "20574915-cd80-4d6c-f584-91f39afca7ad"
      },
      "execution_count": null,
      "outputs": [
        {
          "output_type": "stream",
          "name": "stdout",
          "text": [
            "-0.008297239010842923\n",
            "1.0598617774212824\n",
            "1.029495885091962\n"
          ]
        }
      ]
    },
    {
      "cell_type": "code",
      "source": [
        "#generate an array of integers from 3,20 with 2 rows and 3 cols\n",
        "d = np.random.randint(3,20,size=(2,3))\n",
        "print(d)"
      ],
      "metadata": {
        "colab": {
          "base_uri": "https://localhost:8080/"
        },
        "id": "0RvUeYJ-QgT1",
        "outputId": "16a578f1-ff3b-452f-b2a1-9e8719dd2995"
      },
      "execution_count": null,
      "outputs": [
        {
          "output_type": "stream",
          "name": "stdout",
          "text": [
            "[[15 13 17]\n",
            " [10 15  3]]\n"
          ]
        }
      ]
    },
    {
      "cell_type": "code",
      "source": [
        "#generate an array of numbers upto 6 randomly with size of 10\n",
        "\n",
        "e = np.random.choice(6,size=10)\n",
        "print(e)"
      ],
      "metadata": {
        "colab": {
          "base_uri": "https://localhost:8080/"
        },
        "id": "zpG6JXQWRHsf",
        "outputId": "af8b3bce-3fc4-4096-ae16-cf30d30c4124"
      },
      "execution_count": null,
      "outputs": [
        {
          "output_type": "stream",
          "name": "stdout",
          "text": [
            "[3 5 3 0 2 4 3 0 3 2]\n"
          ]
        }
      ]
    },
    {
      "cell_type": "code",
      "source": [
        "e = np.random.choice([3,5,7,9],size=10)\n",
        "print(e)"
      ],
      "metadata": {
        "colab": {
          "base_uri": "https://localhost:8080/"
        },
        "id": "fUELMOjDSTF5",
        "outputId": "2653dffe-e78e-40e3-df0c-1853b93508d1"
      },
      "execution_count": null,
      "outputs": [
        {
          "output_type": "stream",
          "name": "stdout",
          "text": [
            "[5 3 3 3 3 7 9 3 9 7]\n"
          ]
        }
      ]
    },
    {
      "cell_type": "code",
      "source": [
        "#np.concatenate((arr1,arr2).axis=None,0,1)\n",
        "#np.hstack((arr1,arr2))\n",
        "#np.vstack((arr1,arr2))\n",
        "#np.copy()\n",
        "#change dtype of int64 and flot64-->np.array(l,dtype=np.int32)\n",
        "#np.zeros((row,col))\n",
        "#np.ones((row,col))\n",
        "#np.full(row,col,number)\n",
        "#np.eye(N)\n",
        "#np.linspace(start,end,no of partitions)\n",
        "#unifrom data-->np.random.random((row,col))\n",
        "#normal distribution--> np.random.randn(row,col)\n",
        "#how can you say a data is randomly distributed--> mean is zero, varience is equal to 1 and std is equal to 1\n",
        "#random_numbers_with specific size-->np.random.choice(range of numbers,size=number)\n",
        "#generate range of random integers-->np.random.randint(start,end, size=(row,col))\n"
      ],
      "metadata": {
        "id": "RZwFTd8ASqiw"
      },
      "execution_count": null,
      "outputs": []
    },
    {
      "cell_type": "markdown",
      "source": [
        "# (30-05-2025)"
      ],
      "metadata": {
        "id": "wIyAWT2oOoOE"
      }
    },
    {
      "cell_type": "markdown",
      "source": [
        "**solving the linear systems**"
      ],
      "metadata": {
        "id": "eKnwLrPAOt7u"
      }
    },
    {
      "cell_type": "code",
      "source": [
        "#x1 + x2 = 2200\n",
        "#1.5x1 + 4x2 = 5050\n",
        "import numpy as np\n",
        "a = np.array([[1,1],[1.5,4]])\n",
        "b = np.array([2200,5050])\n",
        "x = np.linalg.inv(a).dot(b)\n",
        "print(x)"
      ],
      "metadata": {
        "colab": {
          "base_uri": "https://localhost:8080/"
        },
        "id": "OWgJ_KQcO6I7",
        "outputId": "b7057dc3-a91e-4674-8f2b-667dd3a3e9c7"
      },
      "execution_count": null,
      "outputs": [
        {
          "output_type": "stream",
          "name": "stdout",
          "text": [
            "[1500.  700.]\n"
          ]
        }
      ]
    },
    {
      "cell_type": "code",
      "source": [
        "#instead we can use below formula\n",
        "x = np.linalg.solve(a,b)\n",
        "print(x)"
      ],
      "metadata": {
        "colab": {
          "base_uri": "https://localhost:8080/"
        },
        "id": "qLkijcSrPC7p",
        "outputId": "59aabae4-a8e6-41fa-f2c8-33039c165eec"
      },
      "execution_count": null,
      "outputs": [
        {
          "output_type": "stream",
          "name": "stdout",
          "text": [
            "[1500.  700.]\n"
          ]
        }
      ]
    },
    {
      "cell_type": "markdown",
      "source": [
        "**Broadcasting Method**"
      ],
      "metadata": {
        "id": "-tu-2QOnQnIK"
      }
    },
    {
      "cell_type": "code",
      "source": [
        "a = np.array([[1,2,3],[4,5,6],[7,8,9],[10,11,12]])\n",
        "b = np.array([[1,0,1]])\n",
        "z = a + b\n",
        "print(z)\n",
        "'''broadcasting is a powerful mechanism that allows numpy to work with\n",
        "different arrays of different shapes when performing the arthamatic operation'''\n"
      ],
      "metadata": {
        "colab": {
          "base_uri": "https://localhost:8080/"
        },
        "id": "aKTMP4nlQ0xW",
        "outputId": "26e38620-086c-4476-a559-7279c6b004f2"
      },
      "execution_count": null,
      "outputs": [
        {
          "output_type": "stream",
          "name": "stdout",
          "text": [
            "[[ 2  2  4]\n",
            " [ 5  5  7]\n",
            " [ 8  8 10]\n",
            " [11 11 13]]\n"
          ]
        }
      ]
    }
  ]
}