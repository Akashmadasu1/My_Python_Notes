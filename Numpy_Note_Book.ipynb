{
  "nbformat": 4,
  "nbformat_minor": 0,
  "metadata": {
    "colab": {
      "provenance": [],
      "authorship_tag": "ABX9TyP2Gl0WV1U0XRcywvhYP+4m",
      "include_colab_link": true
    },
    "kernelspec": {
      "name": "python3",
      "display_name": "Python 3"
    },
    "language_info": {
      "name": "python"
    }
  },
  "cells": [
    {
      "cell_type": "markdown",
      "metadata": {
        "id": "view-in-github",
        "colab_type": "text"
      },
      "source": [
        "<a href=\"https://colab.research.google.com/github/Akashmadasu1/My_Python_Notes/blob/main/Numpy_Note_Book.ipynb\" target=\"_parent\"><img src=\"https://colab.research.google.com/assets/colab-badge.svg\" alt=\"Open In Colab\"/></a>"
      ]
    },
    {
      "cell_type": "markdown",
      "source": [
        "# Numpy Introduction (27-05-2025)"
      ],
      "metadata": {
        "id": "slJoK1MOwz4q"
      }
    },
    {
      "cell_type": "code",
      "source": [
        "#what is numpy?\n",
        "#Numpy is core library for scetififc computing in puthon\n",
        "#what is the central object in numpy?\n",
        "#Numpy - Array's\n",
        "#What is Numpy?\n",
        "#Arrays are High performance, multidimensional objects which is designed specially for mathmetical operations.\n",
        "#Array's are ordered, immutable and allows duplicate data"
      ],
      "metadata": {
        "id": "1gowzN60w2E8"
      },
      "execution_count": null,
      "outputs": []
    },
    {
      "cell_type": "code",
      "source": [
        "#what are all different use case of numpy?\n",
        "\"\"\"\n",
        "1.Dot Product / Inner product\n",
        "2.Matrix multipication\n",
        "3.element wise matrix multiplication\n",
        "4.solving the linear systems\n",
        "5.inverse\n",
        "6.determinent\n",
        "7.choose the random numbers\n",
        "8.statistics\n",
        "9.Broadcasting method\n",
        "\"\"\""
      ],
      "metadata": {
        "id": "a3NxnYSIzHYa"
      },
      "execution_count": null,
      "outputs": []
    },
    {
      "cell_type": "markdown",
      "source": [
        "**Installation of Numpy**\n",
        "\n",
        "what is pip?\n",
        "\n",
        "python package manager\n",
        "\n",
        "package->modules->libraries->inbuilt codes"
      ],
      "metadata": {
        "id": "htMKZj9Ez5-1"
      }
    },
    {
      "cell_type": "code",
      "source": [
        "!pip install numpy"
      ],
      "metadata": {
        "colab": {
          "base_uri": "https://localhost:8080/"
        },
        "id": "ZLLy61lv0LcD",
        "outputId": "e82090a5-d2a4-47a1-dd5c-2cac0ca5ab9c"
      },
      "execution_count": null,
      "outputs": [
        {
          "output_type": "stream",
          "name": "stdout",
          "text": [
            "Requirement already satisfied: numpy in /usr/local/lib/python3.11/dist-packages (2.0.2)\n"
          ]
        }
      ]
    },
    {
      "cell_type": "code",
      "source": [
        "import numpy as np"
      ],
      "metadata": {
        "id": "Hbc1io6c0T6L"
      },
      "execution_count": null,
      "outputs": []
    },
    {
      "cell_type": "code",
      "source": [
        "#check the version of numpy?\n",
        "np.__version__"
      ],
      "metadata": {
        "colab": {
          "base_uri": "https://localhost:8080/",
          "height": 35
        },
        "id": "it-GYbsp0XWC",
        "outputId": "534bc754-384b-41ee-d1c6-c4fc66701c15"
      },
      "execution_count": null,
      "outputs": [
        {
          "output_type": "execute_result",
          "data": {
            "text/plain": [
              "'2.0.2'"
            ],
            "application/vnd.google.colaboratory.intrinsic+json": {
              "type": "string"
            }
          },
          "metadata": {},
          "execution_count": 3
        }
      ]
    },
    {
      "cell_type": "code",
      "source": [
        "#how many types of data structures do we have in numpy?\n",
        "#There 3 types\n",
        "#1D -- Array's-->Array's with zero columns and specific rows(axis 0)\n",
        "#2D -- Array's-->Array's with both rows(axis 0) and columns(axis 1)\n",
        "#3D --> also known as Multidimensional arrays"
      ],
      "metadata": {
        "id": "_vJLpBV70g6g"
      },
      "execution_count": null,
      "outputs": []
    },
    {
      "cell_type": "markdown",
      "source": [
        "# Central Object in Numpy is Array"
      ],
      "metadata": {
        "id": "0eSk_DP21ydx"
      }
    },
    {
      "cell_type": "code",
      "source": [
        "#How can we create an array?\n",
        "#Array's can be created from existing data\n",
        "#1D- Array\n",
        "l = [1,2,3,4,5]\n",
        "a = np.array(l)\n",
        "print(a)"
      ],
      "metadata": {
        "colab": {
          "base_uri": "https://localhost:8080/"
        },
        "id": "go1bF7tx1-pS",
        "outputId": "3435d2c0-b4c4-472b-ca16-b76f5ece7a8b"
      },
      "execution_count": null,
      "outputs": [
        {
          "output_type": "stream",
          "name": "stdout",
          "text": [
            "[1 2 3 4 5]\n"
          ]
        }
      ]
    },
    {
      "cell_type": "code",
      "source": [
        "a = np.array([1,2,3,4,5])\n",
        "print(a)\n",
        "print(type(a))"
      ],
      "metadata": {
        "colab": {
          "base_uri": "https://localhost:8080/"
        },
        "id": "OXW6wWdw2eIu",
        "outputId": "e1b27ab1-378d-4755-be9f-dbc30eb8daa5"
      },
      "execution_count": null,
      "outputs": [
        {
          "output_type": "stream",
          "name": "stdout",
          "text": [
            "[1 2 3 4 5]\n",
            "<class 'numpy.ndarray'>\n"
          ]
        }
      ]
    },
    {
      "cell_type": "code",
      "source": [
        "#I want to see the shape of the array\n",
        "a.shape\n",
        "#find the dtype of elements in the numpy array\n",
        "a.dtype\n",
        "#find the dimensionality of an array\n",
        "a.ndim\n",
        "#find the total number of element present in the array\n",
        "a.size\n",
        "#find the memory size in bytes occupied by each element in array\n",
        "a.itemsize\n"
      ],
      "metadata": {
        "id": "6-ROFXAa2vCy"
      },
      "execution_count": null,
      "outputs": []
    },
    {
      "cell_type": "markdown",
      "source": [
        "**Essential method to create an array**"
      ],
      "metadata": {
        "id": "AwI9NpVx3haY"
      }
    },
    {
      "cell_type": "code",
      "source": [
        "#create an array from tuple of numbers\n",
        "t = (1,2,3,4,5)\n",
        "b = np.array(t)\n",
        "print(b)\n",
        "print(type(b))"
      ],
      "metadata": {
        "colab": {
          "base_uri": "https://localhost:8080/"
        },
        "id": "7yJ4RyK43okm",
        "outputId": "a897d766-049e-46f4-a0ef-3c9f3f0fda40"
      },
      "execution_count": null,
      "outputs": [
        {
          "output_type": "stream",
          "name": "stdout",
          "text": [
            "[1 2 3 4 5]\n",
            "<class 'numpy.ndarray'>\n"
          ]
        }
      ]
    },
    {
      "cell_type": "code",
      "source": [
        "#create an array from dicitonary?\n",
        "d1 = {\n",
        "    'name':'akash'\n",
        "}\n",
        "c = np.array(d1)\n",
        "print(c)"
      ],
      "metadata": {
        "colab": {
          "base_uri": "https://localhost:8080/"
        },
        "id": "VTBTx5Bx38Ai",
        "outputId": "34ef988b-a86c-42e1-9106-f39c168c257b"
      },
      "execution_count": null,
      "outputs": [
        {
          "output_type": "stream",
          "name": "stdout",
          "text": [
            "{'name': 'akash'}\n"
          ]
        }
      ]
    },
    {
      "cell_type": "code",
      "source": [
        "#create an array from the set?\n",
        "s = {1,2,3,4,5,6}\n",
        "d = np.array(s)\n",
        "print(d)"
      ],
      "metadata": {
        "colab": {
          "base_uri": "https://localhost:8080/"
        },
        "id": "MTABeyA74U2S",
        "outputId": "a9f337ef-5eae-4ca5-8ef7-f0a8f2531ebd"
      },
      "execution_count": null,
      "outputs": [
        {
          "output_type": "stream",
          "name": "stdout",
          "text": [
            "{1, 2, 3, 4, 5, 6}\n"
          ]
        }
      ]
    },
    {
      "cell_type": "markdown",
      "source": [
        "**essentional method to acess an array**"
      ],
      "metadata": {
        "id": "-koNkJVe4ikO"
      }
    },
    {
      "cell_type": "code",
      "source": [
        "a = np.array([1,2,3,4,5])\n",
        "#print the 1st value\n",
        "print(a[0])\n",
        "#print 2,3 from above array\n",
        "print(a[1:3])\n",
        "#reverse the above array\n",
        "print(a[::-1])"
      ],
      "metadata": {
        "colab": {
          "base_uri": "https://localhost:8080/"
        },
        "id": "1inoZGF34pXP",
        "outputId": "5d55e8b6-5fde-4945-9b36-f9d1a2a393be"
      },
      "execution_count": null,
      "outputs": [
        {
          "output_type": "stream",
          "name": "stdout",
          "text": [
            "1\n",
            "[2 3]\n",
            "[5 4 3 2 1]\n"
          ]
        }
      ]
    },
    {
      "cell_type": "code",
      "source": [
        "#Array's are immutable we can replace the data but we cannot add new elements and we cannont remove elements from arrays\n",
        "a[2] = 5\n",
        "print(a)"
      ],
      "metadata": {
        "colab": {
          "base_uri": "https://localhost:8080/"
        },
        "id": "fpPpK7-65HaO",
        "outputId": "a51cb1b1-4376-49ae-ac18-fd9162c4b66b"
      },
      "execution_count": null,
      "outputs": [
        {
          "output_type": "stream",
          "name": "stdout",
          "text": [
            "[1 2 5 4 5]\n"
          ]
        }
      ]
    },
    {
      "cell_type": "code",
      "source": [
        "#How can we add the new items to the arrays?-->we can add by creating a new variable"
      ],
      "metadata": {
        "id": "ZMgjd0fi5pL9"
      },
      "execution_count": null,
      "outputs": []
    },
    {
      "cell_type": "markdown",
      "source": [
        "**Element wise maths operation**"
      ],
      "metadata": {
        "id": "8TmiTMgA54wJ"
      }
    },
    {
      "cell_type": "code",
      "source": [
        "b = np.array([6,7,8,9,10])\n",
        "print(a+b)\n",
        "#what is vector addition?\n",
        "#when we apply addition on array of same length and dimensions --> is known as vector addition\n",
        "#Note:-"
      ],
      "metadata": {
        "colab": {
          "base_uri": "https://localhost:8080/"
        },
        "id": "m2eRdV0p6DbH",
        "outputId": "4a8269cc-433c-4b2a-a65b-073697f0d8c9"
      },
      "execution_count": null,
      "outputs": [
        {
          "output_type": "stream",
          "name": "stdout",
          "text": [
            "[ 7  9 13 13 15]\n"
          ]
        }
      ]
    },
    {
      "cell_type": "code",
      "source": [
        "c = np.array([9])\n",
        "print(b+c)\n",
        "#what is broadcasting method?\n",
        "#Adding a single element of an array with mutiply elements in another array of same dimension is known as Broad casting method"
      ],
      "metadata": {
        "colab": {
          "base_uri": "https://localhost:8080/"
        },
        "id": "-Ij4B9A26fPF",
        "outputId": "89f2404a-201b-4045-a384-e911ec0fe19e"
      },
      "execution_count": null,
      "outputs": [
        {
          "output_type": "stream",
          "name": "stdout",
          "text": [
            "[15 16 17 18 19]\n"
          ]
        }
      ]
    },
    {
      "cell_type": "markdown",
      "source": [
        "**Difference between Array vs List**"
      ],
      "metadata": {
        "id": "L4x36Uy47oN0"
      }
    },
    {
      "cell_type": "code",
      "source": [
        "l = [1,2,3]\n",
        "a = np.array(1)\n",
        "print(dir(a))"
      ],
      "metadata": {
        "id": "IxYiDK_27xEs"
      },
      "execution_count": null,
      "outputs": []
    },
    {
      "cell_type": "code",
      "source": [
        "#how can we adding the elements in the list\n",
        "l.append(4)\n",
        "print(l)"
      ],
      "metadata": {
        "colab": {
          "base_uri": "https://localhost:8080/"
        },
        "id": "2jAA8WDj75AJ",
        "outputId": "c5bfc4d0-d416-470a-9d32-54354d7df77e"
      },
      "execution_count": null,
      "outputs": [
        {
          "output_type": "stream",
          "name": "stdout",
          "text": [
            "[1, 2, 3, 4]\n"
          ]
        }
      ]
    },
    {
      "cell_type": "code",
      "source": [
        "#add the element in an array\n",
        "b = np.array([5,6,7,8])\n",
        "c = np.append(a,b)\n",
        "print(c)"
      ],
      "metadata": {
        "colab": {
          "base_uri": "https://localhost:8080/"
        },
        "id": "4mWNai_I8D4-",
        "outputId": "d64268e4-9884-4ca6-9d41-71afd960975e"
      },
      "execution_count": null,
      "outputs": [
        {
          "output_type": "stream",
          "name": "stdout",
          "text": [
            "[1 5 6 7 8]\n"
          ]
        }
      ]
    },
    {
      "cell_type": "code",
      "source": [
        "\"MISD---->Multiple input and single destination\""
      ],
      "metadata": {
        "id": "ic5QEG0k9Wyp"
      },
      "execution_count": null,
      "outputs": []
    },
    {
      "cell_type": "code",
      "source": [
        "#find the sqrt of below array's?\n",
        "a = np.array([10,20,30,40,50,60,70])\n",
        "print(np.sqrt(a))"
      ],
      "metadata": {
        "colab": {
          "base_uri": "https://localhost:8080/"
        },
        "id": "KykAUUoL9pkP",
        "outputId": "29042992-98c0-442d-fa6f-346b1fd90ad6"
      },
      "execution_count": null,
      "outputs": [
        {
          "output_type": "stream",
          "name": "stdout",
          "text": [
            "[3.16227766 4.47213595 5.47722558 6.32455532 7.07106781 7.74596669\n",
            " 8.36660027]\n"
          ]
        }
      ]
    },
    {
      "cell_type": "markdown",
      "source": [
        "**Dot Prduct**"
      ],
      "metadata": {
        "id": "UrdFDwfw-O7D"
      }
    },
    {
      "cell_type": "code",
      "source": [
        "a = np.array([1,2])\n",
        "b = np.array([3,4])\n",
        "dot=0\n",
        "for i in range(len(a)):\n",
        "  dot = dot + a[i]*b[i]\n",
        "print(dot)"
      ],
      "metadata": {
        "colab": {
          "base_uri": "https://localhost:8080/"
        },
        "id": "vq9rGJtM-VNo",
        "outputId": "aba58084-59c3-4685-c55b-cc7675d649e0"
      },
      "execution_count": null,
      "outputs": [
        {
          "output_type": "stream",
          "name": "stdout",
          "text": [
            "11\n"
          ]
        }
      ]
    },
    {
      "cell_type": "code",
      "source": [
        "#dot product is vector multiplication of elements and sum of the result\n",
        "dot = np.dot(a,b)\n",
        "print(dot)"
      ],
      "metadata": {
        "colab": {
          "base_uri": "https://localhost:8080/"
        },
        "id": "f1hQ5vke-0s1",
        "outputId": "988173da-cd8d-4f1e-a2d9-4eb480dfb6fd"
      },
      "execution_count": null,
      "outputs": [
        {
          "output_type": "stream",
          "name": "stdout",
          "text": [
            "11\n"
          ]
        }
      ]
    },
    {
      "cell_type": "code",
      "source": [
        "#Manual method\n",
        "c = a*b\n",
        "d = np.sum(c)\n",
        "print(d)"
      ],
      "metadata": {
        "id": "VdzTj38Y_GHI"
      },
      "execution_count": null,
      "outputs": []
    },
    {
      "cell_type": "code",
      "source": [
        "#another method\n",
        "e = np.dot(a,b)\n",
        "print(e)"
      ],
      "metadata": {
        "id": "yUei5s4x_P45"
      },
      "execution_count": null,
      "outputs": []
    },
    {
      "cell_type": "code",
      "source": [
        "#latest method\n",
        "f = a@b\n",
        "print(f)"
      ],
      "metadata": {
        "colab": {
          "base_uri": "https://localhost:8080/"
        },
        "id": "_lixyP1n_T6r",
        "outputId": "de34a6e2-d2be-4d97-cce1-6c74efd9b551"
      },
      "execution_count": null,
      "outputs": [
        {
          "output_type": "stream",
          "name": "stdout",
          "text": [
            "11\n"
          ]
        }
      ]
    },
    {
      "cell_type": "markdown",
      "source": [
        "**Speed test b/w Array vs List**"
      ],
      "metadata": {
        "id": "N6k3Wp2vAFed"
      }
    },
    {
      "cell_type": "code",
      "source": [
        "#import a time calculator to see difference\n",
        "from timeit import default_timer as timer\n",
        "#create an random array\n",
        "a = np.random.randn(1000)\n",
        "b = np.random.randn(1000)\n",
        "#convert the above array's\n",
        "c = list(a)\n",
        "d = list(b)\n",
        "T=1000\n",
        "def dot1():\n",
        "  dot = 0\n",
        "  for i in range(len(c)):\n",
        "    dot += c[i]*d[i]\n",
        "  return dot\n",
        "def dot2():\n",
        "  return np.dot(a,b)\n",
        "\n",
        "#take the timer\n",
        "start = timer()\n",
        "for i in range(T):\n",
        "  dot1()\n",
        "end = timer()\n",
        "t1 = end-start\n",
        "\n",
        "#create a timer for numpy array\n",
        "start = timer()\n",
        "for t in range(T):\n",
        "  dot2()\n",
        "end = timer()\n",
        "t2 = end-start\n",
        "\n",
        "print('time with list',t1)\n",
        "print('time with list',t2)\n",
        "print(t1/t2)"
      ],
      "metadata": {
        "colab": {
          "base_uri": "https://localhost:8080/"
        },
        "id": "67sixtQ8AOPp",
        "outputId": "28b8b669-08eb-4a96-d947-129418734742"
      },
      "execution_count": null,
      "outputs": [
        {
          "output_type": "stream",
          "name": "stdout",
          "text": [
            "time with list 0.328946406999421\n",
            "time with list 0.002482713999597763\n",
            "132.49468406458226\n"
          ]
        }
      ]
    }
  ]
}