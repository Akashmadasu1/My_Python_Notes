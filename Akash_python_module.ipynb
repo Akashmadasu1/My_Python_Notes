{
  "nbformat": 4,
  "nbformat_minor": 0,
  "metadata": {
    "colab": {
      "provenance": [],
      "collapsed_sections": [
        "BvLs0iu9lZ-U",
        "4wjNoOuMbYkz",
        "QaLUOoPZtyop",
        "6JZJCz9u0zkv",
        "J7TXzv4ev7qR",
        "576XqpqZkD1t",
        "OrrMjcDIptnL",
        "KDnnL2M-zlW1",
        "A_09LjIK9yH2"
      ],
      "include_colab_link": true
    },
    "kernelspec": {
      "name": "python3",
      "display_name": "Python 3"
    },
    "language_info": {
      "name": "python"
    }
  },
  "cells": [
    {
      "cell_type": "markdown",
      "metadata": {
        "id": "view-in-github",
        "colab_type": "text"
      },
      "source": [
        "<a href=\"https://colab.research.google.com/github/Akashmadasu1/My_Python_Notes/blob/main/Akash_python_module.ipynb\" target=\"_parent\"><img src=\"https://colab.research.google.com/assets/colab-badge.svg\" alt=\"Open In Colab\"/></a>"
      ]
    },
    {
      "cell_type": "markdown",
      "source": [
        "  **Course Details**\n",
        "   python-->B,I,A,E\n",
        "   NUMPY,\n",
        "  PANDAS,\n",
        "   STATS,\n",
        "   SQL--MYSQL or Nosql--mongodb,\n",
        "   Dv-seaborn matplot--> power Bi or tableau,\n",
        "   Dpps,\n",
        "   AI/ML,\n",
        "   NLP,\n",
        "   --->LLM, gen-ai-->AIFLOW-->AGENTIC AI"
      ],
      "metadata": {
        "id": "MxVgbljmeZgI"
      }
    },
    {
      "cell_type": "code",
      "source": [
        "\"\"\"python-->B,I,A,E\n",
        "   nUMPY\n",
        "   PANDAS\n",
        "   STATS\n",
        "   SQL--MYSQL or Nosql--mongodb\n",
        "   Dv-seaborn matplot--> power Bi or tableau\n",
        "   Dpps\n",
        "   AI/ML\n",
        "   NLP\n",
        "   --->LLM, gen-ai-->AIFLOW-->AGENTIC AI"
      ],
      "metadata": {
        "id": "ITrUqVpZL-rG"
      },
      "execution_count": null,
      "outputs": []
    },
    {
      "cell_type": "markdown",
      "source": [
        "#Module1_Python 5-04-2025\n",
        "\n"
      ],
      "metadata": {
        "id": "BvLs0iu9lZ-U"
      }
    },
    {
      "cell_type": "code",
      "execution_count": null,
      "metadata": {
        "id": "TMvEFv2YkTB9"
      },
      "outputs": [],
      "source": [
        "#what is python\n",
        "\"\"\"1.Python is most emerging,general purposing programming language\n",
        "   2. Python is high level programming language\n",
        "   3.Python is a dynamcally typed programming language\n",
        "   4.Python is object oriented programming language\n",
        "   5.Python is interpreted programming language \"\"\"\n",
        "#what is comment?\n",
        "#for better understanding of the code we use comments\n",
        "#comments are 2 types\n",
        "#1.Single line comment\n",
        "#2.multiline comment-->double triple quotes(\"\"\" \"\"\")"
      ]
    },
    {
      "cell_type": "code",
      "source": [
        "#Q)what is general purpose programming language?\n",
        "'''Q)what is the main purpose of python?\n",
        "A)manage the tons of data and AI development\n",
        "due to its more libraries-->we are using it for web and mobileapp development\n",
        "\"\"\""
      ],
      "metadata": {
        "id": "AS832wbza5n3"
      },
      "execution_count": null,
      "outputs": []
    },
    {
      "cell_type": "code",
      "source": [
        "#How many levels of programming language do we have?\n",
        "\"\"\"There are 2 levels\n",
        "1.lOW-LEVEL:- IS ALSO KNOWN AS machine friendly programming language\n",
        "⟶  each line of code is changing in to binary forms-->1's and 0's\n",
        "⟶ more lines of codes\n",
        "   ex:- c, c++,.net\"\"\"\n",
        "#2.High-level programming language:- is also known as\n",
        "\"\"\" ⟶ human friendly programming language\n",
        "    ⟶ codes are not changing into binary forms\n",
        "   ⟶ low lines of codes\n",
        "   ⟶ ex:- java, python\"\"\""
      ],
      "metadata": {
        "id": "KUXW80bobBZa"
      },
      "execution_count": null,
      "outputs": []
    },
    {
      "cell_type": "code",
      "source": [
        "#python is object oriented programming language?\n",
        "# object oriented programming means each LOC having own identity own properties own interaction based on three ways the object is belongs to certain category of class\n",
        "#A.Each line of consider has a object and object is having its own identity , attributes or Properties and methods of interaction.\n",
        "''''🏠 Real-Life Analogy:\n",
        "->Think of a class like a blueprint for a house.\n",
        "->It defines what every house will have: doors, windows, rooms.\n",
        "->But you can't live in a blueprint, right?\n",
        "->So you build a house using that blueprint. That house is an instance of the blueprint.'''\n",
        "\n",
        "# Define a class (blueprint)\n",
        "class Dog:\n",
        "    def __init__(self, name):\n",
        "       # Attribute\n",
        "        self.name = name\n",
        "\n",
        "    # Method (Behavior)\n",
        "    def bark(self):\n",
        "        print(f\"{self.name} says woof!\")\n",
        "\n",
        "# Create instances (real objects from the Dog class)\n",
        "dog1 = Dog(\"Buddy\")   # Instance 1\n",
        "dog2 = Dog(\"Charlie\") # Instance 2\n",
        "\n",
        "# Use their methods\n",
        "dog1.bark()  # Output: Buddy says woof!\n",
        "dog2.bark()  # Output: Charlie says woof!\n",
        "\n",
        "# Check their types\n",
        "print(\"Type of dog1:\", type(dog1))\n",
        "print(\"Type of dog2:\", type(dog2))\n",
        "\n",
        "\n",
        "''''Dog is the class (blueprint).\n",
        "\n",
        "dog1 and dog2 are instances (real objects).\n",
        "\n",
        "Each instance has its own data (name) and behavior (bark()).'''\n",
        "\n"
      ],
      "metadata": {
        "id": "rdhyZIjybIX1"
      },
      "execution_count": null,
      "outputs": []
    },
    {
      "cell_type": "code",
      "source": [
        "''''Note:-in python each line of code can be considered as an object means object is having its own identity , attributes or Properties and methods of interaction\n",
        "->based this three ways the object is belong '''"
      ],
      "metadata": {
        "id": "HLpx7lfEbKzG"
      },
      "execution_count": null,
      "outputs": []
    },
    {
      "cell_type": "code",
      "source": [
        "#python is a dynamically typed programming language?\n",
        "''''It means you don’t need to declare the data type of a variable when you create it.\n",
        "Python automatically figures it out at runtime based on the value you assign.\n",
        "->in static type we have declare a variable for example like c,c++,java'''\n",
        "#we no need to define the datatypes to the variables in the python\n",
        "#python can read the data automatically by itself\n",
        "a = 10\n",
        "print(type(a))\n",
        "b = \"How\"\n",
        "print(type(b))"
      ],
      "metadata": {
        "id": "2frCI_6ubPUD"
      },
      "execution_count": null,
      "outputs": []
    },
    {
      "cell_type": "code",
      "source": [
        "#5.python is an interpreted programming language?\n",
        "''''An interpreted language runs its code line by line, using an interpreter, instead of compiling the whole program into machine code first.\n",
        "->it consider last line of code as a output\n",
        "->Interpreted means\tAdjective like\tDescribes a language that uses an interpreter\n",
        "->Interpreter\tmeans Noun like\tA program that executes the code line-by-line'''"
      ],
      "metadata": {
        "id": "k8lEUcYdbSmE"
      },
      "execution_count": null,
      "outputs": []
    },
    {
      "cell_type": "code",
      "source": [
        "#6.python is a case sensitive programming language?\n",
        "h = \"123\"\n",
        "print(H)"
      ],
      "metadata": {
        "id": "ItEaCkMnbVNt"
      },
      "execution_count": null,
      "outputs": []
    },
    {
      "cell_type": "markdown",
      "source": [
        "# 6-05-2025"
      ],
      "metadata": {
        "id": "4wjNoOuMbYkz"
      }
    },
    {
      "cell_type": "code",
      "source": [
        "#print a hello world in python\n",
        "print(\"Hello world!\")"
      ],
      "metadata": {
        "id": "QTd5FKtGbkGA"
      },
      "execution_count": null,
      "outputs": []
    },
    {
      "cell_type": "markdown",
      "source": [
        "Numerical data types (6-05-2025)"
      ],
      "metadata": {
        "id": "jGrJBsfMn_jn"
      }
    },
    {
      "cell_type": "code",
      "source": [
        "#How many types of Numerical data types/\n",
        "#there are 3 types\n",
        "#1.Integer--->int-->a whole number eithe +ve or -ve without decimal point is known as integer\n",
        "print(20)\n",
        "print(5)\n",
        "#find the type for above elements\n",
        "#type()--- is an inbuilt function used to print the data type of the object\n",
        "print(type(10))\n",
        "print(type(5))"
      ],
      "metadata": {
        "colab": {
          "base_uri": "https://localhost:8080/"
        },
        "id": "lpjP62hfoGFq",
        "outputId": "c53a4ab9-cdad-48a8-d95d-9720f12c962e"
      },
      "execution_count": null,
      "outputs": [
        {
          "output_type": "stream",
          "name": "stdout",
          "text": [
            "20\n",
            "5\n",
            "<class 'int'>\n",
            "<class 'int'>\n"
          ]
        }
      ]
    },
    {
      "cell_type": "code",
      "source": [
        "#2.float----> #float---> A whole number either +ve or -ve with decimal point is known as float\n",
        "print(10.5)\n",
        "print(-5.5)\n",
        "#find the type for above elements\n",
        "print(type(10.5))\n",
        "print(type(-5.5))"
      ],
      "metadata": {
        "colab": {
          "base_uri": "https://localhost:8080/"
        },
        "id": "5W3ccuUbpS6a",
        "outputId": "a3616b1a-03c6-47b0-ad14-2cda2c4ce3eb"
      },
      "execution_count": null,
      "outputs": [
        {
          "output_type": "stream",
          "name": "stdout",
          "text": [
            "10.5\n",
            "-5.5\n",
            "<class 'float'>\n",
            "<class 'float'>\n"
          ]
        }
      ]
    },
    {
      "cell_type": "code",
      "source": [
        "#3.Complex numbers----->complex----> A REAL NUMBER withits imaginary part is known as complex number\n",
        "#imaginary is denoted with letter 'j'---->is known as iota\n",
        "print(2+5j)\n",
        "print(6j+3)\n",
        "print(type(2+5j))\n",
        "print(type(6j+3))"
      ],
      "metadata": {
        "colab": {
          "base_uri": "https://localhost:8080/"
        },
        "id": "TRvyXYgqqCia",
        "outputId": "cdc3af5d-8834-4b85-be2f-d1a370293314"
      },
      "execution_count": null,
      "outputs": [
        {
          "output_type": "stream",
          "name": "stdout",
          "text": [
            "(2+5j)\n",
            "(3+6j)\n",
            "<class 'complex'>\n",
            "<class 'complex'>\n"
          ]
        }
      ]
    },
    {
      "cell_type": "markdown",
      "source": [
        "Arthemetic Operators\n"
      ],
      "metadata": {
        "id": "IAALqlE7rmZj"
      }
    },
    {
      "cell_type": "code",
      "source": [
        "#How many types of arthimetic operators do we have in Python?\n",
        "#There are 7 types of arithemetic operators\n",
        "#1.Addition----->\n",
        "print(10+5)\n",
        "print(type(10+5))"
      ],
      "metadata": {
        "colab": {
          "base_uri": "https://localhost:8080/"
        },
        "collapsed": true,
        "id": "V-VfMrBcr3s8",
        "outputId": "38f52667-a573-4579-87f3-0a7bd7d2bdfd"
      },
      "execution_count": null,
      "outputs": [
        {
          "output_type": "stream",
          "name": "stdout",
          "text": [
            "15\n",
            "<class 'int'>\n"
          ]
        }
      ]
    },
    {
      "cell_type": "code",
      "source": [
        "#2.Substraction------>\n",
        "print(10-5)\n",
        "print(type(10-5))"
      ],
      "metadata": {
        "colab": {
          "base_uri": "https://localhost:8080/"
        },
        "collapsed": true,
        "id": "RF7gfK9LsI2E",
        "outputId": "608f5a57-bd27-4c6b-9cc8-0e723262308d"
      },
      "execution_count": null,
      "outputs": [
        {
          "output_type": "stream",
          "name": "stdout",
          "text": [
            "5\n",
            "<class 'int'>\n"
          ]
        }
      ]
    },
    {
      "cell_type": "code",
      "source": [
        "#3.Multiplication ------>\n",
        "print(2*3)\n",
        "print(type(2*3))"
      ],
      "metadata": {
        "colab": {
          "base_uri": "https://localhost:8080/"
        },
        "id": "OZhyEGkcsjNn",
        "outputId": "70aa10af-064a-4570-945e-4a451215c6b8"
      },
      "execution_count": null,
      "outputs": [
        {
          "output_type": "stream",
          "name": "stdout",
          "text": [
            "6\n",
            "<class 'int'>\n"
          ]
        }
      ]
    },
    {
      "cell_type": "code",
      "source": [
        "#4.Division------>\n",
        "print(10/5)\n",
        "print(type(10/5))\n",
        "#Note:-the default data type for division is float bcz to get the proper co-efficient\n",
        "#what is default data type for the division--->why\n",
        "#some times in divison we may get decimal number in quotient or integers also.So the founder\n",
        "#(Gudeo Van Rossum) to get the proper quotient data type for division is float"
      ],
      "metadata": {
        "colab": {
          "base_uri": "https://localhost:8080/"
        },
        "id": "qBm3QDzqsu2E",
        "outputId": "28a79dc4-329f-45f0-b4f1-07730065d12b"
      },
      "execution_count": null,
      "outputs": [
        {
          "output_type": "stream",
          "name": "stdout",
          "text": [
            "2.0\n",
            "<class 'float'>\n"
          ]
        }
      ]
    },
    {
      "cell_type": "code",
      "source": [
        "#5.Modulus--->%----> remainder of the division\n",
        "print(10%5)\n",
        "print(type(10%5))"
      ],
      "metadata": {
        "colab": {
          "base_uri": "https://localhost:8080/"
        },
        "id": "C2lViKztu3j1",
        "outputId": "ab6515ae-3fac-4e57-b94b-7f1184111388"
      },
      "execution_count": null,
      "outputs": [
        {
          "output_type": "stream",
          "name": "stdout",
          "text": [
            "0\n",
            "<class 'int'>\n"
          ]
        }
      ]
    },
    {
      "cell_type": "code",
      "source": [
        "#6.Exponential---->**---> to the power off\n",
        "print(2**3)\n",
        "print(type(2**3))"
      ],
      "metadata": {
        "colab": {
          "base_uri": "https://localhost:8080/"
        },
        "collapsed": true,
        "id": "orXeDF7nvI-N",
        "outputId": "d5d75af9-dcdf-47fd-e5db-d91fc18d8b39"
      },
      "execution_count": null,
      "outputs": [
        {
          "output_type": "stream",
          "name": "stdout",
          "text": [
            "8\n",
            "<class 'int'>\n"
          ]
        }
      ]
    },
    {
      "cell_type": "code",
      "source": [
        "#7.Floor Division---->//---->also known as integer division\n",
        "#it ignores the values after the decimal point for a quotient\n",
        "print(10/3)\n",
        "print(10//3)"
      ],
      "metadata": {
        "colab": {
          "base_uri": "https://localhost:8080/"
        },
        "id": "37ttHifUvZzq",
        "outputId": "3e319b4a-9851-4a53-9b4d-ac09875ed9ee"
      },
      "execution_count": null,
      "outputs": [
        {
          "output_type": "stream",
          "name": "stdout",
          "text": [
            "3.3333333333333335\n",
            "3\n"
          ]
        }
      ]
    },
    {
      "cell_type": "code",
      "source": [
        "#what is floor value?\n",
        "#The values before the decimal point is known as floor value\n",
        "#what is ceil value?\n",
        "#the text upcoming value for a decimal number where the decimal point is more than 0.5"
      ],
      "metadata": {
        "id": "npUWiZ4Sv4Wn"
      },
      "execution_count": null,
      "outputs": []
    },
    {
      "cell_type": "markdown",
      "source": [
        "floor value and ceil value"
      ],
      "metadata": {
        "id": "n846Xgmyb9X6"
      }
    },
    {
      "cell_type": "code",
      "source": [
        "#The values before decimal point is known as floor values\n",
        "#what is ceil value?\n",
        "#The next upcoming number for a decimal number is known as ceil value"
      ],
      "metadata": {
        "id": "cL__GhlZcG9o"
      },
      "execution_count": null,
      "outputs": []
    },
    {
      "cell_type": "code",
      "source": [
        "#round():- this function is applicable only for decimal numbers\n",
        "#if the decimal values are greater then 0.5 it print ceil value\n",
        "#if the decimal values less then 0.5 then it print floor value"
      ],
      "metadata": {
        "id": "bV49Tsl1cN9X"
      },
      "execution_count": null,
      "outputs": []
    },
    {
      "cell_type": "markdown",
      "source": [
        "round()"
      ],
      "metadata": {
        "id": "O2GJbOZRwWJO"
      }
    },
    {
      "cell_type": "code",
      "source": [
        "#1.round() works only for the decimal numbers\n",
        "#2.if the decimal point more than 0.5 round() print the next upcoming value--->ceil value\n",
        "#3.if the decimal point less than 0.5 round() print the floor value\n",
        "print(round(9))\n",
        "print(round(5.5))\n",
        "print(round(5.48))\n",
        "print(round(1234.46789))\n",
        "print(round(567.987))\n",
        "#round() is used print number with specific ndigits\n",
        "#round(number,ndigits)\n"
      ],
      "metadata": {
        "colab": {
          "base_uri": "https://localhost:8080/"
        },
        "id": "_bXB3mD5wUgi",
        "outputId": "10843323-a1ed-45c7-dfb1-8778f9ffb8db"
      },
      "execution_count": null,
      "outputs": [
        {
          "output_type": "stream",
          "name": "stdout",
          "text": [
            "9\n",
            "6\n",
            "5\n",
            "1234\n",
            "568\n"
          ]
        }
      ]
    },
    {
      "cell_type": "code",
      "source": [
        "print(round(231537.8378844540))\n",
        "print(round(426.3284747,3))"
      ],
      "metadata": {
        "colab": {
          "base_uri": "https://localhost:8080/"
        },
        "id": "8g-hAVOsx8kz",
        "outputId": "7497196d-a9d6-4a3d-8320-9a6db6d836d4"
      },
      "execution_count": null,
      "outputs": [
        {
          "output_type": "stream",
          "name": "stdout",
          "text": [
            "231538\n",
            "426.328\n"
          ]
        }
      ]
    },
    {
      "cell_type": "code",
      "source": [
        "print(round(785.42563,0))\n",
        "print(round(6589.32947890,5))\n",
        "print(round(12.59426,4))"
      ],
      "metadata": {
        "colab": {
          "base_uri": "https://localhost:8080/"
        },
        "id": "cLt6ruNUyjFj",
        "outputId": "8b6adcbb-ecea-4951-b179-13172a0a13db"
      },
      "execution_count": null,
      "outputs": [
        {
          "output_type": "stream",
          "name": "stdout",
          "text": [
            "785.0\n",
            "6589.32948\n",
            "12.5943\n"
          ]
        }
      ]
    },
    {
      "cell_type": "code",
      "source": [
        "#round(-ve digit)\n",
        "#variables\n",
        "#types of errors\n",
        "#industrial rules to create the variables\n",
        "#what is dynamically typed programming language\n",
        "#why python is interpreted programming\n",
        "#prove python is a case sensitive programming language\n",
        "#smart ways of writing variables\n",
        "#input()"
      ],
      "metadata": {
        "id": "FWVYEfaOy2yR"
      },
      "execution_count": null,
      "outputs": []
    },
    {
      "cell_type": "markdown",
      "source": [
        "# 07_05_2025\n",
        "\n",
        "round()"
      ],
      "metadata": {
        "id": "QaLUOoPZtyop"
      }
    },
    {
      "cell_type": "code",
      "source": [
        "print(3754.2366325)\n",
        "print(round(3754.2366325,2))\n"
      ],
      "metadata": {
        "colab": {
          "base_uri": "https://localhost:8080/"
        },
        "id": "MxUNvhMmubQh",
        "outputId": "5ebb930a-3921-4ea3-d791-e80b117ca42b"
      },
      "execution_count": null,
      "outputs": [
        {
          "output_type": "stream",
          "name": "stdout",
          "text": [
            "3754.2366325\n",
            "3754.24\n"
          ]
        }
      ]
    },
    {
      "cell_type": "code",
      "source": [
        "print(3754.2366325)\n",
        "print(round(3754.2366325,-2))\n",
        "#after decimal point the number become zero"
      ],
      "metadata": {
        "colab": {
          "base_uri": "https://localhost:8080/"
        },
        "id": "W5_PTId2vH6t",
        "outputId": "c09c89d2-ef38-4d1e-d0c8-586c301dbbc4"
      },
      "execution_count": null,
      "outputs": [
        {
          "output_type": "stream",
          "name": "stdout",
          "text": [
            "3754.2366325\n",
            "3800.0\n"
          ]
        }
      ]
    },
    {
      "cell_type": "code",
      "source": [
        "print(3754.2366325)\n",
        "print(round(3754.2366325,-3))"
      ],
      "metadata": {
        "colab": {
          "base_uri": "https://localhost:8080/"
        },
        "id": "UTgJFJa7vaCE",
        "outputId": "8139ab2b-2fac-44db-f8c3-2d3598d02f17"
      },
      "execution_count": null,
      "outputs": [
        {
          "output_type": "stream",
          "name": "stdout",
          "text": [
            "3754.2366325\n",
            "4000.0\n"
          ]
        }
      ]
    },
    {
      "cell_type": "code",
      "source": [
        "print(3754.2366325)\n",
        "print(round(3754.2366325,-4))"
      ],
      "metadata": {
        "colab": {
          "base_uri": "https://localhost:8080/"
        },
        "id": "H5BkJU9evn-h",
        "outputId": "0c8e68a4-6e25-48c3-bfc7-3de50b87ba1d"
      },
      "execution_count": null,
      "outputs": [
        {
          "output_type": "stream",
          "name": "stdout",
          "text": [
            "3754.2366325\n",
            "0.0\n"
          ]
        }
      ]
    },
    {
      "cell_type": "code",
      "source": [
        "print(round(827256.723456,-3))"
      ],
      "metadata": {
        "colab": {
          "base_uri": "https://localhost:8080/"
        },
        "id": "UopdTs03vtU9",
        "outputId": "3545338e-ab05-462b-fd18-91747e8d8ec8"
      },
      "execution_count": null,
      "outputs": [
        {
          "output_type": "stream",
          "name": "stdout",
          "text": [
            "827000.0\n"
          ]
        }
      ]
    },
    {
      "cell_type": "code",
      "source": [
        "print(round(827256.723456,-4))"
      ],
      "metadata": {
        "colab": {
          "base_uri": "https://localhost:8080/"
        },
        "id": "cfgdrIiZwURP",
        "outputId": "05d4c750-0769-4f72-dba1-253330fad461"
      },
      "execution_count": null,
      "outputs": [
        {
          "output_type": "stream",
          "name": "stdout",
          "text": [
            "830000.0\n"
          ]
        }
      ]
    },
    {
      "cell_type": "code",
      "source": [
        "print(round(-12345.4567,-3))"
      ],
      "metadata": {
        "colab": {
          "base_uri": "https://localhost:8080/"
        },
        "id": "GastTRddwUJ6",
        "outputId": "ae8fc6d4-12bd-4b20-d64f-ab0e5a85f294"
      },
      "execution_count": null,
      "outputs": [
        {
          "output_type": "stream",
          "name": "stdout",
          "text": [
            "-12000.0\n"
          ]
        }
      ]
    },
    {
      "cell_type": "code",
      "source": [
        "print(round(73424.3452,-5))"
      ],
      "metadata": {
        "colab": {
          "base_uri": "https://localhost:8080/"
        },
        "id": "P4bsof2txcWE",
        "outputId": "0d66c508-0c49-4aa0-a145-9d7ef186a888"
      },
      "execution_count": null,
      "outputs": [
        {
          "output_type": "stream",
          "name": "stdout",
          "text": [
            "100000.0\n"
          ]
        }
      ]
    },
    {
      "cell_type": "code",
      "source": [
        "print(round(53624.73626,-5))"
      ],
      "metadata": {
        "colab": {
          "base_uri": "https://localhost:8080/"
        },
        "id": "-r_uEug9xnxk",
        "outputId": "f9dfc0f5-5c55-4909-834a-87ff42233bb3"
      },
      "execution_count": null,
      "outputs": [
        {
          "output_type": "stream",
          "name": "stdout",
          "text": [
            "100000.0\n"
          ]
        }
      ]
    },
    {
      "cell_type": "markdown",
      "source": [
        "**Types of errors**"
      ],
      "metadata": {
        "id": "d6MmyaaLcahL"
      }
    },
    {
      "cell_type": "code",
      "source": [
        "#There are 2 Types\n",
        "#1.Syntax error:- Braking the rules of a programming language can rise syntax error\n",
        "#2.Logical errors:-except syntax"
      ],
      "metadata": {
        "id": "KbNQT12RcaFs"
      },
      "execution_count": null,
      "outputs": []
    },
    {
      "cell_type": "markdown",
      "source": [
        "Variables"
      ],
      "metadata": {
        "id": "F6jevzBJx37f"
      }
    },
    {
      "cell_type": "code",
      "source": [
        "#what is a variable?\n",
        "#variables are containers where we can store our valuable information/data to reuse it\n",
        "#How can we create a variable and how can we access the data from variables?\n",
        "a = \"Hello world!\"\n",
        "print(a)\n",
        "print(type(a))"
      ],
      "metadata": {
        "colab": {
          "base_uri": "https://localhost:8080/"
        },
        "id": "8naZBy2ox9uH",
        "outputId": "48117ca2-b2eb-4bf5-abc7-bf4ef6759fb7"
      },
      "execution_count": null,
      "outputs": [
        {
          "output_type": "stream",
          "name": "stdout",
          "text": [
            "Hello world!\n",
            "<class 'str'>\n"
          ]
        }
      ]
    },
    {
      "cell_type": "code",
      "source": [
        "#take two variables and apply all arthemetic operators\n",
        "a = 10\n",
        "b = 5\n",
        "print(a+b)\n",
        "print(a-b)\n",
        "print(a*b)\n",
        "print(a/b)"
      ],
      "metadata": {
        "colab": {
          "base_uri": "https://localhost:8080/"
        },
        "id": "iRBFebtCzbQs",
        "outputId": "02c11c16-ce7a-4f4a-d584-1c38e5279f09"
      },
      "execution_count": null,
      "outputs": [
        {
          "output_type": "stream",
          "name": "stdout",
          "text": [
            "15\n",
            "5\n",
            "50\n",
            "2.0\n"
          ]
        }
      ]
    },
    {
      "cell_type": "markdown",
      "source": [
        "Types of Errors"
      ],
      "metadata": {
        "id": "6lml_ZXYz6zu"
      }
    },
    {
      "cell_type": "code",
      "source": [
        "#How many types of errors do we have in Python?\n",
        "#there are 2 types of errors\n",
        "#1.Syntax Error:-when you break rules of a programming language it can rise syntax error\n",
        "'''hello I am using\n",
        "multiline comment when we use single triple quotes\n",
        "we need to enclose with single quotes'''\n",
        "#2.logical Error:-except syntax error all the errors comes under logical errors\n",
        "print(10* *5)\n",
        "#ex:- indentation errors,Name error, Type error, attribute error, recurssive error....etc\n"
      ],
      "metadata": {
        "id": "4fuu6n1Az5pP"
      },
      "execution_count": null,
      "outputs": []
    },
    {
      "cell_type": "markdown",
      "source": [
        "rules to create variables"
      ],
      "metadata": {
        "id": "19Fy7neg2NNQ"
      }
    },
    {
      "cell_type": "code",
      "source": [
        "#1.start creating the variables by using alphabets\n",
        "son = 20\n",
        "print(son)"
      ],
      "metadata": {
        "colab": {
          "base_uri": "https://localhost:8080/"
        },
        "id": "iUg35Y4C2Muh",
        "outputId": "08de7012-27af-4064-fa6b-08cb13b4c771"
      },
      "execution_count": null,
      "outputs": [
        {
          "output_type": "stream",
          "name": "stdout",
          "text": [
            "20\n"
          ]
        }
      ]
    },
    {
      "cell_type": "code",
      "source": [
        "#2.dont start creating the variable by using numbers\n",
        "2 = \"hello\"\n",
        "print(2)"
      ],
      "metadata": {
        "id": "s4E0CwNy2gGo"
      },
      "execution_count": null,
      "outputs": []
    },
    {
      "cell_type": "code",
      "source": [
        "#2.dont start creating the variable by using numbers\n",
        "2 = \"hello\"\n",
        "print(2)"
      ],
      "metadata": {
        "id": "4jRe5qBU2s9W"
      },
      "execution_count": null,
      "outputs": []
    },
    {
      "cell_type": "code",
      "source": [
        "#4.dont use special characters in the variable name--->!,@,#,$,%,^,&,*,?,white space\n",
        "son@age = 20\n",
        "print(son@age)"
      ],
      "metadata": {
        "id": "YHXuT7Sm-EB3"
      },
      "execution_count": null,
      "outputs": []
    },
    {
      "cell_type": "code",
      "source": [
        "#5.start creating the variable by using under score __\n",
        "_ = 10\n",
        "print(_)"
      ],
      "metadata": {
        "colab": {
          "base_uri": "https://localhost:8080/"
        },
        "id": "bhh3MaRp-mQc",
        "outputId": "cb2c48db-51bd-402e-eb7f-c6513dbd1fc3"
      },
      "execution_count": null,
      "outputs": [
        {
          "output_type": "stream",
          "name": "stdout",
          "text": [
            "10\n"
          ]
        }
      ]
    },
    {
      "cell_type": "code",
      "source": [
        "#instead of space use the underscore\n",
        "son_age = 20\n",
        "print(son_age)"
      ],
      "metadata": {
        "colab": {
          "base_uri": "https://localhost:8080/"
        },
        "id": "etHUUQEd-yEH",
        "outputId": "93d4d575-35f2-488f-88c3-2b67856496a9"
      },
      "execution_count": null,
      "outputs": [
        {
          "output_type": "stream",
          "name": "stdout",
          "text": [
            "20\n"
          ]
        }
      ]
    },
    {
      "cell_type": "code",
      "source": [
        "#6.Dont use the inbuilt keywords in the variable name\n",
        "import keyword\n",
        "print(keyword.kwlist)"
      ],
      "metadata": {
        "colab": {
          "base_uri": "https://localhost:8080/"
        },
        "id": "3-Ob2Cy4-84y",
        "outputId": "9fd1f971-e1b3-41d2-a354-65f904952010"
      },
      "execution_count": null,
      "outputs": [
        {
          "output_type": "stream",
          "name": "stdout",
          "text": [
            "['False', 'None', 'True', 'and', 'as', 'assert', 'async', 'await', 'break', 'class', 'continue', 'def', 'del', 'elif', 'else', 'except', 'finally', 'for', 'from', 'global', 'if', 'import', 'in', 'is', 'lambda', 'nonlocal', 'not', 'or', 'pass', 'raise', 'return', 'try', 'while', 'with', 'yield']\n"
          ]
        }
      ]
    },
    {
      "cell_type": "code",
      "source": [
        "None = 90\n",
        "print(None)"
      ],
      "metadata": {
        "id": "ZGpVrm9FAvfL"
      },
      "execution_count": null,
      "outputs": []
    },
    {
      "cell_type": "code",
      "source": [
        "#7.we cannot encourage to write a variable name in uppercase letters\n",
        "SONAGE = 30\n",
        "print(SONAGE)"
      ],
      "metadata": {
        "colab": {
          "base_uri": "https://localhost:8080/"
        },
        "id": "FRxvwDuDA2zp",
        "outputId": "54e30720-174a-444d-e35a-9c3b54d18bb2"
      },
      "execution_count": null,
      "outputs": [
        {
          "output_type": "stream",
          "name": "stdout",
          "text": [
            "30\n"
          ]
        }
      ]
    },
    {
      "cell_type": "markdown",
      "source": [
        "Smart ways of writing variables"
      ],
      "metadata": {
        "id": "etrbmgjPDcwf"
      }
    },
    {
      "cell_type": "code",
      "source": [
        "#1.assign multiple value to multiple variables and printing separate line?\n",
        "# hint:take 3 variables and assign values\n",
        "a = 10\n",
        "b = 5\n",
        "c = 4\n",
        "print(a)\n",
        "print(b)\n",
        "print(c)"
      ],
      "metadata": {
        "colab": {
          "base_uri": "https://localhost:8080/"
        },
        "id": "wPQF4ufQDYNB",
        "outputId": "ef285fc2-a328-4785-a603-c4575cc259ea"
      },
      "execution_count": null,
      "outputs": [
        {
          "output_type": "stream",
          "name": "stdout",
          "text": [
            "10\n",
            "5\n",
            "4\n"
          ]
        }
      ]
    },
    {
      "cell_type": "code",
      "source": [
        "a,b,c = 10,20,30\n",
        "print(a,b,c, sep='\\n')"
      ],
      "metadata": {
        "colab": {
          "base_uri": "https://localhost:8080/"
        },
        "id": "uQzTCSdwEGc-",
        "outputId": "edc0ea9f-81cb-4dd3-e80c-4e39640aad07"
      },
      "execution_count": null,
      "outputs": [
        {
          "output_type": "stream",
          "name": "stdout",
          "text": [
            "10\n",
            "20\n",
            "30\n"
          ]
        }
      ]
    },
    {
      "cell_type": "code",
      "source": [
        "#Assign the same value to the variables and print in sep line\n",
        "a = b = c = 10\n",
        "print(a,b,c, sep='\\n')"
      ],
      "metadata": {
        "colab": {
          "base_uri": "https://localhost:8080/"
        },
        "id": "fivRr6c5EV_G",
        "outputId": "2567620d-044d-4caf-bc00-688643e01c88"
      },
      "execution_count": null,
      "outputs": [
        {
          "output_type": "stream",
          "name": "stdout",
          "text": [
            "10\n",
            "10\n",
            "10\n"
          ]
        }
      ]
    },
    {
      "cell_type": "code",
      "source": [
        "a = b = c = 10\n",
        "print(a,b,c)"
      ],
      "metadata": {
        "colab": {
          "base_uri": "https://localhost:8080/"
        },
        "id": "6fSYaGsuE3qR",
        "outputId": "cfefffbf-27c5-4114-c3df-c191683ad0c2"
      },
      "execution_count": null,
      "outputs": [
        {
          "output_type": "stream",
          "name": "stdout",
          "text": [
            "10 10 10\n"
          ]
        }
      ]
    },
    {
      "cell_type": "markdown",
      "source": [
        "***input()***"
      ],
      "metadata": {
        "id": "eKsaVRnruHxw"
      }
    },
    {
      "cell_type": "code",
      "source": [
        "#what is input()?\n",
        "#input() is a inbuilt function where it can intakes any kind of information or value and store it\n",
        "#How can we create the input()?\n",
        "#by assigning to a variable\n",
        "a = input('Enter your Name: ')\n",
        "#HOow can we access the information from input()?\n",
        "print(a)"
      ],
      "metadata": {
        "id": "cgN3x_j9sFPV"
      },
      "execution_count": null,
      "outputs": []
    },
    {
      "cell_type": "code",
      "source": [
        "#take 2 input functions and apply addition on it\n",
        "a = input('enter num1: ')\n",
        "b = input('enter num2: ')\n",
        "print(a+b)\n",
        "#Note:- The default data type for input() is strings\n",
        "#adding of two strings is known as concatenation"
      ],
      "metadata": {
        "colab": {
          "base_uri": "https://localhost:8080/"
        },
        "id": "SRWGrR9VwPLD",
        "outputId": "ac07a1de-d483-4056-efaf-17b2d8bebacf"
      },
      "execution_count": null,
      "outputs": [
        {
          "output_type": "stream",
          "name": "stdout",
          "text": [
            "enter num1: 7\n",
            "enter num2: 3\n",
            "73\n"
          ]
        }
      ]
    },
    {
      "cell_type": "code",
      "source": [
        "#How can we deal with numerical data when we use input()?\n",
        "#before the input() we need specify the particular numerical data type, int or float\n",
        "a = int(input('enter num1: '))\n",
        "b = int(input('enter num2: '))\n",
        "print(a+b)"
      ],
      "metadata": {
        "id": "vA4kYlBww2px",
        "colab": {
          "base_uri": "https://localhost:8080/"
        },
        "outputId": "8fd1e6ad-cb1d-4e0b-d9f6-8f6228d2d8dc"
      },
      "execution_count": null,
      "outputs": [
        {
          "output_type": "stream",
          "name": "stdout",
          "text": [
            "enter num1: 3\n",
            "enter num2: 5\n",
            "8\n"
          ]
        }
      ]
    },
    {
      "cell_type": "code",
      "source": [
        "a = float(input('enter num1: '))\n",
        "b = float(input('enter num2: '))\n",
        "print(a+b)"
      ],
      "metadata": {
        "colab": {
          "base_uri": "https://localhost:8080/"
        },
        "id": "mo7BfIhxzrey",
        "outputId": "acf4faeb-9a7d-4a4b-d629-20e12fc77801"
      },
      "execution_count": null,
      "outputs": [
        {
          "output_type": "stream",
          "name": "stdout",
          "text": [
            "enter num1: 34.6\n",
            "enter num2: 23.6\n",
            "58.2\n"
          ]
        }
      ]
    },
    {
      "cell_type": "markdown",
      "source": [
        "#Strings (8-05-2025)"
      ],
      "metadata": {
        "id": "6JZJCz9u0zkv"
      }
    },
    {
      "cell_type": "code",
      "source": [
        "#what is Strings?\n",
        "#string is collection of multiple characters where each characters can be accessible\n",
        "#How can we declare string?\n",
        "#a string declared by using(\" \") or (' ')\n",
        "#How many types of strings do we have?\n",
        "#There are 2 types\n",
        "#1.single line string--->\" \" or ' '\n",
        "#2.multiline string---->\"\"\"double triple quotes \"\"\" or '''single triple quotes'''\n",
        "\n"
      ],
      "metadata": {
        "id": "eVpbAkrFz3tw"
      },
      "execution_count": null,
      "outputs": []
    },
    {
      "cell_type": "code",
      "source": [
        "print(\"Hello world!\")\n",
        "a = \"\"\"Hi\n",
        "       Good day!\n",
        "       Today session is about strings\"\"\"\n",
        "print(a)"
      ],
      "metadata": {
        "colab": {
          "base_uri": "https://localhost:8080/"
        },
        "id": "Ra_Hkw9M2CQi",
        "outputId": "9add3ae5-cd38-4639-dcc1-350f665ccf55"
      },
      "execution_count": null,
      "outputs": [
        {
          "output_type": "stream",
          "name": "stdout",
          "text": [
            "Hello world!\n",
            "Hi\n",
            "       Good day!\n",
            "       Today session is about strings\n"
          ]
        }
      ]
    },
    {
      "cell_type": "code",
      "source": [
        "#How can we access the characters from the string\n",
        "#by using indexing and slicing operator---->[]\n",
        "#what is indexing?\n",
        "#positional number character in the string\n",
        "#the indexing can be starts from zero\n",
        "#The process of accessing a range of characters from string is known as slicing\n",
        "#The range of characters from the main string is known as sub-string"
      ],
      "metadata": {
        "id": "NrRWfxpB2ZGE"
      },
      "execution_count": null,
      "outputs": []
    },
    {
      "cell_type": "code",
      "source": [
        "a = \"Hello world!\"\n",
        "#from the above string print letter 'w'\n",
        "#syntax:- [index number]\n",
        "print(a[6])\n",
        "#print letter 'd'\n",
        "print(a[10])"
      ],
      "metadata": {
        "colab": {
          "base_uri": "https://localhost:8080/"
        },
        "id": "gME0rkEX4QXu",
        "outputId": "0b4f95ed-b2da-4188-de31-009b31e635fc"
      },
      "execution_count": null,
      "outputs": [
        {
          "output_type": "stream",
          "name": "stdout",
          "text": [
            "w\n",
            "d\n"
          ]
        }
      ]
    },
    {
      "cell_type": "code",
      "source": [
        "#access the range of characters from above string print only \"hello\"\n",
        "#syntax :- [start:end_index] ----> always give the end_index can be ---->n+1\n",
        "print(a[0:4])\n",
        "#"
      ],
      "metadata": {
        "colab": {
          "base_uri": "https://localhost:8080/"
        },
        "id": "yaUi6K0O430d",
        "outputId": "4e19ac93-fc8a-45c4-9616-56f026e4aaf2"
      },
      "execution_count": null,
      "outputs": [
        {
          "output_type": "stream",
          "name": "stdout",
          "text": [
            "Hell\n"
          ]
        }
      ]
    },
    {
      "cell_type": "code",
      "source": [
        "b = \"Hello world!\"\n",
        "print(b[6:12])"
      ],
      "metadata": {
        "colab": {
          "base_uri": "https://localhost:8080/"
        },
        "id": "WgXvI1eZ5ku5",
        "outputId": "a092b1a4-c991-49a5-b2c2-b8f62a3bd7ff"
      },
      "execution_count": null,
      "outputs": [
        {
          "output_type": "stream",
          "name": "stdout",
          "text": [
            "world!\n"
          ]
        }
      ]
    },
    {
      "cell_type": "code",
      "source": [
        "c = \"hello good evening!\"\n",
        "#print \"good\"\n",
        "print(c[6:10])"
      ],
      "metadata": {
        "colab": {
          "base_uri": "https://localhost:8080/"
        },
        "id": "w8aa7yXX5vEt",
        "outputId": "149f00e7-943c-4ed2-8a96-e556c22a30ab"
      },
      "execution_count": null,
      "outputs": [
        {
          "output_type": "stream",
          "name": "stdout",
          "text": [
            "good\n"
          ]
        }
      ]
    },
    {
      "cell_type": "code",
      "source": [
        "d = \"Hello world!\"\n",
        "#from above string print the characters at the even inde position number\n",
        "#syntax---->[start:end:step]\n",
        "print(d[0:12:2])\n",
        "#from above string print the odd index position characters.\n",
        "print(d[1:12:2])\n",
        "#print the last character of the string\n",
        "print(d[11])"
      ],
      "metadata": {
        "colab": {
          "base_uri": "https://localhost:8080/"
        },
        "id": "suoyUg3T6eTA",
        "outputId": "f02d7f86-8ef1-4065-ccea-249dcd3d94c2"
      },
      "execution_count": null,
      "outputs": [
        {
          "output_type": "stream",
          "name": "stdout",
          "text": [
            "Hlowrd\n",
            "el ol!\n",
            "!\n"
          ]
        }
      ]
    },
    {
      "cell_type": "code",
      "source": [
        "#what is negative indexing?\n",
        "#accessing the range of characters in reverse direction by using -ve indexing\n",
        "#negative indexing starts with -1\n",
        "a = \"Hello guys accessing the range of characters in reverse direction\"\n",
        "#syntax:- [-ve_index]\n",
        "print(a[-1])"
      ],
      "metadata": {
        "colab": {
          "base_uri": "https://localhost:8080/"
        },
        "id": "FjIVtxYW74cV",
        "outputId": "6a4be3de-757c-4131-8fcf-84d04f3dd191"
      },
      "execution_count": null,
      "outputs": [
        {
          "output_type": "stream",
          "name": "stdout",
          "text": [
            "n\n"
          ]
        }
      ]
    },
    {
      "cell_type": "code",
      "source": [
        "#access the range of characters in reverse direction--- for ex access 'world!'\n",
        "#expect_output:- !dlrow\n",
        "#syntax:- [start-ve index:end-ve index]\n",
        "a = \"Hello world!\"\n",
        "print(a[-1:-7:-1])\n",
        "print(a[6:12])\n",
        "#Because the default slicing direction is from left to right\n",
        "#if you want to reverse a string we need define the step_index as -1"
      ],
      "metadata": {
        "colab": {
          "base_uri": "https://localhost:8080/"
        },
        "id": "WH_TcJBn81bG",
        "outputId": "5a61ec5b-0615-4b0e-b2d2-0021f6659c4e"
      },
      "execution_count": null,
      "outputs": [
        {
          "output_type": "stream",
          "name": "stdout",
          "text": [
            "!dlrow\n",
            "world!\n"
          ]
        }
      ]
    },
    {
      "cell_type": "code",
      "source": [
        "#find the length of the below string?\n",
        "d = \"Hello world!\"\n",
        "print(len(d))\n",
        "#len starts from 1"
      ],
      "metadata": {
        "colab": {
          "base_uri": "https://localhost:8080/"
        },
        "id": "AyG2k6cv-Gl1",
        "outputId": "555cc277-ed9b-4bf0-eacc-5815959be2b7"
      },
      "execution_count": null,
      "outputs": [
        {
          "output_type": "stream",
          "name": "stdout",
          "text": [
            "12\n"
          ]
        }
      ]
    },
    {
      "cell_type": "markdown",
      "source": [
        "Default indexing\n"
      ],
      "metadata": {
        "id": "KoCAoRGn-cxG"
      }
    },
    {
      "cell_type": "code",
      "source": [
        "a = \"Hello World!\"\n",
        "print(a[:])\n",
        "print(a[0:len(a)])\n",
        "print(a[::2])\n",
        "print(a[1::2])"
      ],
      "metadata": {
        "colab": {
          "base_uri": "https://localhost:8080/"
        },
        "id": "vE9o2A2n-fK7",
        "outputId": "c06a13a0-90af-49bc-9242-9bc378154f73"
      },
      "execution_count": null,
      "outputs": [
        {
          "output_type": "stream",
          "name": "stdout",
          "text": [
            "Hello World!\n",
            "Hello World!\n",
            "HloWrd\n",
            "el ol!\n"
          ]
        }
      ]
    },
    {
      "cell_type": "code",
      "source": [
        "#check the string whether it is palindrome or not\n",
        "b = input(\"enter the string\")\n",
        "print(b[::-1])"
      ],
      "metadata": {
        "id": "-6Xp7P6k_TPd"
      },
      "execution_count": null,
      "outputs": []
    },
    {
      "cell_type": "markdown",
      "source": [
        "String Methods"
      ],
      "metadata": {
        "id": "3CKLMpaSDH6y"
      }
    },
    {
      "cell_type": "code",
      "source": [
        "#what is string? #what are all the methods we can apply on string\n",
        "#The methods applied on string is known as string methods\n",
        "#if i want to know all the methods of a string use---> dir()\n",
        "a = \"Hello World!\"\n",
        "print(type(a))\n",
        "print(dir(a))\n",
        "\"\"\"'capitalize', 'casefold', 'center', 'count', 'encode', 'endswith', 'expandtabs', 'find', 'format', 'format_map',\n",
        "'index', 'isalnum', 'isalpha', 'isascii', 'isdecimal', 'isdigit', 'isidentifier', 'islower', 'isnumeric', 'isprintable',\n",
        " 'isspace', 'istitle', 'isupper', 'join', 'ljust', 'lower', 'lstrip', 'maketrans', 'partition', 'removeprefix',\n",
        "  'removesuffix', 'replace', 'rfind', 'rindex', 'rjust', 'rpartition', 'rsplit', 'rstrip',\n",
        "'split', 'splitlines', 'startswith', 'strip', 'swapcase', 'title', 'translate', 'upper', 'zfill'\"\"\""
      ],
      "metadata": {
        "colab": {
          "base_uri": "https://localhost:8080/",
          "height": 125
        },
        "id": "dJ6Itb213aBX",
        "outputId": "707bd8a2-172a-4d46-ac11-1341868103d8"
      },
      "execution_count": null,
      "outputs": [
        {
          "output_type": "stream",
          "name": "stdout",
          "text": [
            "<class 'str'>\n",
            "['__add__', '__class__', '__contains__', '__delattr__', '__dir__', '__doc__', '__eq__', '__format__', '__ge__', '__getattribute__', '__getitem__', '__getnewargs__', '__getstate__', '__gt__', '__hash__', '__init__', '__init_subclass__', '__iter__', '__le__', '__len__', '__lt__', '__mod__', '__mul__', '__ne__', '__new__', '__reduce__', '__reduce_ex__', '__repr__', '__rmod__', '__rmul__', '__setattr__', '__sizeof__', '__str__', '__subclasshook__', 'capitalize', 'casefold', 'center', 'count', 'encode', 'endswith', 'expandtabs', 'find', 'format', 'format_map', 'index', 'isalnum', 'isalpha', 'isascii', 'isdecimal', 'isdigit', 'isidentifier', 'islower', 'isnumeric', 'isprintable', 'isspace', 'istitle', 'isupper', 'join', 'ljust', 'lower', 'lstrip', 'maketrans', 'partition', 'removeprefix', 'removesuffix', 'replace', 'rfind', 'rindex', 'rjust', 'rpartition', 'rsplit', 'rstrip', 'split', 'splitlines', 'startswith', 'strip', 'swapcase', 'title', 'translate', 'upper', 'zfill']\n"
          ]
        },
        {
          "output_type": "execute_result",
          "data": {
            "text/plain": [
              "\"'capitalize', 'casefold', 'center', 'count', 'encode', 'endswith', 'expandtabs', 'find', 'format', 'format_map', \\n'index', 'isalnum', 'isalpha', 'isascii', 'isdecimal', 'isdigit', 'isidentifier', 'islower', 'isnumeric', 'isprintable',\\n 'isspace', 'istitle', 'isupper', 'join', 'ljust', 'lower', 'lstrip', 'maketrans', 'partition', 'removeprefix',\\n  'removesuffix', 'replace', 'rfind', 'rindex', 'rjust', 'rpartition', 'rsplit', 'rstrip', \\n'split', 'splitlines', 'startswith', 'strip', 'swapcase', 'title', 'translate', 'upper', 'zfill'\""
            ],
            "application/vnd.google.colaboratory.intrinsic+json": {
              "type": "string"
            }
          },
          "metadata": {},
          "execution_count": 2
        }
      ]
    },
    {
      "cell_type": "code",
      "source": [
        "#tell me aa 10 important string methods?\n"
      ],
      "metadata": {
        "id": "mcZKxV9uENFr"
      },
      "execution_count": null,
      "outputs": []
    },
    {
      "cell_type": "code",
      "source": [
        "a = \"hello World!\"\n",
        "#capitalize():- it coverts 1st letter capital\n",
        "print(a.capitalize())\n"
      ],
      "metadata": {
        "colab": {
          "base_uri": "https://localhost:8080/"
        },
        "id": "l_aJ1Y8KE9yF",
        "outputId": "7ba3a426-83d7-422c-f308-297751794c18"
      },
      "execution_count": null,
      "outputs": [
        {
          "output_type": "stream",
          "name": "stdout",
          "text": [
            "Hello world!\n"
          ]
        }
      ]
    },
    {
      "cell_type": "code",
      "source": [
        "#2.upper():- it converts the string into lower case\n",
        "print(a.lower())"
      ],
      "metadata": {
        "colab": {
          "base_uri": "https://localhost:8080/"
        },
        "id": "3eElKBNjFX6P",
        "outputId": "0a291a27-fc3e-4fab-859e-ccce7dd75ff5"
      },
      "execution_count": null,
      "outputs": [
        {
          "output_type": "stream",
          "name": "stdout",
          "text": [
            "hello world!\n"
          ]
        }
      ]
    },
    {
      "cell_type": "code",
      "source": [
        "#3.lower():- it converts the string into lower case\n",
        "print(a.lower())"
      ],
      "metadata": {
        "colab": {
          "base_uri": "https://localhost:8080/"
        },
        "id": "aeJoARznFjtB",
        "outputId": "6d340964-1b1e-4163-b5a7-347fc95faa97"
      },
      "execution_count": null,
      "outputs": [
        {
          "output_type": "stream",
          "name": "stdout",
          "text": [
            "hello world!\n"
          ]
        }
      ]
    },
    {
      "cell_type": "code",
      "source": [
        "#4.title():- converts 1st letter of string into capital letter after every white space\n",
        "print(a.title())"
      ],
      "metadata": {
        "colab": {
          "base_uri": "https://localhost:8080/"
        },
        "id": "vqc1sSp1Ft1S",
        "outputId": "1dc96af4-e1c0-4f45-92ba-c129f3b73b2f"
      },
      "execution_count": null,
      "outputs": [
        {
          "output_type": "stream",
          "name": "stdout",
          "text": [
            "Hello World!\n"
          ]
        }
      ]
    },
    {
      "cell_type": "code",
      "source": [
        "#***5.replace(old,new):- replace the old string with new string\n",
        "#replace the 'world' to 'universe' and print 'hello universe!'\n",
        "b = \"hello world!\"\n",
        "print(b.replace('world','universe!'))"
      ],
      "metadata": {
        "colab": {
          "base_uri": "https://localhost:8080/"
        },
        "id": "g8LnjUsBGN8J",
        "outputId": "3ec02a44-37e2-4788-e545-180e45e17f2f"
      },
      "execution_count": null,
      "outputs": [
        {
          "output_type": "stream",
          "name": "stdout",
          "text": [
            "hello universe!!\n"
          ]
        }
      ]
    },
    {
      "cell_type": "code",
      "source": [
        "#6.strip:-removes the unwanted spaces from leading and trailing side of a string\n",
        "c = \"     Hello World!\"\n",
        "print(c)\n",
        "print(c.strip())"
      ],
      "metadata": {
        "id": "e6r-X2LwHKVc",
        "colab": {
          "base_uri": "https://localhost:8080/"
        },
        "outputId": "bac6a0f4-e233-4cb2-affb-ad8dc7d5ec0c"
      },
      "execution_count": null,
      "outputs": [
        {
          "output_type": "stream",
          "name": "stdout",
          "text": [
            "     Hello World!\n",
            "Hello World!\n"
          ]
        }
      ]
    },
    {
      "cell_type": "code",
      "source": [
        "#7.lstrip():-removes the space from the left side of the string\n",
        "print(c.lstrip())\n",
        "\n",
        "#8.rstrip():-removes the spaces from right side\n",
        "print(c.rstrip())"
      ],
      "metadata": {
        "id": "xkfiGIQ5KZWa",
        "colab": {
          "base_uri": "https://localhost:8080/"
        },
        "outputId": "dceacefc-8367-4f50-cd09-0e839805d7a9"
      },
      "execution_count": null,
      "outputs": [
        {
          "output_type": "stream",
          "name": "stdout",
          "text": [
            "Hello World!\n",
            "     Hello World!\n"
          ]
        }
      ]
    },
    {
      "cell_type": "code",
      "source": [
        "#9.find():-finds the index number of character in the string\n",
        "d = \"Medha edu-Tech\"\n",
        "#print the index position of '-'\n",
        "print(d.find('d'))\n",
        "print(d.find('-'))\n",
        "print(d.find('x'))\n",
        "#if the character are present means find() returns index position number else returns -1"
      ],
      "metadata": {
        "colab": {
          "base_uri": "https://localhost:8080/"
        },
        "id": "9szUutfNKpy9",
        "outputId": "a68ba619-d652-4643-8aab-43ba3304539f"
      },
      "execution_count": null,
      "outputs": [
        {
          "output_type": "stream",
          "name": "stdout",
          "text": [
            "2\n",
            "9\n",
            "-1\n"
          ]
        }
      ]
    },
    {
      "cell_type": "code",
      "source": [
        "#10.index():-finds the index number of chracter in the string\n",
        "d = \"medha edu-Tech\"\n",
        "print(d.index('d'))\n",
        "print(d.index('x'))\n",
        "#q)what is the difference between index() and find()/\n",
        "#in find() method if the character is not found means it returns -1\n",
        "#where as in index() method if the character is not found means it rise an error"
      ],
      "metadata": {
        "id": "kcaJMs0-KvRt"
      },
      "execution_count": null,
      "outputs": []
    },
    {
      "cell_type": "code",
      "source": [
        "a = \"Hello world!\"\n",
        "print(a.find('l'))"
      ],
      "metadata": {
        "colab": {
          "base_uri": "https://localhost:8080/"
        },
        "id": "Ciba_04jQDXs",
        "outputId": "2bf913a1-61dd-45c8-f574-339c12a3794f"
      },
      "execution_count": null,
      "outputs": [
        {
          "output_type": "stream",
          "name": "stdout",
          "text": [
            "2\n"
          ]
        }
      ]
    },
    {
      "cell_type": "code",
      "source": [
        "#swap case():- converts the upper into lower and lower into upper\n",
        "b = \"Medha edu-tech\"\n",
        "print(b.swapcase())"
      ],
      "metadata": {
        "colab": {
          "base_uri": "https://localhost:8080/"
        },
        "id": "f4IlKv1LQLPK",
        "outputId": "ea6238fa-c360-4d5d-ffe7-0443fb74d085"
      },
      "execution_count": null,
      "outputs": [
        {
          "output_type": "stream",
          "name": "stdout",
          "text": [
            "mEDHA EDU-TECH\n"
          ]
        }
      ]
    },
    {
      "cell_type": "code",
      "source": [
        "#11.zfill():- fill the zeroes infront of the string to match the length of argument\n",
        "print(b.zfill(20))"
      ],
      "metadata": {
        "colab": {
          "base_uri": "https://localhost:8080/"
        },
        "id": "GDIw8cp3KziF",
        "outputId": "1dfdde0f-a3ee-4bbe-8fc8-8be83018a781"
      },
      "execution_count": null,
      "outputs": [
        {
          "output_type": "stream",
          "name": "stdout",
          "text": [
            "00000000hello world!\n"
          ]
        }
      ]
    },
    {
      "cell_type": "markdown",
      "source": [
        "String Format methods"
      ],
      "metadata": {
        "id": "MenRMqgnLF95"
      }
    },
    {
      "cell_type": "code",
      "source": [
        "#f'string {format} method:-\n",
        "#it takes  an argument and place it over the place holder\n",
        "age = 10\n",
        "text = f'my age is {age} years old'\n",
        "print(text)"
      ],
      "metadata": {
        "colab": {
          "base_uri": "https://localhost:8080/"
        },
        "id": "tu_ZUEWtLFC1",
        "outputId": "e5788efc-2bbd-41d4-9749-d59b50f87fb3"
      },
      "execution_count": null,
      "outputs": [
        {
          "output_type": "stream",
          "name": "stdout",
          "text": [
            "my age is 10 years old\n"
          ]
        }
      ]
    },
    {
      "cell_type": "code",
      "source": [
        "item = input(\"Enter your item name: \")\n",
        "quantity = int(input(\"enter quantity: \"))\n",
        "price_each = float(input(\"enter price of each: \"))\n",
        "notify = f\"\"\"Your order for {item} is confirmed with an quantity of {quantity} and Total price is {price_each*quantity}\"\"\"\n",
        "print(notify)"
      ],
      "metadata": {
        "colab": {
          "base_uri": "https://localhost:8080/"
        },
        "id": "2pUSqh0_LrgT",
        "outputId": "401de3c3-b2ce-4a62-8dfa-3e2b7806221d"
      },
      "execution_count": null,
      "outputs": [
        {
          "output_type": "stream",
          "name": "stdout",
          "text": [
            "Enter your item name: biryani\n",
            "enter quantity: 3\n",
            "enter price of each: 199.0\n",
            "Your order for biryani is confirmed with an quantity of 3 and Total price is 597.0\n"
          ]
        }
      ]
    },
    {
      "cell_type": "markdown",
      "source": [
        "sub-slicing"
      ],
      "metadata": {
        "id": "5P3YbjjpNHZf"
      }
    },
    {
      "cell_type": "code",
      "source": [
        "a = \"Hello world!\"\n",
        "print(a[0:5][2:6])"
      ],
      "metadata": {
        "colab": {
          "base_uri": "https://localhost:8080/"
        },
        "id": "duQP8Dw7NF1J",
        "outputId": "140c3c1e-3eea-4410-aaf2-6f89ef8fb257"
      },
      "execution_count": null,
      "outputs": [
        {
          "output_type": "stream",
          "name": "stdout",
          "text": [
            "llo\n"
          ]
        }
      ]
    },
    {
      "cell_type": "markdown",
      "source": [
        "Escape characters"
      ],
      "metadata": {
        "id": "CtcEt4D6d3Jh"
      }
    },
    {
      "cell_type": "code",
      "source": [
        "#To print illegal characters inside a string we use escape characters\n",
        "#it can be represented with backward slash(\\)\n",
        "a = \"akash \\\"hi\\\" hello\"\n",
        "print(a)"
      ],
      "metadata": {
        "id": "_7NCmraxd0HO"
      },
      "execution_count": null,
      "outputs": []
    },
    {
      "cell_type": "code",
      "source": [
        "#what is condition?\n",
        "#we have 3 conditions\n",
        "#if,else,elif\n",
        "user_name = int(input(\"Enter your marks: \"))\n",
        "if user_name>=45:\n",
        "  print(\"Congratulations\")\n",
        "  print(\"You have pass\")\n",
        "else:\n",
        "  print(\"Better luck next time\")"
      ],
      "metadata": {
        "colab": {
          "base_uri": "https://localhost:8080/"
        },
        "id": "9TgEPtVZgB-x",
        "outputId": "4e8f7b9d-b800-4f99-98b0-c319245ffe81"
      },
      "execution_count": null,
      "outputs": [
        {
          "output_type": "stream",
          "name": "stdout",
          "text": [
            "Enter your marks: 45\n",
            "Congratulations\n",
            "You have pass\n"
          ]
        }
      ]
    },
    {
      "cell_type": "code",
      "source": [
        "#write a program if the num is >0 print +ve result else print -ve. if the num is equal to zero point neutral\n",
        "#if---elif---else\n",
        "num = int(input(\"Enter number: \"))\n",
        "if num>0:\n",
        "  print(\"Positive\")\n",
        "elif num==0:\n",
        "  print(\"Neutral\")\n",
        "else:\n",
        "  print(\"Negative\")\n"
      ],
      "metadata": {
        "colab": {
          "base_uri": "https://localhost:8080/"
        },
        "id": "EnhaiKWUnT6q",
        "outputId": "affed9df-8557-458e-8095-7b49f48b4e2b"
      },
      "execution_count": null,
      "outputs": [
        {
          "output_type": "stream",
          "name": "stdout",
          "text": [
            "Enter number: 0\n",
            "Neutral\n"
          ]
        }
      ]
    },
    {
      "cell_type": "code",
      "source": [
        "#how can we check the condition?\n",
        "#comparison operators or relational operators\n",
        "#1.equlal's too---> \"=\"\n",
        "#2.not equal too--->\"!=\"\n",
        "#3.greater than---> >\n",
        "#4. less than ---> <\n",
        "#5. greater than or equal too ---> >=\n",
        "#6. less than or equal too--> <=\n"
      ],
      "metadata": {
        "id": "yA28nxn9l-Fw"
      },
      "execution_count": null,
      "outputs": []
    },
    {
      "cell_type": "code",
      "source": [
        "#logical operators ---> 3 types\n",
        "#And- if all the conditions are true than only execute the program\n",
        "#logical operators ---> 3 types\n",
        "#And- if all the conditions are true than only execute the program\n",
        "#or- if any one condition is true execute program\n",
        "#not: it reverse your actual output\n",
        "print(10==10)\n",
        "print(10==25)\n",
        "print('H'=='h')\n",
        "print(not(10==10))\n"
      ],
      "metadata": {
        "colab": {
          "base_uri": "https://localhost:8080/"
        },
        "id": "16O4ua81qW6z",
        "outputId": "d85cf6b1-4bcf-4b12-acb3-df4eebcfecdb"
      },
      "execution_count": null,
      "outputs": [
        {
          "output_type": "stream",
          "name": "stdout",
          "text": [
            "True\n",
            "False\n",
            "False\n",
            "False\n"
          ]
        }
      ]
    },
    {
      "cell_type": "code",
      "source": [
        "a = 25\n",
        "b = 10\n",
        "c = 15\n",
        "d = 60\n",
        "#check a>c and d>b and c<b\n",
        "if a>c or d>b or c>b:\n",
        "  print(\"all the statements are true\")\n",
        "else:\n",
        "  print(\"any one statement is wrong\")"
      ],
      "metadata": {
        "colab": {
          "base_uri": "https://localhost:8080/"
        },
        "id": "Az0u83BvqVbe",
        "outputId": "5afc3716-a3c7-44b5-e6c8-2ee18921ca61"
      },
      "execution_count": null,
      "outputs": [
        {
          "output_type": "stream",
          "name": "stdout",
          "text": [
            "all the statements are true\n"
          ]
        }
      ]
    },
    {
      "cell_type": "markdown",
      "source": [
        "# 09-05-2025"
      ],
      "metadata": {
        "id": "J7TXzv4ev7qR"
      }
    },
    {
      "cell_type": "markdown",
      "source": [
        "Conditional statements\n"
      ],
      "metadata": {
        "id": "RRez8Lyhv-s1"
      }
    },
    {
      "cell_type": "code",
      "source": [
        "#conditional statements: is used to check specific condition is ssatisfied or not\n"
      ],
      "metadata": {
        "id": "AarTwuoNw-bH"
      },
      "execution_count": null,
      "outputs": []
    },
    {
      "cell_type": "markdown",
      "source": [],
      "metadata": {
        "id": "dI6jELbJKqaB"
      }
    },
    {
      "cell_type": "code",
      "source": [
        "#To build decision making codes  we use conditional statements\n",
        "#How can we check a condition?\n",
        "#to check the condition we need to use comparison operators\n",
        "#There are 6 comparison operators\n",
        "#1.equlal's too---> ==\n",
        "#2.not equal too---> !=\n",
        "#3.greater than---> >\n",
        "#4. less than ---> <\n",
        "#5. greater than or equal too ---> >=\n",
        "#6. less than or equal too--> <=\n"
      ],
      "metadata": {
        "id": "tvlphKx4xgrM"
      },
      "execution_count": null,
      "outputs": []
    },
    {
      "cell_type": "code",
      "source": [
        "#How many conditional statements do we have?\n",
        "#3 conditional statement\n",
        "#if--->elif---->else\n",
        "#what is if?\n",
        "#if i want to check a single true condition will use 'if'\n",
        "#what is else?\n",
        "#other than if condition or if the"
      ],
      "metadata": {
        "id": "R_YAKGHJxjHa"
      },
      "execution_count": null,
      "outputs": []
    },
    {
      "cell_type": "code",
      "source": [
        "#check the 10 is greater than 5 or not\n",
        "a = 10\n",
        "if a>5:\n",
        "  print(\"True\")\n",
        "else:\n",
        "  print(\"False\")"
      ],
      "metadata": {
        "colab": {
          "base_uri": "https://localhost:8080/"
        },
        "id": "9uCEVjDIzbIn",
        "outputId": "22064e9f-9165-4f95-f15b-29218082f1ce"
      },
      "execution_count": null,
      "outputs": [
        {
          "output_type": "stream",
          "name": "stdout",
          "text": [
            "True\n"
          ]
        }
      ]
    },
    {
      "cell_type": "code",
      "source": [
        "#check a string is palindrome or not irrespective of letter case\n",
        "print('hello' == 'hello')\n",
        "print('Hello' == 'hello')"
      ],
      "metadata": {
        "colab": {
          "base_uri": "https://localhost:8080/"
        },
        "id": "XiXIv5A8ztYu",
        "outputId": "63b8c700-aed4-408a-eef6-02ada0f85168"
      },
      "execution_count": null,
      "outputs": [
        {
          "output_type": "stream",
          "name": "stdout",
          "text": [
            "True\n",
            "False\n"
          ]
        }
      ]
    },
    {
      "cell_type": "markdown",
      "source": [
        "***Nested conditions***"
      ],
      "metadata": {
        "id": "fr2LQI_902gZ"
      }
    },
    {
      "cell_type": "code",
      "source": [
        "#writing a condition inside another condition is known as nested condition\n",
        "#1.why we require nested condition? or what is the purpose of nested condition?\n",
        "#A Block of code can be executed if the previous condition is true\n",
        "#nested conditions give the series of output"
      ],
      "metadata": {
        "id": "cgMlpprB0J0i"
      },
      "execution_count": null,
      "outputs": []
    },
    {
      "cell_type": "code",
      "source": [
        "a = 20\n",
        "#check this num is greater than 10,20,30,40 and 50\n",
        "#iff the a>10---> 35 is greater than 10\n",
        "#iff the a>20---> 35 is greater than 20\n",
        "#iff the a>30---> 35 is greater than 30\n",
        "#iff the a>40---> 35 is greater than 40\n",
        "#iff the a>50---> 35 is greater than 50\n",
        "if a>10:\n",
        "  print('a is greater than 10')\n",
        "  if a>20:\n",
        "    print('a is greater than 20')\n",
        "    if a>30:\n",
        "      print('a is greater than 30')\n",
        "      if a>40:\n",
        "        print('a is greater than 40')\n",
        "        if a>50: #removed extra indentation here\n",
        "          print('a is greater than 50')\n",
        "        else:\n",
        "          print('a is less than 50')\n",
        "      else:\n",
        "        print('a is less than 40')\n",
        "    else:\n",
        "      print('a is greater than 30') #this line also has logic error and should be 'a is less than 30'\n",
        "  else:\n",
        "    print('a is less than 20')\n",
        "else:\n",
        "  print('a is less than 10')"
      ],
      "metadata": {
        "colab": {
          "base_uri": "https://localhost:8080/"
        },
        "id": "9dm0C6SN15-O",
        "outputId": "fca708d4-e76b-48fb-ad57-a88ed0a5259e"
      },
      "execution_count": null,
      "outputs": [
        {
          "output_type": "stream",
          "name": "stdout",
          "text": [
            "a is greater than 10\n",
            "a is less than 20\n"
          ]
        }
      ]
    },
    {
      "cell_type": "code",
      "source": [
        "#conditional statements ---> if-->elif--->else\n",
        "#comparison operators is also known as relational operators--->6 types, ==,!=.>,<,>=,<=\n"
      ],
      "metadata": {
        "id": "nThSGfsh4u51"
      },
      "execution_count": null,
      "outputs": []
    },
    {
      "cell_type": "markdown",
      "source": [
        "Ternary operator"
      ],
      "metadata": {
        "id": "cAS3hEfh5hLF"
      }
    },
    {
      "cell_type": "code",
      "source": [
        "x = 5\n",
        "result = \"even\" if x%2==0 else \"odd\"\n",
        "print(result)"
      ],
      "metadata": {
        "colab": {
          "base_uri": "https://localhost:8080/"
        },
        "id": "48bFeuPK5gQL",
        "outputId": "819424f7-38df-4f7e-e9a0-3af5c8fa61e4"
      },
      "execution_count": null,
      "outputs": [
        {
          "output_type": "stream",
          "name": "stdout",
          "text": [
            "odd\n"
          ]
        }
      ]
    },
    {
      "cell_type": "code",
      "source": [
        "a = \"Hello good morning\"\n",
        "#check \"good\" is present in above string\n",
        "if \"good\""
      ],
      "metadata": {
        "id": "I_ReB2Bv5wp4"
      },
      "execution_count": null,
      "outputs": []
    },
    {
      "cell_type": "code",
      "source": [
        "#write a program to check eligible for vote or not\n",
        "#greater than or equal to 18years\n",
        "x = int(input(\"Enter your age: \"))\n",
        "if x>=18:\n",
        "  print(\"You are Eligible\")\n",
        "else:\n",
        "  print(\"You are not Eligible\")"
      ],
      "metadata": {
        "id": "44vn1xT36Bah",
        "colab": {
          "base_uri": "https://localhost:8080/"
        },
        "outputId": "22ce898d-0474-4487-f872-681fd1dec969"
      },
      "execution_count": null,
      "outputs": [
        {
          "output_type": "stream",
          "name": "stdout",
          "text": [
            "Enter your age: 14\n",
            "You are not Eligible\n"
          ]
        }
      ]
    },
    {
      "cell_type": "code",
      "source": [
        "#write a program to check the grades of the students based on the received marks\n",
        "#if the student is having marks from 40 to 60---> print \"D\" grade along with marks\n",
        "#if the student is having marks from 61 to 70---> print \"c\" grade along with marks\n",
        "#if the student is having marks from 71 to 80---> print \"B\" grade along with marks\n",
        "#if the student is having marks from 81 to 90---> print \"A\" grade along with marks\n",
        "#if the student is having marks from 91 to 100---> print \"A+\" grade along with marks\n",
        "#if the sudent is having marks than 100 print \"Dont be smart\"\n",
        "#if the student is having marks less than 40 print \"Better luck next time\"\n",
        "#Use tha nested if condition along with elif.\n",
        "marks = int(input(\"Enter your marks: \"))\n",
        "\n",
        "if marks > 100:\n",
        "    print(\"Don't be smart\")\n",
        "elif marks >= 91:\n",
        "    print(f\"You got a A+ with {marks} marks!\")\n",
        "elif marks >= 81:\n",
        "    print(f\"You got a A with {marks} marks!\")\n",
        "elif marks >= 71:\n",
        "    print(f\"You got a B with {marks} marks!\")\n",
        "elif marks >= 61:\n",
        "    print(f\"You got a C with {marks} marks!\")\n",
        "elif marks >= 40:\n",
        "    print(f\"You got a D with {marks} marks!\")\n",
        "else:\n",
        "    print(\"Better luck next time\")\n"
      ],
      "metadata": {
        "id": "Ulc08ct_6U6m"
      },
      "execution_count": null,
      "outputs": []
    },
    {
      "cell_type": "markdown",
      "source": [
        "Pass"
      ],
      "metadata": {
        "id": "VKAxioEI7ePT"
      }
    },
    {
      "cell_type": "code",
      "source": [
        "#what is pass?\n",
        "#pass is a null place holder whrn executes nothing will happens\n",
        "a = 10\n",
        "if a>20:\n",
        "  pass"
      ],
      "metadata": {
        "id": "oib_1Fy67dsN"
      },
      "execution_count": null,
      "outputs": []
    },
    {
      "cell_type": "markdown",
      "source": [
        "# 12-05-2025"
      ],
      "metadata": {
        "id": "576XqpqZkD1t"
      }
    },
    {
      "cell_type": "markdown",
      "source": [
        "**Loops**"
      ],
      "metadata": {
        "id": "7-V_EilclakR"
      }
    },
    {
      "cell_type": "code",
      "source": [
        "#write a program to count down the pushups\n",
        "target = int(input())\n",
        "intial = 0\n",
        "while intial <= target:\n",
        "  print('go up')\n",
        "  print('go down')\n",
        "  print('========rep completed==========',intial)\n",
        "  intial = intial + 1\n"
      ],
      "metadata": {
        "id": "p_GwYZ6TLFVu"
      },
      "execution_count": null,
      "outputs": []
    },
    {
      "cell_type": "code",
      "source": [
        "#loop: set of instructions or rules\n",
        "#1.while loop:runs a set of instructions until the condition remains true\n",
        "#2.For loop:"
      ],
      "metadata": {
        "id": "BBsLQw2lFwDx"
      },
      "execution_count": null,
      "outputs": []
    },
    {
      "cell_type": "code",
      "source": [
        "#write a program to count down the pushups\n",
        "target = int(input())\n",
        "initial = 0\n",
        "while initial <= target:\n",
        "  print(\"go up\")\n",
        "  print(\"go down\")\n",
        "  print(\"======rep completed======\",initial)\n",
        "  initial = initial + 1"
      ],
      "metadata": {
        "id": "MfB6cONDmhtB"
      },
      "execution_count": null,
      "outputs": []
    },
    {
      "cell_type": "code",
      "source": [
        "#write a simple program to run a lift?\n",
        "user = int(input(\"Enter your floor: \"))\n",
        "initial = 0\n",
        "while initial <= user:\n",
        "  print(\"you are at floor\",initial)\n",
        "  initial = initial + 1"
      ],
      "metadata": {
        "id": "zsuUMcdqnKp9"
      },
      "execution_count": null,
      "outputs": []
    },
    {
      "cell_type": "code",
      "source": [
        "#what are the control structures of while loop\n",
        "#break: break will stop the iteration irrespective of code\n",
        "#continue:\n",
        "#pass:- null operator when exdecutes nothing will happen\n"
      ],
      "metadata": {
        "id": "zqDHhFg2pHLm"
      },
      "execution_count": null,
      "outputs": []
    },
    {
      "cell_type": "code",
      "source": [
        "user = int(input(\"Enter your floor: \"))\n",
        "initial = 0\n",
        "while initial <= user:\n",
        "  print(\"you are at floor\",initial)\n",
        "  if initial ==3:\n",
        "    break\n",
        "  initial = initial + 1"
      ],
      "metadata": {
        "colab": {
          "base_uri": "https://localhost:8080/"
        },
        "id": "UlHAj0tMp4Zg",
        "outputId": "f62e1b3c-5475-491c-c280-585fd06b3536"
      },
      "execution_count": null,
      "outputs": [
        {
          "output_type": "stream",
          "name": "stdout",
          "text": [
            "Enter your floor: 2\n",
            "you are at floor 0\n",
            "you are at floor 1\n",
            "you are at floor 2\n"
          ]
        }
      ]
    },
    {
      "cell_type": "code",
      "source": [
        "user = int(input(\"Enter your floor: \"))\n",
        "initial = 0\n",
        "while initial <= user:\n",
        "  initial = initial + 1\n",
        "  if initial ==3 or initial ==4 or initial ==7:\n",
        "    continue\n",
        "  print(\"you are at floor\",initial)"
      ],
      "metadata": {
        "colab": {
          "base_uri": "https://localhost:8080/"
        },
        "id": "JiZizpEYqEu0",
        "outputId": "70a0f6f5-c4d8-456a-c7b0-b79c929cfa82"
      },
      "execution_count": null,
      "outputs": [
        {
          "output_type": "stream",
          "name": "stdout",
          "text": [
            "Enter your floor: 3\n",
            "you are at floor 1\n",
            "you are at floor 2\n"
          ]
        }
      ]
    },
    {
      "cell_type": "code",
      "source": [
        "# print a range of 1 to 10 numbers by  using while ?\n",
        "initial = 1\n",
        "while initial <= 10:\n",
        "  print(initial, end=\"$\")\n",
        "  initial += 1"
      ],
      "metadata": {
        "colab": {
          "base_uri": "https://localhost:8080/"
        },
        "id": "S2HmiNwksZkS",
        "outputId": "889fff3f-82a7-40d4-d5ac-4e7e0b0a5151"
      },
      "execution_count": null,
      "outputs": [
        {
          "output_type": "stream",
          "name": "stdout",
          "text": [
            "1$2$3$4$5$6$7$8$9$10$"
          ]
        }
      ]
    },
    {
      "cell_type": "code",
      "source": [
        "initial = 10\n",
        "while initial >=1:\n",
        "  print(initial, end=\" \")\n",
        "  initial -= 1"
      ],
      "metadata": {
        "colab": {
          "base_uri": "https://localhost:8080/"
        },
        "id": "f1U5Mo68u5yg",
        "outputId": "ff696ef6-5baa-439e-de6b-9207d2f15cb6"
      },
      "execution_count": null,
      "outputs": [
        {
          "output_type": "stream",
          "name": "stdout",
          "text": [
            "10 9 8 7 6 5 4 3 2 1 "
          ]
        }
      ]
    },
    {
      "cell_type": "code",
      "source": [
        "user = input()\n",
        "count = 1\n",
        "while count <= 10:\n",
        "  print(user)\n",
        "  count += 1"
      ],
      "metadata": {
        "id": "xDTYj3Ijvh-C"
      },
      "execution_count": null,
      "outputs": []
    },
    {
      "cell_type": "markdown",
      "source": [
        "# 13-05-2025"
      ],
      "metadata": {
        "id": "OrrMjcDIptnL"
      }
    },
    {
      "cell_type": "markdown",
      "source": [
        "**For loop**"
      ],
      "metadata": {
        "id": "UKEG3gHnp3Ij"
      }
    },
    {
      "cell_type": "code",
      "source": [
        "#What is for loop?\n",
        "#i want to run a set of instruction in my iterables(collections)-->[list,tuple,set,dict,array]\n",
        "#where this rules can be applicable foe each and every element"
      ],
      "metadata": {
        "id": "a47OyhExp-a7"
      },
      "execution_count": null,
      "outputs": []
    },
    {
      "cell_type": "code",
      "source": [
        "l = [1,2,3,4,5,6,7,8,9]\n",
        "#print even number data from above list\n",
        "for i in l:\n",
        "  if i%2==0:\n",
        "    print(i)\n"
      ],
      "metadata": {
        "id": "ua4u-tUvr3VC"
      },
      "execution_count": null,
      "outputs": []
    },
    {
      "cell_type": "code",
      "source": [
        "#How the iterator has built?\n",
        "#with 2 protocols\n",
        "#__iter__ and __next__"
      ],
      "metadata": {
        "id": "s4H_fyMVt1Dw"
      },
      "execution_count": null,
      "outputs": []
    },
    {
      "cell_type": "code",
      "source": [
        "a = [1,2,3,4,5,6]\n",
        "#print the multiple of 2 from above list\n",
        "#2,4,6,8,10,12\n",
        "for i in a:\n",
        "  print(i*2,end=\" \")"
      ],
      "metadata": {
        "id": "qa3v49P0vH6G"
      },
      "execution_count": null,
      "outputs": []
    },
    {
      "cell_type": "code",
      "source": [
        "b = ['apple','banana','kiwi']\n",
        "#print the fruits which is having letter 'a'.\n",
        "for i in b:\n",
        "  if 'a' in i:\n",
        "    print(i)"
      ],
      "metadata": {
        "id": "IyNQOs0lv9Xw"
      },
      "execution_count": null,
      "outputs": []
    },
    {
      "cell_type": "markdown",
      "source": [
        "**control struction of for loop**"
      ],
      "metadata": {
        "id": "ZCwR2rrcwuqm"
      }
    },
    {
      "cell_type": "code",
      "source": [
        "#break, continue, pass"
      ],
      "metadata": {
        "id": "C-in_NEFwqEi"
      },
      "execution_count": null,
      "outputs": []
    },
    {
      "cell_type": "code",
      "source": [
        "#break:- it stops the iteractions irrespective of items in the collection"
      ],
      "metadata": {
        "id": "7XQkTe_vxAhj"
      },
      "execution_count": null,
      "outputs": []
    },
    {
      "cell_type": "code",
      "source": [
        "a = [1,2,3,4,5,6,7,8,9]\n",
        "#break the loop when it reach '4'.\n",
        "for i in a:\n",
        "  if j == 4 or j == 7:\n",
        "    break\n",
        "  print(j, end = \" \")"
      ],
      "metadata": {
        "id": "aBVcwvE_xMpQ"
      },
      "execution_count": null,
      "outputs": []
    },
    {
      "cell_type": "code",
      "source": [
        "#continue:- it skips the current iteration and moves to next iteration\n",
        "#i dont want to print 2,6,8 from the above list\n",
        "for i in a:\n",
        "  if i == 2 or i == 6 or i==8:\n",
        "    continue\n",
        "  print(i)"
      ],
      "metadata": {
        "id": "AGp3vFn9yJID"
      },
      "execution_count": null,
      "outputs": []
    },
    {
      "cell_type": "code",
      "source": [
        "i = 0\n",
        "while i <= 10:\n",
        "  print(i)\n",
        "  i = i + 1"
      ],
      "metadata": {
        "id": "Riou0oj6z9Gx"
      },
      "execution_count": null,
      "outputs": []
    },
    {
      "cell_type": "markdown",
      "source": [
        "range(start, end, step)"
      ],
      "metadata": {
        "id": "r5dcoGcp0nLa"
      }
    },
    {
      "cell_type": "code",
      "source": [
        "for i in range(10):\n",
        "  print(i,end= \" \")"
      ],
      "metadata": {
        "id": "jugjAZoy0mAD"
      },
      "execution_count": null,
      "outputs": []
    },
    {
      "cell_type": "code",
      "source": [
        "#print a range of numbers from 20 to 40:\n",
        "#syntax:-(start,end)\n",
        "for i in range(20,41):\n",
        "  print(i,end=\" \")"
      ],
      "metadata": {
        "id": "698QnNzL0zaG"
      },
      "execution_count": null,
      "outputs": []
    },
    {
      "cell_type": "code",
      "source": [
        "#print a range of even numbers upto 100?\n",
        "#if(start,end,step)\n",
        "for i in range(0,101,2):\n",
        "  print(i,end=\" \")"
      ],
      "metadata": {
        "id": "v-LxSOB41JJS"
      },
      "execution_count": null,
      "outputs": []
    },
    {
      "cell_type": "code",
      "source": [
        "#calaculate the sum of numbers from 1 to 10 using for loop?\n",
        "sum = 0\n",
        "for i in range(1,11):\n",
        "  sum = sum + i\n",
        "print(sum)"
      ],
      "metadata": {
        "id": "TBwh-s4w14fu"
      },
      "execution_count": null,
      "outputs": []
    },
    {
      "cell_type": "code",
      "source": [
        "a = [1,2,3,4,5,6,7,8,9,10]\n",
        "#calculate the product of elements in above list?\n",
        "product = 1\n",
        "for i in a:\n",
        "  product = product * i\n",
        "print(product)"
      ],
      "metadata": {
        "id": "8ZtDmuRP27da"
      },
      "execution_count": null,
      "outputs": []
    },
    {
      "cell_type": "code",
      "source": [
        "#print the number in reverse from 10 to 1\n",
        "for i in range (10,0,-1):\n",
        "  print(i)"
      ],
      "metadata": {
        "id": "xpn6uy2u35ZL"
      },
      "execution_count": null,
      "outputs": []
    },
    {
      "cell_type": "code",
      "source": [
        "a = [1,2,3,4,5,6,7,8,9]\n",
        "#find the large number from above list\n",
        "large = a[0]\n",
        "for i  in a:\n",
        "  if i>large:\n",
        "    large = i\n",
        "print(large)"
      ],
      "metadata": {
        "id": "gg-3g4kF4bwo"
      },
      "execution_count": null,
      "outputs": []
    },
    {
      "cell_type": "markdown",
      "source": [
        "Assessment-1"
      ],
      "metadata": {
        "id": "Jcrw9oZnB-aj"
      }
    },
    {
      "cell_type": "code",
      "source": [
        "#1.#print all the uppercase letter from the string\n",
        "#\"Hello World!\"\n",
        "a = input()\n",
        "for i in a:\n",
        "  if i.isupper():\n",
        "    print(i)"
      ],
      "metadata": {
        "colab": {
          "base_uri": "https://localhost:8080/"
        },
        "id": "8U687kZ-B3EC",
        "outputId": "5819ead0-82a7-4f7d-eb4e-a3e88504cb2c"
      },
      "execution_count": null,
      "outputs": [
        {
          "output_type": "stream",
          "name": "stdout",
          "text": [
            "Hello World\n",
            "H\n",
            "W\n"
          ]
        }
      ]
    },
    {
      "cell_type": "code",
      "source": [
        "#2.calculate all the factorial of the number using forloop or while loop? --- 5-->\n",
        "a = int(input(\"Enter a number:\"))\n",
        "fact = 1\n",
        "for i in range(1,a+1):\n",
        "  fact = fact*i\n",
        "\n",
        "print(fact)"
      ],
      "metadata": {
        "id": "_5LXS0QRCg5c"
      },
      "execution_count": null,
      "outputs": []
    },
    {
      "cell_type": "code",
      "source": [
        "#3.find the all prime numbers from 1 to 50\n",
        "a = int(input(\"Enter a num: \"))\n",
        "for i in range(1,a+1):\n",
        "  count = 0\n",
        "  for j in range(1,i+1):\n",
        "    if i%j==0:\n",
        "      count = count + 1\n",
        "  if count == 2:\n",
        "    print(i, end=\", \")"
      ],
      "metadata": {
        "colab": {
          "base_uri": "https://localhost:8080/"
        },
        "id": "_RNgepLpDM3Z",
        "outputId": "5bb6f19d-ec7a-46a7-e5c9-86eafac2d8a3"
      },
      "execution_count": null,
      "outputs": [
        {
          "output_type": "stream",
          "name": "stdout",
          "text": [
            "Enter a num: 20\n",
            "2, 3, 5, 7, 11, 13, 17, 19, "
          ]
        }
      ]
    },
    {
      "cell_type": "code",
      "source": [
        "#4.print the numbers divisible with 3 or 5 in the range of 1 to 20\n",
        "a = int(input())\n",
        "for i in range(1,a+1):\n",
        "  if i%3==0 or i%5==0:\n",
        "    print(i)"
      ],
      "metadata": {
        "id": "n7Axn2tAFzHY"
      },
      "execution_count": null,
      "outputs": []
    },
    {
      "cell_type": "code",
      "source": [
        "#5.print a fibonacci series upto interval?\n",
        "n = int(input())\n",
        "a = int(input())\n",
        "b = int(input())\n",
        "\n",
        "for i in range(n):\n",
        "  if a>n:\n",
        "    break\n",
        "  print(a,end=\" \")\n",
        "  a,b = b,a+b\n",
        "\n",
        "\n"
      ],
      "metadata": {
        "id": "YyFYM9hYG5QC"
      },
      "execution_count": null,
      "outputs": []
    },
    {
      "cell_type": "markdown",
      "source": [
        "# Collections or iterables (14-05-2025)"
      ],
      "metadata": {
        "id": "KDnnL2M-zlW1"
      }
    },
    {
      "cell_type": "code",
      "source": [
        "#what is collection?\n",
        "#collection is having 2 types of data Homogenous data and Hetergenous data\n",
        "#what is homogenous data?\n",
        "#collection is having same data type\n",
        "#ex:-list is having integers\n",
        "#Hetergenous data:-collection is multiple data inside it\n",
        "#How many types of collections do we have?\n",
        "#there are 4 types\n",
        "#1.List\n",
        "#2.Tuple\n",
        "#3.Set\n",
        "#4.Dictionary"
      ],
      "metadata": {
        "id": "CeLI3okUzvTg"
      },
      "execution_count": null,
      "outputs": []
    },
    {
      "cell_type": "markdown",
      "source": [
        "List"
      ],
      "metadata": {
        "id": "BrCAMJsx1YJh"
      }
    },
    {
      "cell_type": "code",
      "source": [
        "#what is list? or define a list or how can we declare a list?\n",
        "#list -->[]\n",
        "#list defined as ordered, mutable, and it allows the duplicate data"
      ],
      "metadata": {
        "id": "ao0nluTw1cDw"
      },
      "execution_count": null,
      "outputs": []
    },
    {
      "cell_type": "markdown",
      "source": [
        "list allows the dulipate data"
      ],
      "metadata": {
        "id": "LCmiHd731-F3"
      }
    },
    {
      "cell_type": "code",
      "source": [
        "l1 = ['apple','banana','kiwi','orange','apple','banana']\n",
        "#what is length of l1\n",
        "print(len(l1))\n",
        "print(type(l1))\n",
        "print(l1)"
      ],
      "metadata": {
        "id": "8snBeWur2CRg"
      },
      "execution_count": null,
      "outputs": []
    },
    {
      "cell_type": "markdown",
      "source": [
        "**List is ordered**"
      ],
      "metadata": {
        "id": "cboSYVRzESzL"
      }
    },
    {
      "cell_type": "code",
      "source": [
        "#what is ordered means?\n",
        "#each character in the list is having sequence of index position numbers\n",
        "#from list l1 print kiwi\n",
        "#syntax[index]\n",
        "print(l1[3])"
      ],
      "metadata": {
        "id": "bE3_1M8WEbAd"
      },
      "execution_count": null,
      "outputs": []
    },
    {
      "cell_type": "code",
      "source": [
        "#print a range of characters 'pineapple', 'kiwi', 'orange' from l1\n",
        "#[start:end index]\n",
        "print(l1[2:5])   #slicing will stops always before one index position number\n"
      ],
      "metadata": {
        "id": "bGSfKL-k5TFC"
      },
      "execution_count": null,
      "outputs": []
    },
    {
      "cell_type": "code",
      "source": [
        "#print the even elements from the list l1?\n",
        "print(l1[0:9:2])\n",
        "#print the odd index position character?\n",
        "print(l1[1:9:2])"
      ],
      "metadata": {
        "id": "KsS8uhgW5W2f"
      },
      "execution_count": null,
      "outputs": []
    },
    {
      "cell_type": "markdown",
      "source": [
        "\n",
        "\n",
        "```\n",
        "# This is formatted as code\n",
        "```\n",
        "\n",
        "**default indexing**"
      ],
      "metadata": {
        "id": "QyKUjsaL5YNV"
      }
    },
    {
      "cell_type": "code",
      "source": [
        "#what is default indexing?\n",
        "#by deafuly start is 0, end is length of collection and step is 1\n",
        "l2 = ['apple','banana','pineapple','kiwi','orange','apple','banana','apple']\n",
        "#print 5 from above list\n",
        "# print(l2[8])\n",
        "# print(l2[:])\n",
        "# print(l2[::])\n",
        "print(l2[::2]) #o/p--> all the even elements\n",
        "print(l2[1::2]) #o/p all the odd elements"
      ],
      "metadata": {
        "id": "SHNP-r895a5D"
      },
      "execution_count": null,
      "outputs": []
    },
    {
      "cell_type": "code",
      "source": [
        "#reverse the above list l2\n",
        "print(l2[::-1])"
      ],
      "metadata": {
        "id": "dWhrzXx05eij"
      },
      "execution_count": null,
      "outputs": []
    },
    {
      "cell_type": "markdown",
      "source": [
        "**list mutable**\n",
        "\n",
        "when we suppose to say a collection is mutable?\n",
        "\n",
        "--> if the collection is following 3 properties  then it is mutable\n",
        "1. replace or swap the items\n",
        "2. add the new item to existing list\n",
        "3. remove the items from existing list"
      ],
      "metadata": {
        "id": "Mpg_-Dxa5gfK"
      }
    },
    {
      "cell_type": "markdown",
      "source": [
        "**replace or swap the items from list**"
      ],
      "metadata": {
        "id": "8JaiK8nG5kWp"
      }
    },
    {
      "cell_type": "code",
      "source": [
        "#How can we replace the items from list?\n",
        "#By using the index position numbers\n",
        "l3 = ['java','JS','R','Python','c','c++']\n",
        "#replace the js with java script\n",
        "l3[1]='javascript'\n",
        "print(l3)"
      ],
      "metadata": {
        "id": "v75GnBqL5hlu"
      },
      "execution_count": null,
      "outputs": []
    },
    {
      "cell_type": "markdown",
      "source": [
        "**Add the new items to the list**"
      ],
      "metadata": {
        "id": "kdIBHGWj5sMB"
      }
    },
    {
      "cell_type": "code",
      "source": [
        "l4 = ['java', '.net', 'seasharp', 'nodejs', 'Python', 'c', 'c++']\n",
        "#we are some methods to add items to the list\n",
        "print(dir(l4))\n",
        "\"\"\"'append', 'clear', 'copy', 'count', 'extend',\n",
        "'index', 'insert', 'pop', 'remove', 'reverse', 'sort' \"\"\""
      ],
      "metadata": {
        "id": "epuVo03I5wCO"
      },
      "execution_count": null,
      "outputs": []
    },
    {
      "cell_type": "code",
      "source": [
        "#1.append():- by default it add the single element at the end of the list\n",
        "#q)what is default index position when we use append()?\n",
        "#end of the list\n",
        "#add 'mongo DB' in to above list.\n",
        "l4.append('Mongo DB')\n",
        "print(l4)"
      ],
      "metadata": {
        "id": "TxqY4Ekz5yNH"
      },
      "execution_count": null,
      "outputs": []
    },
    {
      "cell_type": "code",
      "source": [
        "#2.insert(index,item):- is used add the item at specific index position\n",
        "l4.insert(3,'SQL')\n",
        "print(l4)\n",
        "#can i add multiple items by using insert method---> no"
      ],
      "metadata": {
        "id": "-GNrKq335z18"
      },
      "execution_count": null,
      "outputs": []
    },
    {
      "cell_type": "code",
      "source": [
        "#3.extend(collection_name):- adds the multiple items in to list\n",
        "l5 = [1,2,3,4,5]\n",
        "#add the l5 into l4\n",
        "l4.extend(l5)\n",
        "print(l4)"
      ],
      "metadata": {
        "id": "GURS7GIC51l0"
      },
      "execution_count": null,
      "outputs": []
    },
    {
      "cell_type": "markdown",
      "source": [
        "**remove the items from list**"
      ],
      "metadata": {
        "id": "dutPEx1B54Ms"
      }
    },
    {
      "cell_type": "code",
      "source": [
        "l6 = ['java', '.net', 'seasharp', 'SQL', 'nodejs', 'Python', 'c', 'c++', 'Mongo DB', 1, 2, 3, 4, 5]\n",
        "#1.pop(index):by default it remove last element\n",
        "print(l6.pop())"
      ],
      "metadata": {
        "id": "fEBU0N4P55WK"
      },
      "execution_count": null,
      "outputs": []
    },
    {
      "cell_type": "code",
      "source": [
        "print(l6)"
      ],
      "metadata": {
        "id": "2WmCW-OF58eH"
      },
      "execution_count": null,
      "outputs": []
    },
    {
      "cell_type": "code",
      "source": [
        "print(l6.pop(-1))"
      ],
      "metadata": {
        "id": "f9bnkXck595e"
      },
      "execution_count": null,
      "outputs": []
    },
    {
      "cell_type": "code",
      "source": [
        "#remove(item_name):- by using name or identity of element it removes the item from list\n",
        "l6.remove('Mongo DB')\n",
        "print(l6)\n",
        "#can i remove the multiple items by usimg the remove()----> No"
      ],
      "metadata": {
        "id": "vgSFYlJP5_af"
      },
      "execution_count": null,
      "outputs": []
    },
    {
      "cell_type": "code",
      "source": [
        "#How can i remove the multiple items from list l6--> 'c', 'c++', 1, 2, 3\n",
        "del l6[6:]\n",
        "print(l6)"
      ],
      "metadata": {
        "id": "X4s8wSlk6BTB"
      },
      "execution_count": null,
      "outputs": []
    },
    {
      "cell_type": "code",
      "source": [
        "l6.index('seasharp')"
      ],
      "metadata": {
        "id": "qzXXIWEf6C3T"
      },
      "execution_count": null,
      "outputs": []
    },
    {
      "cell_type": "code",
      "source": [
        "#remove all the items from the list and return empty list\n",
        "l6.clear()\n",
        "print(l6)"
      ],
      "metadata": {
        "id": "tnyp4CRB6E5T"
      },
      "execution_count": null,
      "outputs": []
    },
    {
      "cell_type": "code",
      "source": [
        "#delete the list\n",
        "del l6\n",
        "print(l6)"
      ],
      "metadata": {
        "id": "SX55-sIK6Gb_"
      },
      "execution_count": null,
      "outputs": []
    },
    {
      "cell_type": "markdown",
      "source": [
        "**sorting of list**"
      ],
      "metadata": {
        "id": "QyCHLQ3C6JA_"
      }
    },
    {
      "cell_type": "code",
      "source": [
        "l = ['apple','banana','Apple','Ornage','kiwi','mango','pineapple','Watermelon']\n",
        "#sort the above list in ascending orderd\n",
        "l.sort()\n",
        "print(l)\n",
        "#How this sorting can be done?\n",
        "#sorting can be done based ASCII"
      ],
      "metadata": {
        "id": "UY66JsWU6Jvj"
      },
      "execution_count": null,
      "outputs": []
    },
    {
      "cell_type": "code",
      "source": [
        "#PRINT IN descending order?\n",
        "l.sort(reverse=True)\n",
        "print(l)"
      ],
      "metadata": {
        "id": "MgRUcxSg6MbJ"
      },
      "execution_count": null,
      "outputs": []
    },
    {
      "cell_type": "code",
      "source": [
        "l = [746,3635,36,282,363,254,978,3532,656,432]\n",
        "l.sort(reverse = True)\n",
        "print(l)"
      ],
      "metadata": {
        "id": "qdaNq0P16OBh"
      },
      "execution_count": null,
      "outputs": []
    },
    {
      "cell_type": "markdown",
      "source": [
        "# 15-05-2025"
      ],
      "metadata": {
        "id": "A_09LjIK9yH2"
      }
    },
    {
      "cell_type": "markdown",
      "source": [
        "**Tuple**"
      ],
      "metadata": {
        "id": "DrscRAN6961r"
      }
    },
    {
      "cell_type": "code",
      "source": [
        "#what is tuple? define tuple or how can you declare a tuple\n",
        "#tuple is declared in ()\n",
        "#Tuple is defined as ordered, immutuable and it allows duplicate data"
      ],
      "metadata": {
        "id": "ZFmGDc_n95qy"
      },
      "execution_count": null,
      "outputs": []
    },
    {
      "cell_type": "markdown",
      "source": [
        "**Tuple allows duplicate data**"
      ],
      "metadata": {
        "id": "yp9au0d1Hit7"
      }
    },
    {
      "cell_type": "code",
      "source": [
        "t1 = (1,2,3,4,5,6,7,8,1,2,3,4,5,6,7)\n",
        "print(len(t1))\n",
        "print(type(t1))\n",
        "print(t1)"
      ],
      "metadata": {
        "id": "yMl-2aUkHpKF"
      },
      "execution_count": null,
      "outputs": []
    },
    {
      "cell_type": "markdown",
      "source": [
        "**tuple is ordered**"
      ],
      "metadata": {
        "id": "wLM1gjAbHvB5"
      }
    },
    {
      "cell_type": "code",
      "source": [
        "t2 = ('apple','banana','mango','pineapple','kiwi','orange','apple')\n",
        "print(t2[3])"
      ],
      "metadata": {
        "id": "FmN24d38HtgZ"
      },
      "execution_count": null,
      "outputs": []
    },
    {
      "cell_type": "code",
      "source": [
        "#access a range of fruits from 'banana','mango','pineapple','kiwi'\n",
        "print(t2[1:5])"
      ],
      "metadata": {
        "id": "sqSWYsKdHyfD"
      },
      "execution_count": null,
      "outputs": []
    },
    {
      "cell_type": "code",
      "source": [
        "print(t2[::-1])"
      ],
      "metadata": {
        "id": "uMHOvktRH1AD"
      },
      "execution_count": null,
      "outputs": []
    },
    {
      "cell_type": "markdown",
      "source": [
        "**Tuple is immutable**"
      ],
      "metadata": {
        "id": "r9GO5dHvH3Ay"
      }
    },
    {
      "cell_type": "code",
      "source": [
        "#in tuples we cannot replace, add and remove the items\n",
        "print(dir(t2))"
      ],
      "metadata": {
        "id": "WJsJXXVjH6cA"
      },
      "execution_count": null,
      "outputs": []
    },
    {
      "cell_type": "code",
      "source": [
        "#Tuples are faster then the list?--> bcz tuple is immutable"
      ],
      "metadata": {
        "id": "d5Gflc-sH7u8"
      },
      "execution_count": null,
      "outputs": []
    },
    {
      "cell_type": "code",
      "source": [
        "#How can we add the items or replace the items in tuple?\n",
        "#convert tuple into list\n",
        "t3 = ('apple', 'orange', 'kiwi', 'pineapple', 'mango', 'banana', 'apple')\n",
        "t_l = list(t3)\n",
        "print(t_l)"
      ],
      "metadata": {
        "id": "YC7Kz5UAH9cY"
      },
      "execution_count": null,
      "outputs": []
    },
    {
      "cell_type": "code",
      "source": [
        "t_l.append('watermelon')\n",
        "print(t_l)"
      ],
      "metadata": {
        "id": "Qfawuh3bH_Ek"
      },
      "execution_count": null,
      "outputs": []
    },
    {
      "cell_type": "code",
      "source": [
        "t_l.insert(4,'grapes')\n",
        "print(t_l)"
      ],
      "metadata": {
        "id": "PKuJKtN-IAuB"
      },
      "execution_count": null,
      "outputs": []
    },
    {
      "cell_type": "code",
      "source": [
        "l_t = tuple(t_l)\n",
        "print(l_t)"
      ],
      "metadata": {
        "id": "GVF6ED0EICVs"
      },
      "execution_count": null,
      "outputs": []
    },
    {
      "cell_type": "code",
      "source": [
        "#when we need to use the tuple and list?\n",
        "#tuple is used to store valueble data where we are not making any changes in future\n",
        "#ex:- aadhar, pan, password,...etc\n",
        "#where we make changes in data in future we use list--> address,phone number"
      ],
      "metadata": {
        "id": "R_MWzU2NID3D"
      },
      "execution_count": null,
      "outputs": []
    },
    {
      "cell_type": "markdown",
      "source": [
        "**SET**"
      ],
      "metadata": {
        "id": "XFi2VLU8IF4N"
      }
    },
    {
      "cell_type": "code",
      "source": [
        "#what is set? or define Set or ? How can we declare a set?\n",
        "#set is --> {}\n",
        "#set is defined as unordered, immutuable, and won't allow the duplicate data"
      ],
      "metadata": {
        "id": "GijImsL_IIu3"
      },
      "execution_count": null,
      "outputs": []
    },
    {
      "cell_type": "markdown",
      "source": [
        "**set won't allow the duplicate data**"
      ],
      "metadata": {
        "id": "sR7bMj1hIONA"
      }
    },
    {
      "cell_type": "code",
      "source": [
        "s1 = {'apple', 'orange', 'kiwi', 'pineapple', 'grapes', 'mango', 'banana', 'apple', 'watermelon'}\n",
        "print(len(s1))\n",
        "print(s1)\n",
        "print(type(s1))"
      ],
      "metadata": {
        "id": "ppWqEPEYIQB9"
      },
      "execution_count": null,
      "outputs": []
    },
    {
      "cell_type": "code",
      "source": [
        "s2 = {1,2,3,4,5,6,1,2,3,4,5,6}\n",
        "print(s2)"
      ],
      "metadata": {
        "id": "hGqxbxGdIRYo"
      },
      "execution_count": null,
      "outputs": []
    },
    {
      "cell_type": "markdown",
      "source": [
        "**set is unordered**"
      ],
      "metadata": {
        "id": "cLUzn05mITTt"
      }
    },
    {
      "cell_type": "code",
      "source": [
        "#element or items in the set doesn't have index position numbers\n",
        "s3 = {'orange', 'watermelon', 'apple', 'banana', 'pineapple', 'mango', 'kiwi', 'grapes'}\n",
        "print(s3[2])\n"
      ],
      "metadata": {
        "id": "cRn-Ug42IVKY"
      },
      "execution_count": null,
      "outputs": []
    },
    {
      "cell_type": "markdown",
      "source": [
        "**Set is immutable**"
      ],
      "metadata": {
        "id": "Q1tJZrssIXWp"
      }
    },
    {
      "cell_type": "code",
      "source": [
        "#in sets we cannot replace or swap the datapoints but we can add and remove the items from the set\n",
        "#why we cannot replace the items in set ?\n",
        "#-->set is unordered"
      ],
      "metadata": {
        "id": "kJnkjU-WIZCW"
      },
      "execution_count": null,
      "outputs": []
    },
    {
      "cell_type": "markdown",
      "source": [
        "**adding methods in set**"
      ],
      "metadata": {
        "id": "-eEdSNagIbYB"
      }
    },
    {
      "cell_type": "code",
      "source": [
        "s4 = {'orange', 'watermelon', 'apple', 'banana', 'pineapple', 'mango', 'kiwi', 'grapes'}\n",
        "#1.add():- is used to add element in set\n",
        "s4.add(5.5)\n",
        "print(s4)\n",
        "#by using the add() can we add multiple items at a time--> No"
      ],
      "metadata": {
        "colab": {
          "base_uri": "https://localhost:8080/"
        },
        "id": "o7iYxZg3IdDC",
        "outputId": "1b42499c-a9a7-4443-be81-c4430749d9bf"
      },
      "execution_count": null,
      "outputs": [
        {
          "output_type": "stream",
          "name": "stdout",
          "text": [
            "{'kiwi', 'grapes', 5.5, 'pineapple', 'orange', 'apple', 'banana', 'mango', 'watermelon'}\n"
          ]
        }
      ]
    },
    {
      "cell_type": "code",
      "source": [
        "print(dir(s4))\n",
        "\"\"\"'add', 'clear', 'copy', 'difference', 'difference_update', 'discard', 'intersection',\n",
        " 'intersection_update', 'isdisjoint', 'issubset',\n",
        "'issuperset', 'pop', 'remove', 'symmetric_difference', 'symmetric_difference_update',\n",
        "'union', 'update' \"\"\""
      ],
      "metadata": {
        "colab": {
          "base_uri": "https://localhost:8080/",
          "height": 107
        },
        "id": "G_IRyMR2Ieog",
        "outputId": "12f4506c-30dd-4468-d3ba-b55df3266658"
      },
      "execution_count": null,
      "outputs": [
        {
          "output_type": "stream",
          "name": "stdout",
          "text": [
            "['__and__', '__class__', '__class_getitem__', '__contains__', '__delattr__', '__dir__', '__doc__', '__eq__', '__format__', '__ge__', '__getattribute__', '__getstate__', '__gt__', '__hash__', '__iand__', '__init__', '__init_subclass__', '__ior__', '__isub__', '__iter__', '__ixor__', '__le__', '__len__', '__lt__', '__ne__', '__new__', '__or__', '__rand__', '__reduce__', '__reduce_ex__', '__repr__', '__ror__', '__rsub__', '__rxor__', '__setattr__', '__sizeof__', '__str__', '__sub__', '__subclasshook__', '__xor__', 'add', 'clear', 'copy', 'difference', 'difference_update', 'discard', 'intersection', 'intersection_update', 'isdisjoint', 'issubset', 'issuperset', 'pop', 'remove', 'symmetric_difference', 'symmetric_difference_update', 'union', 'update']\n"
          ]
        },
        {
          "output_type": "execute_result",
          "data": {
            "text/plain": [
              "\"'add', 'clear', 'copy', 'difference', 'difference_update', 'discard', 'intersection',\\n 'intersection_update', 'isdisjoint', 'issubset',\\n'issuperset', 'pop', 'remove', 'symmetric_difference', 'symmetric_difference_update',\\n'union', 'update' \""
            ],
            "application/vnd.google.colaboratory.intrinsic+json": {
              "type": "string"
            }
          },
          "metadata": {},
          "execution_count": 5
        }
      ]
    },
    {
      "cell_type": "code",
      "source": [
        "#update():- is used add multiple items to the set  from other collections\n",
        "l = [1,2,3,4,5,1,1,3,4,5]\n",
        "#add the list of numbers in s4\n",
        "s4.update(l)\n",
        "print(s4)"
      ],
      "metadata": {
        "colab": {
          "base_uri": "https://localhost:8080/"
        },
        "id": "n_Ecz_JzIgGq",
        "outputId": "a8bca6eb-8ea3-440c-e341-29f71fb4ec48"
      },
      "execution_count": null,
      "outputs": [
        {
          "output_type": "stream",
          "name": "stdout",
          "text": [
            "{1, 2, 'kiwi', 3, 'grapes', 5.5, 4, 5, 'pineapple', 'orange', 'apple', 'banana', 'mango', 'watermelon'}\n"
          ]
        }
      ]
    },
    {
      "cell_type": "markdown",
      "source": [
        "**remove the items from set**"
      ],
      "metadata": {
        "id": "U_Ju96lPIhwp"
      }
    },
    {
      "cell_type": "code",
      "source": [
        "#pop():- is bad practice\n",
        "s4.pop()\n",
        "print(s4)"
      ],
      "metadata": {
        "id": "X3pwKrdAIikB"
      },
      "execution_count": null,
      "outputs": []
    },
    {
      "cell_type": "code",
      "source": [
        "#remove('name_ite')\n",
        "s4.remove('watermelon')\n",
        "print(s4)"
      ],
      "metadata": {
        "id": "trVJXju4IkR2"
      },
      "execution_count": null,
      "outputs": []
    },
    {
      "cell_type": "code",
      "source": [
        "s4.remove('watermelon')\n",
        "print(s4)"
      ],
      "metadata": {
        "id": "JWX-Dj4VIpjf"
      },
      "execution_count": null,
      "outputs": []
    },
    {
      "cell_type": "code",
      "source": [
        "#discard('item_name):- similar to remove\n",
        "s4.discard('mango')\n",
        "print(s4)"
      ],
      "metadata": {
        "id": "-zLk-YTiIrnU"
      },
      "execution_count": null,
      "outputs": []
    },
    {
      "cell_type": "code",
      "source": [
        "#what is the difference between remove and discard\n",
        "s4.discard('watermelon')\n",
        "print(s4)"
      ],
      "metadata": {
        "id": "WBIFpqfWIvHo"
      },
      "execution_count": null,
      "outputs": []
    },
    {
      "cell_type": "code",
      "source": [
        "#remove() if the datapoint existit remove the data point else it rises and error\n",
        "#discard() if the datapoint exist or not it wont rise an error"
      ],
      "metadata": {
        "id": "LA8DwKAZIw4M"
      },
      "execution_count": null,
      "outputs": []
    },
    {
      "cell_type": "code",
      "source": [
        "s4.clear()\n",
        "print(s4)"
      ],
      "metadata": {
        "colab": {
          "base_uri": "https://localhost:8080/"
        },
        "id": "FxJrPzICI0RS",
        "outputId": "c1c47601-aecc-407e-dd3a-c2b61d9f8f90"
      },
      "execution_count": null,
      "outputs": [
        {
          "output_type": "stream",
          "name": "stdout",
          "text": [
            "set()\n"
          ]
        }
      ]
    },
    {
      "cell_type": "code",
      "source": [
        "#set is faster then the list, tuple?--> becuse it is unordered and immutable"
      ],
      "metadata": {
        "id": "lgSFcXxCI3dk"
      },
      "execution_count": null,
      "outputs": []
    },
    {
      "cell_type": "code",
      "source": [
        "seta = {'a','b','c','d'}\n",
        "setb = {}\n",
        "#union , intersection\n",
        "print(seta.union(setb))"
      ],
      "metadata": {
        "id": "o93YcVR2JMlh"
      },
      "execution_count": null,
      "outputs": []
    },
    {
      "cell_type": "code",
      "source": [
        "#intersection()\n",
        "print(seta.intersection(setb))"
      ],
      "metadata": {
        "id": "oc3KjmcgJPJQ"
      },
      "execution_count": null,
      "outputs": []
    },
    {
      "cell_type": "code",
      "source": [
        "print(seta.isdisjoint(setb))"
      ],
      "metadata": {
        "id": "N1I2y1GBJQ-4"
      },
      "execution_count": null,
      "outputs": []
    },
    {
      "cell_type": "code",
      "source": [
        "seta.isdisjoint()"
      ],
      "metadata": {
        "id": "Mj291nemJSyK"
      },
      "execution_count": null,
      "outputs": []
    },
    {
      "cell_type": "markdown",
      "source": [
        "**dictionary**"
      ],
      "metadata": {
        "id": "BuB0HCNCJT9-"
      }
    },
    {
      "cell_type": "code",
      "source": [
        "#what is dict or define dict or how can we  declare dict?\n",
        "#dict--> {key:value}\n",
        "#how the data can be stored in the dictionary in key:value pair\n",
        "#dictionary is defined unordered, mutable, and wont allow the duplicate data"
      ],
      "metadata": {
        "id": "NeDtGkKtJWNb"
      },
      "execution_count": null,
      "outputs": []
    },
    {
      "cell_type": "markdown",
      "source": [
        "**dictionary wont allow the duplicate data**"
      ],
      "metadata": {
        "id": "ssHsMK9nJZAu"
      }
    },
    {
      "cell_type": "code",
      "source": [
        "d1 = {\n",
        "    \"name\": \"shahul\",\n",
        "    \"gender\":'Male',\n",
        "    \"Age\":29,\n",
        "    \"education\":\"masters\",\n",
        "    \"education\":\"B.tech\"\n",
        "}\n",
        "print(len(d1))\n",
        "print(d1)\n",
        "print(type(d1))"
      ],
      "metadata": {
        "colab": {
          "base_uri": "https://localhost:8080/"
        },
        "id": "zu3bRHZ0JazD",
        "outputId": "9e3af1d7-f335-4d8f-97d4-8a34ff255e65"
      },
      "execution_count": null,
      "outputs": [
        {
          "output_type": "stream",
          "name": "stdout",
          "text": [
            "4\n",
            "{'name': 'shahul', 'gender': 'Male', 'Age': 29, 'education': 'B.tech'}\n",
            "<class 'dict'>\n"
          ]
        }
      ]
    },
    {
      "cell_type": "markdown",
      "source": [
        "**dictionary is unordered**"
      ],
      "metadata": {
        "id": "c8LEOWQ0JhJY"
      }
    },
    {
      "cell_type": "code",
      "source": [
        "#key:value pairs doesn't have index position numbers\n",
        "#How can we access the data from the dictionary?\n",
        "#using key names"
      ],
      "metadata": {
        "id": "aMHMfICUJc4k"
      },
      "execution_count": null,
      "outputs": []
    },
    {
      "cell_type": "code",
      "source": [
        "print(d1['name'])"
      ],
      "metadata": {
        "colab": {
          "base_uri": "https://localhost:8080/"
        },
        "id": "CgJ5x_wlJeg4",
        "outputId": "d42cdd48-c8de-4985-952b-bf195d11ca0a"
      },
      "execution_count": null,
      "outputs": [
        {
          "output_type": "stream",
          "name": "stdout",
          "text": [
            "shahul\n"
          ]
        }
      ]
    },
    {
      "cell_type": "code",
      "source": [
        "#print the multiple keys\n",
        "print(d1['name'],d1['Age'],d1['education'])"
      ],
      "metadata": {
        "id": "0pibSNC_JoUF"
      },
      "execution_count": null,
      "outputs": []
    },
    {
      "cell_type": "markdown",
      "source": [
        "**dictionary is mutable**"
      ],
      "metadata": {
        "id": "EVbXFvSQJqqO"
      }
    },
    {
      "cell_type": "markdown",
      "source": [
        "**Replace the values in dictionary**"
      ],
      "metadata": {
        "id": "OEbH2htOJsh4"
      }
    },
    {
      "cell_type": "code",
      "source": [
        "d1 = {\n",
        "    \"name\": \"shahul\",\n",
        "    \"gender\":'Male',\n",
        "    \"Age\":29,\n",
        "    \"education\":\"B.tech\"\n",
        "}\n",
        "d1['education'] = 'Masters in DS'\n",
        "print(d1)"
      ],
      "metadata": {
        "id": "-nqBvK2HJvd3"
      },
      "execution_count": null,
      "outputs": []
    },
    {
      "cell_type": "markdown",
      "source": [
        "**add the items in the dictionary**"
      ],
      "metadata": {
        "id": "oVxnIj1MJxjm"
      }
    },
    {
      "cell_type": "code",
      "source": [
        "d1['fruits'] = ['apple','banana','mango','kiwi']\n",
        "print(d1)"
      ],
      "metadata": {
        "id": "iWvIXr7lJzNW"
      },
      "execution_count": null,
      "outputs": []
    },
    {
      "cell_type": "code",
      "source": [
        "#print the \"mango\" from above dictionary\n",
        "print(d1['fruits'][2])"
      ],
      "metadata": {
        "id": "i8WZEiksJ0d9"
      },
      "execution_count": null,
      "outputs": []
    },
    {
      "cell_type": "markdown",
      "source": [
        "# Functions (16-05-2025)"
      ],
      "metadata": {
        "id": "uDWnY1jGJ0mn"
      }
    },
    {
      "cell_type": "code",
      "source": [
        "#what is a function?\n",
        "#function is a block of code which can be executed when we call it"
      ],
      "metadata": {
        "id": "jHzQO_AqJ7qW"
      },
      "execution_count": null,
      "outputs": []
    },
    {
      "cell_type": "code",
      "source": [
        "#what is the main purpose of the function?\n",
        "#to avoid the duplicate codes"
      ],
      "metadata": {
        "id": "XhmdxrWgLovq"
      },
      "execution_count": null,
      "outputs": []
    },
    {
      "cell_type": "code",
      "source": [
        "#How can we create our own function?\n",
        "#by using \"def\"\n",
        "def f1():\n",
        "  print(\"hello world\")\n",
        "#call function\n",
        "f1()"
      ],
      "metadata": {
        "id": "qNtxDtGnMLbz"
      },
      "execution_count": null,
      "outputs": []
    },
    {
      "cell_type": "code",
      "source": [
        "#what is a parameter?\n",
        "#when we define a function we create a variable which is known as parameter\n",
        "#what is an argumnet?\n",
        "#when we call a function we pass some values which is known as arguments."
      ],
      "metadata": {
        "id": "AvSa_rJpNXtS"
      },
      "execution_count": null,
      "outputs": []
    },
    {
      "cell_type": "code",
      "source": [
        "def f2(name):\n",
        "  print(f\"Hello {name}\")\n",
        "\n",
        "f2(\"Akash\")"
      ],
      "metadata": {
        "colab": {
          "base_uri": "https://localhost:8080/"
        },
        "id": "ssmDqGaOO5XA",
        "outputId": "fe753a45-6582-4cc6-956b-b0dcfafb0004"
      },
      "execution_count": null,
      "outputs": [
        {
          "output_type": "stream",
          "name": "stdout",
          "text": [
            "Hello Akash\n"
          ]
        }
      ]
    },
    {
      "cell_type": "code",
      "source": [
        "#how many parameters and arguments shall we give?\n",
        "#the no of parameters we created is == The no of arguments we are going"
      ],
      "metadata": {
        "id": "jmDFCSX1PNsn"
      },
      "execution_count": null,
      "outputs": []
    },
    {
      "cell_type": "code",
      "source": [
        "#create a function to check the given number is even or odd\n",
        "def check_even(num):\n",
        "  if num%2==0:\n",
        "    print('even')\n",
        "  else:\n",
        "    print('odd')\n",
        "\n",
        "check_even(5)"
      ],
      "metadata": {
        "colab": {
          "base_uri": "https://localhost:8080/"
        },
        "id": "E37LM40hPlHv",
        "outputId": "a43d2763-8f3e-4773-9b5f-c0587f0957ab"
      },
      "execution_count": null,
      "outputs": [
        {
          "output_type": "stream",
          "name": "stdout",
          "text": [
            "odd\n"
          ]
        }
      ]
    },
    {
      "cell_type": "code",
      "source": [
        "#create a funtion to check the given string is palindrom or not irrescpective letter cases.\n",
        "a = input(\"Enter your string: \")\n",
        "if a.lower() == a[::-1].lower():\n",
        "  print(\"yes\")\n",
        "else:\n",
        "  print(\"no\")\n"
      ],
      "metadata": {
        "colab": {
          "base_uri": "https://localhost:8080/"
        },
        "id": "x_HKf-yPQDz7",
        "outputId": "96546bfc-4f1a-43ce-d22b-95e5ece05e1a"
      },
      "execution_count": null,
      "outputs": [
        {
          "output_type": "stream",
          "name": "stdout",
          "text": [
            "Enter your string: aka\n",
            "yes\n"
          ]
        }
      ]
    },
    {
      "cell_type": "markdown",
      "source": [
        "# Functions (19-05-2025)"
      ],
      "metadata": {
        "id": "cYOtO3DRjrjN"
      }
    },
    {
      "cell_type": "markdown",
      "source": [
        "**KWARGS and ARGS**"
      ],
      "metadata": {
        "id": "ijmqwjBymNNz"
      }
    },
    {
      "cell_type": "code",
      "source": [
        "#i dont know how many parameters do i need to pass, then to pass, then what we have to do?\n",
        "def details(**name):\n",
        "  print(name)\n",
        "details(name = 'shahul', age = 29, gender = 'male')\n"
      ],
      "metadata": {
        "id": "a7jg_SG8laKC"
      },
      "execution_count": null,
      "outputs": []
    },
    {
      "cell_type": "code",
      "source": [
        "#i dont know how many arguments i need to pass?\n",
        "def skill(*name):\n",
        "  print(name)\n",
        "skill(\"python\",\"pandas\",\"ML\")"
      ],
      "metadata": {
        "colab": {
          "base_uri": "https://localhost:8080/"
        },
        "id": "GhSHJO-GnPkd",
        "outputId": "b697033c-b6fe-4f0f-b96f-3a7b4c05c95b"
      },
      "execution_count": 1,
      "outputs": [
        {
          "output_type": "stream",
          "name": "stdout",
          "text": [
            "('python', 'pandas', 'ML')\n"
          ]
        }
      ]
    },
    {
      "cell_type": "code",
      "source": [
        "\"\"\"1.  **->Kwargs--> Keyword arbitrary arguments\n",
        "        -> when we dont konw how many parameters we need to pass we use kwargs\n",
        "        -> The default data type for kwargs is dictionary\n",
        "\n",
        "    2.  *->ARGS--> arbitary arguments\n",
        "        --> when we dont know how many arguments we need to pass we use ARGS\n",
        "        --> The default data type for ARGS is tuple\"\"\""
      ],
      "metadata": {
        "id": "DSmdHuHjnt1i"
      },
      "execution_count": null,
      "outputs": []
    },
    {
      "cell_type": "markdown",
      "source": [
        "**Return Keyword**"
      ],
      "metadata": {
        "id": "IMs4Gl_mo1XT"
      }
    },
    {
      "cell_type": "code",
      "source": [
        "#return keyword send back the value to the celler\n",
        "#when we use the return call the function with print()\n",
        "#return key word is similar to print()"
      ],
      "metadata": {
        "id": "BlZYK-5to7_Z"
      },
      "execution_count": null,
      "outputs": []
    },
    {
      "cell_type": "code",
      "source": [
        "#write a function to print sum of arguments?\n",
        "def sum_all(*num):\n",
        "  return sum(num)\n",
        "\n",
        "print(sum_all(1,2,3))"
      ],
      "metadata": {
        "colab": {
          "base_uri": "https://localhost:8080/"
        },
        "id": "ohC5DCfspfeq",
        "outputId": "57ffe465-284f-4ddb-d2db-3bf807c45102"
      },
      "execution_count": 2,
      "outputs": [
        {
          "output_type": "stream",
          "name": "stdout",
          "text": [
            "6\n"
          ]
        }
      ]
    },
    {
      "cell_type": "code",
      "source": [
        "#create a function where is can multiply all the values?\n",
        "def multiply(*num):\n",
        "  result = 1\n",
        "  for i in num:\n",
        "    result = result * i\n",
        "  return result\n",
        "\n",
        "print(multiply(1,2,3,4,5))"
      ],
      "metadata": {
        "colab": {
          "base_uri": "https://localhost:8080/"
        },
        "id": "_aNXnLeoqbUy",
        "outputId": "89479c51-45df-4312-dd14-f5c43740a9ed"
      },
      "execution_count": 3,
      "outputs": [
        {
          "output_type": "stream",
          "name": "stdout",
          "text": [
            "120\n"
          ]
        }
      ]
    },
    {
      "cell_type": "code",
      "source": [
        "#create a function to print factorial of a number?\n",
        "#create a function to count uppercase and lowercase in a string?\n"
      ],
      "metadata": {
        "id": "iP7ACtoKrDTf"
      },
      "execution_count": null,
      "outputs": []
    },
    {
      "cell_type": "code",
      "source": [
        "#create a function to print distinct elements from the list\n",
        "#input:-[1,2,3,3,3,2,4,5]\n",
        "#experted o/p:-[1,2,3,4,5]\n",
        "def unique_list(l):\n",
        "  x = []\n",
        "  for i in l:\n",
        "    if i not in x:\n",
        "      x.append(i)\n",
        "  return x\n",
        "\n",
        "print(unique_list([1,2,3,3,3,2,4,5]))"
      ],
      "metadata": {
        "id": "BI-mHjr-rodK"
      },
      "execution_count": null,
      "outputs": []
    },
    {
      "cell_type": "code",
      "source": [
        "#write a program to print the range of prime numners?\n",
        "def prime_num(start,end):\n",
        "  for i in range(start,end+1):\n",
        "    for j in range(2,i):\n",
        "      if i%j==0:\n",
        "        break\n",
        "    else:\n",
        "      print(i,end=\" \")\n",
        "\n",
        "prime_num(20,51)\n"
      ],
      "metadata": {
        "colab": {
          "base_uri": "https://localhost:8080/"
        },
        "id": "dZfinHYjsQvh",
        "outputId": "4129136e-9011-4f86-dc5c-274ecec1f4fe"
      },
      "execution_count": 8,
      "outputs": [
        {
          "output_type": "stream",
          "name": "stdout",
          "text": [
            "23 29 31 37 41 43 47 "
          ]
        }
      ]
    },
    {
      "cell_type": "code",
      "source": [
        "#create a function to check weather a given number is prime or not?\n",
        "def prime_num(num):\n",
        "  pass\n"
      ],
      "metadata": {
        "id": "pMotWZLdwea6"
      },
      "execution_count": null,
      "outputs": []
    },
    {
      "cell_type": "markdown",
      "source": [
        "***List comprehension***"
      ],
      "metadata": {
        "id": "D-VLIhplw7Qi"
      }
    },
    {
      "cell_type": "code",
      "source": [
        "#what is list comperhension?\n",
        "#LC offers smaller line of code where a new list can be created from the existing list\n",
        "fruits = ['apple','banana','kiwi','apple','orange','pineapple']\n",
        "#separte and print the fruits which is having letters \"e\" into a new list\n",
        "new = []\n",
        "for i in fruits:\n",
        "  if 'e' in i:\n",
        "    new.append(i)\n",
        "print(new)"
      ],
      "metadata": {
        "colab": {
          "base_uri": "https://localhost:8080/"
        },
        "id": "bc3aY07lxGLX",
        "outputId": "f9803653-dab8-4b8d-ee0d-40ed0569ada7"
      },
      "execution_count": 14,
      "outputs": [
        {
          "output_type": "stream",
          "name": "stdout",
          "text": [
            "['apple', 'apple', 'orange', 'pineapple']\n"
          ]
        }
      ]
    },
    {
      "cell_type": "code",
      "source": [
        "#apply LC\n",
        "#[items for items in collection apply condition]\n",
        "new1 = [i for i in fruits if 'i' in i]\n",
        "print(new1)"
      ],
      "metadata": {
        "colab": {
          "base_uri": "https://localhost:8080/"
        },
        "id": "I-KWh2rEyJix",
        "outputId": "30012a4c-5d9b-4afb-adc2-ed7846c34934"
      },
      "execution_count": 11,
      "outputs": [
        {
          "output_type": "stream",
          "name": "stdout",
          "text": [
            "['kiwi']\n"
          ]
        }
      ]
    },
    {
      "cell_type": "code",
      "source": [
        "#print each length of item into a new list\n",
        "a= []\n",
        "for i in fruits:\n",
        "  a.append(len(i))\n",
        "print(a)"
      ],
      "metadata": {
        "colab": {
          "base_uri": "https://localhost:8080/"
        },
        "id": "meaikAdwypXR",
        "outputId": "c0811d1e-e1ea-488e-affc-794e594ef3fe"
      },
      "execution_count": 12,
      "outputs": [
        {
          "output_type": "stream",
          "name": "stdout",
          "text": [
            "[5, 6, 4, 5, 6]\n"
          ]
        }
      ]
    },
    {
      "cell_type": "code",
      "source": [
        "new2 = [len(i) for i in fruits]\n",
        "print(new2)"
      ],
      "metadata": {
        "colab": {
          "base_uri": "https://localhost:8080/"
        },
        "id": "3Dlcp7mvy5IS",
        "outputId": "7998683a-e626-4129-d687-a332a58568dc"
      },
      "execution_count": 13,
      "outputs": [
        {
          "output_type": "stream",
          "name": "stdout",
          "text": [
            "[5, 6, 4, 5, 6]\n"
          ]
        }
      ]
    },
    {
      "cell_type": "code",
      "source": [
        "fruits = ['apple','banana','kiwi','apple','orange','pineapple']\n",
        "#print the items in above collection in uppercase\n",
        "new3 = [i.upper() for i in fruits]\n",
        "print(new3)"
      ],
      "metadata": {
        "colab": {
          "base_uri": "https://localhost:8080/"
        },
        "id": "WyC_iksfzJW0",
        "outputId": "9357e875-d5cd-4901-a3e7-9e33b973c386"
      },
      "execution_count": 15,
      "outputs": [
        {
          "output_type": "stream",
          "name": "stdout",
          "text": [
            "['APPLE', 'BANANA', 'KIWI', 'APPLE', 'ORANGE', 'PINEAPPLE']\n"
          ]
        }
      ]
    },
    {
      "cell_type": "code",
      "source": [
        "#print a range of even numbers from 1 to 100 in a new list\n",
        "new4 = [i for i in range(1,101) if i%2==0]\n",
        "print(new4)"
      ],
      "metadata": {
        "colab": {
          "base_uri": "https://localhost:8080/"
        },
        "id": "Y-Os6JJtzfjQ",
        "outputId": "c1b9d342-c350-4f34-d87c-8aec590f8043"
      },
      "execution_count": 16,
      "outputs": [
        {
          "output_type": "stream",
          "name": "stdout",
          "text": [
            "[2, 4, 6, 8, 10, 12, 14, 16, 18, 20, 22, 24, 26, 28, 30, 32, 34, 36, 38, 40, 42, 44, 46, 48, 50, 52, 54, 56, 58, 60, 62, 64, 66, 68, 70, 72, 74, 76, 78, 80, 82, 84, 86, 88, 90, 92, 94, 96, 98, 100]\n"
          ]
        }
      ]
    },
    {
      "cell_type": "code",
      "source": [
        "lamaba\n",
        "Map\n"
      ],
      "metadata": {
        "id": "QVw1BtDO0Ooe"
      },
      "execution_count": null,
      "outputs": []
    }
  ]
}